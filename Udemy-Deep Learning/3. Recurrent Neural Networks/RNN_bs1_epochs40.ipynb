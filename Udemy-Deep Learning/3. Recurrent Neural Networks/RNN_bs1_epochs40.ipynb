{
  "nbformat": 4,
  "nbformat_minor": 0,
  "metadata": {
    "colab": {
      "name": "Recurrent Neural Network.ipynb",
      "version": "0.3.2",
      "provenance": [],
      "collapsed_sections": []
    },
    "kernelspec": {
      "name": "python3",
      "display_name": "Python 3"
    },
    "accelerator": "GPU"
  },
  "cells": [
    {
      "metadata": {
        "id": "Q0rIylYeZBdK",
        "colab_type": "code",
        "colab": {}
      },
      "cell_type": "code",
      "source": [
        "#For reproducable results on CPU:\n",
        "#from numpy.random import seed\n",
        "#seed(1)\n",
        "#from tensorflow import set_random_seed\n",
        "#set_random_seed(2)\n",
        "#!pip uninstall tensorflow\n",
        "#!pip3 install --upgrade tensorflow-gpu==1.4\n"
      ],
      "execution_count": 0,
      "outputs": []
    },
    {
      "metadata": {
        "id": "ZCdq3ear5i27",
        "colab_type": "code",
        "colab": {
          "base_uri": "https://localhost:8080/",
          "height": 296
        },
        "outputId": "6307ce41-d283-4efa-b878-fad2573989fc"
      },
      "cell_type": "code",
      "source": [
        "# Recurrent Neural Network\n",
        "\n",
        "# Part 1 - Data Preprocessing\n",
        "\n",
        "# Importing the libraries\n",
        "import numpy as np\n",
        "import matplotlib.pyplot as plt\n",
        "import pandas as pd\n",
        "\n",
        "# Importing the dataset\n",
        "!curl https://raw.githubusercontent.com/muke888/UdemyDeepLearning/master/3.%20Recurrent%20Neural%20Networks/Google_Stock_Price_Train.csv -o Google_Stock_Price_Train.csv\n",
        "!curl https://raw.githubusercontent.com/muke888/UdemyDeepLearning/master/3.%20Recurrent%20Neural%20Networks/Google_Stock_Price_Test.csv -o Google_Stock_Price_Test.csv\n",
        "  \n",
        "dataset_train = pd.read_csv('Google_Stock_Price_Train.csv')\n",
        "dataset_train.head()"
      ],
      "execution_count": 1,
      "outputs": [
        {
          "output_type": "stream",
          "text": [
            "  % Total    % Received % Xferd  Average Speed   Time    Time     Time  Current\n",
            "                                 Dload  Upload   Total   Spent    Left  Speed\n",
            "100 63488  100 63488    0     0   346k      0 --:--:-- --:--:-- --:--:--  346k\n",
            "  % Total    % Received % Xferd  Average Speed   Time    Time     Time  Current\n",
            "                                 Dload  Upload   Total   Spent    Left  Speed\n",
            "100  1029  100  1029    0     0   6814      0 --:--:-- --:--:-- --:--:--  6814\n"
          ],
          "name": "stdout"
        },
        {
          "output_type": "execute_result",
          "data": {
            "text/html": [
              "<div>\n",
              "<style scoped>\n",
              "    .dataframe tbody tr th:only-of-type {\n",
              "        vertical-align: middle;\n",
              "    }\n",
              "\n",
              "    .dataframe tbody tr th {\n",
              "        vertical-align: top;\n",
              "    }\n",
              "\n",
              "    .dataframe thead th {\n",
              "        text-align: right;\n",
              "    }\n",
              "</style>\n",
              "<table border=\"1\" class=\"dataframe\">\n",
              "  <thead>\n",
              "    <tr style=\"text-align: right;\">\n",
              "      <th></th>\n",
              "      <th>Date</th>\n",
              "      <th>Open</th>\n",
              "      <th>High</th>\n",
              "      <th>Low</th>\n",
              "      <th>Close</th>\n",
              "      <th>Volume</th>\n",
              "    </tr>\n",
              "  </thead>\n",
              "  <tbody>\n",
              "    <tr>\n",
              "      <th>0</th>\n",
              "      <td>1/3/2012</td>\n",
              "      <td>325.25</td>\n",
              "      <td>332.83</td>\n",
              "      <td>324.97</td>\n",
              "      <td>663.59</td>\n",
              "      <td>7,380,500</td>\n",
              "    </tr>\n",
              "    <tr>\n",
              "      <th>1</th>\n",
              "      <td>1/4/2012</td>\n",
              "      <td>331.27</td>\n",
              "      <td>333.87</td>\n",
              "      <td>329.08</td>\n",
              "      <td>666.45</td>\n",
              "      <td>5,749,400</td>\n",
              "    </tr>\n",
              "    <tr>\n",
              "      <th>2</th>\n",
              "      <td>1/5/2012</td>\n",
              "      <td>329.83</td>\n",
              "      <td>330.75</td>\n",
              "      <td>326.89</td>\n",
              "      <td>657.21</td>\n",
              "      <td>6,590,300</td>\n",
              "    </tr>\n",
              "    <tr>\n",
              "      <th>3</th>\n",
              "      <td>1/6/2012</td>\n",
              "      <td>328.34</td>\n",
              "      <td>328.77</td>\n",
              "      <td>323.68</td>\n",
              "      <td>648.24</td>\n",
              "      <td>5,405,900</td>\n",
              "    </tr>\n",
              "    <tr>\n",
              "      <th>4</th>\n",
              "      <td>1/9/2012</td>\n",
              "      <td>322.04</td>\n",
              "      <td>322.29</td>\n",
              "      <td>309.46</td>\n",
              "      <td>620.76</td>\n",
              "      <td>11,688,800</td>\n",
              "    </tr>\n",
              "  </tbody>\n",
              "</table>\n",
              "</div>"
            ],
            "text/plain": [
              "       Date    Open    High     Low   Close      Volume\n",
              "0  1/3/2012  325.25  332.83  324.97  663.59   7,380,500\n",
              "1  1/4/2012  331.27  333.87  329.08  666.45   5,749,400\n",
              "2  1/5/2012  329.83  330.75  326.89  657.21   6,590,300\n",
              "3  1/6/2012  328.34  328.77  323.68  648.24   5,405,900\n",
              "4  1/9/2012  322.04  322.29  309.46  620.76  11,688,800"
            ]
          },
          "metadata": {
            "tags": []
          },
          "execution_count": 1
        }
      ]
    },
    {
      "metadata": {
        "id": "k2DJnwO57EWS",
        "colab_type": "code",
        "colab": {
          "base_uri": "https://localhost:8080/",
          "height": 118
        },
        "outputId": "a52275c2-9a2b-46bd-a803-5143aae72627"
      },
      "cell_type": "code",
      "source": [
        "training_set = dataset_train.iloc[:, 1:2].values\n",
        "print(training_set[:5])\n",
        "print(training_set.shape)"
      ],
      "execution_count": 2,
      "outputs": [
        {
          "output_type": "stream",
          "text": [
            "[[325.25]\n",
            " [331.27]\n",
            " [329.83]\n",
            " [328.34]\n",
            " [322.04]]\n",
            "(1258, 1)\n"
          ],
          "name": "stdout"
        }
      ]
    },
    {
      "metadata": {
        "id": "K2u_rISb7ddU",
        "colab_type": "code",
        "colab": {}
      },
      "cell_type": "code",
      "source": [
        "# Feature Scaling\n",
        "from sklearn.preprocessing import MinMaxScaler\n",
        "sc = MinMaxScaler(feature_range = (0, 1))\n",
        "training_set_scaled = sc.fit_transform(training_set)"
      ],
      "execution_count": 0,
      "outputs": []
    },
    {
      "metadata": {
        "id": "YLdGZV-E7dfp",
        "colab_type": "code",
        "colab": {}
      },
      "cell_type": "code",
      "source": [
        "# Creating a data structure with 60 timesteps and 1 output\n",
        "X_train = []\n",
        "y_train = []\n",
        "for i in range(60, 1258):\n",
        "    X_train.append(training_set_scaled[i-60:i, 0])\n",
        "    y_train.append(training_set_scaled[i, 0])\n",
        "X_train, y_train = np.array(X_train), np.array(y_train)"
      ],
      "execution_count": 0,
      "outputs": []
    },
    {
      "metadata": {
        "id": "-Adv74f27dh4",
        "colab_type": "code",
        "colab": {
          "base_uri": "https://localhost:8080/",
          "height": 235
        },
        "outputId": "888d1174-2009-470c-d064-ad96373ef63e"
      },
      "cell_type": "code",
      "source": [
        "print(X_train[0])\n",
        "print(X_train.shape)\n",
        "print(y_train[0])\n",
        "print(y_train.shape)"
      ],
      "execution_count": 5,
      "outputs": [
        {
          "output_type": "stream",
          "text": [
            "[0.08581368 0.09701243 0.09433366 0.09156187 0.07984225 0.0643277\n",
            " 0.0585423  0.06568569 0.06109085 0.06639259 0.0614257  0.07474514\n",
            " 0.02797827 0.02379269 0.02409033 0.0159238  0.01078949 0.00967334\n",
            " 0.01642607 0.02100231 0.02280676 0.02273235 0.02810849 0.03212665\n",
            " 0.0433812  0.04475779 0.04790163 0.0440695  0.04648783 0.04745517\n",
            " 0.04873875 0.03936305 0.04137213 0.04034898 0.04784582 0.04325099\n",
            " 0.04356723 0.04286033 0.04602277 0.05398467 0.05738894 0.05714711\n",
            " 0.05569611 0.04421832 0.04514845 0.04605997 0.04412531 0.03675869\n",
            " 0.04486941 0.05065481 0.05214302 0.05612397 0.05818885 0.06540665\n",
            " 0.06882953 0.07243843 0.07993526 0.07846566 0.08034452 0.08497656]\n",
            "(1198, 60)\n",
            "0.08627874097775134\n",
            "(1198,)\n"
          ],
          "name": "stdout"
        }
      ]
    },
    {
      "metadata": {
        "id": "M4BDCfT07dkB",
        "colab_type": "code",
        "colab": {
          "base_uri": "https://localhost:8080/",
          "height": 1042
        },
        "outputId": "cc9f6d38-2986-4db7-97e6-b62fcddacb7c"
      },
      "cell_type": "code",
      "source": [
        "# Reshaping\n",
        "#X_train = np.reshape(X_train, (1198, 60, 1))\n",
        "X_train = np.reshape(X_train, (X_train.shape[0], X_train.shape[1], 1))\n",
        "print(X_train[0])\n",
        "print(X_train.shape)"
      ],
      "execution_count": 6,
      "outputs": [
        {
          "output_type": "stream",
          "text": [
            "[[0.08581368]\n",
            " [0.09701243]\n",
            " [0.09433366]\n",
            " [0.09156187]\n",
            " [0.07984225]\n",
            " [0.0643277 ]\n",
            " [0.0585423 ]\n",
            " [0.06568569]\n",
            " [0.06109085]\n",
            " [0.06639259]\n",
            " [0.0614257 ]\n",
            " [0.07474514]\n",
            " [0.02797827]\n",
            " [0.02379269]\n",
            " [0.02409033]\n",
            " [0.0159238 ]\n",
            " [0.01078949]\n",
            " [0.00967334]\n",
            " [0.01642607]\n",
            " [0.02100231]\n",
            " [0.02280676]\n",
            " [0.02273235]\n",
            " [0.02810849]\n",
            " [0.03212665]\n",
            " [0.0433812 ]\n",
            " [0.04475779]\n",
            " [0.04790163]\n",
            " [0.0440695 ]\n",
            " [0.04648783]\n",
            " [0.04745517]\n",
            " [0.04873875]\n",
            " [0.03936305]\n",
            " [0.04137213]\n",
            " [0.04034898]\n",
            " [0.04784582]\n",
            " [0.04325099]\n",
            " [0.04356723]\n",
            " [0.04286033]\n",
            " [0.04602277]\n",
            " [0.05398467]\n",
            " [0.05738894]\n",
            " [0.05714711]\n",
            " [0.05569611]\n",
            " [0.04421832]\n",
            " [0.04514845]\n",
            " [0.04605997]\n",
            " [0.04412531]\n",
            " [0.03675869]\n",
            " [0.04486941]\n",
            " [0.05065481]\n",
            " [0.05214302]\n",
            " [0.05612397]\n",
            " [0.05818885]\n",
            " [0.06540665]\n",
            " [0.06882953]\n",
            " [0.07243843]\n",
            " [0.07993526]\n",
            " [0.07846566]\n",
            " [0.08034452]\n",
            " [0.08497656]]\n",
            "(1198, 60, 1)\n"
          ],
          "name": "stdout"
        }
      ]
    },
    {
      "metadata": {
        "id": "1XfggXQiCxku",
        "colab_type": "code",
        "colab": {
          "base_uri": "https://localhost:8080/",
          "height": 84
        },
        "outputId": "c03e4f50-7cfd-4be0-c82c-d9305c8712d3"
      },
      "cell_type": "code",
      "source": [
        "# Getting the real stock price of 2017\n",
        "dataset_test = pd.read_csv('Google_Stock_Price_Test.csv')\n",
        "real_stock_price = dataset_test.iloc[:, 1:2].values\n",
        "print(dataset_test.shape)\n",
        "real_stock_price[:3]"
      ],
      "execution_count": 7,
      "outputs": [
        {
          "output_type": "stream",
          "text": [
            "(20, 6)\n"
          ],
          "name": "stdout"
        },
        {
          "output_type": "execute_result",
          "data": {
            "text/plain": [
              "array([[778.81],\n",
              "       [788.36],\n",
              "       [786.08]])"
            ]
          },
          "metadata": {
            "tags": []
          },
          "execution_count": 7
        }
      ]
    },
    {
      "metadata": {
        "id": "rx5WwVXSD6ub",
        "colab_type": "code",
        "colab": {
          "base_uri": "https://localhost:8080/",
          "height": 185
        },
        "outputId": "dfd04837-088f-4bda-861d-24e7af05b996"
      },
      "cell_type": "code",
      "source": [
        "dataset_total = pd.concat((dataset_train['Open'], dataset_test['Open']), axis = 0)\n",
        "#inputs = dataset_total[1278-20-60:]\n",
        "inputs = dataset_total[len(dataset_total) - len(dataset_test) - 60:].values\n",
        "inputs"
      ],
      "execution_count": 8,
      "outputs": [
        {
          "output_type": "execute_result",
          "data": {
            "text/plain": [
              "array([779.  , 779.66, 777.71, 786.66, 783.76, 781.22, 781.65, 779.8 ,\n",
              "       787.85, 798.24, 803.3 , 795.  , 804.9 , 816.68, 806.34, 801.  ,\n",
              "       808.35, 795.47, 782.89, 778.2 , 767.25, 750.66, 774.5 , 783.4 ,\n",
              "       779.94, 791.17, 756.54, 755.6 , 746.97, 755.2 , 766.92, 771.37,\n",
              "       762.61, 772.63, 767.73, 764.26, 760.  , 771.53, 770.07, 757.44,\n",
              "       744.59, 757.71, 764.73, 761.  , 772.48, 780.  , 785.04, 793.9 ,\n",
              "       797.4 , 797.34, 800.4 , 790.22, 796.76, 795.84, 792.36, 790.9 ,\n",
              "       790.68, 793.7 , 783.33, 782.75, 778.81, 788.36, 786.08, 795.26,\n",
              "       806.4 , 807.86, 805.  , 807.14, 807.48, 807.08, 805.81, 805.12,\n",
              "       806.91, 807.25, 822.3 , 829.62, 837.81, 834.71, 814.66, 796.86])"
            ]
          },
          "metadata": {
            "tags": []
          },
          "execution_count": 8
        }
      ]
    },
    {
      "metadata": {
        "id": "AKLaqi_dD63z",
        "colab_type": "code",
        "colab": {
          "base_uri": "https://localhost:8080/",
          "height": 34
        },
        "outputId": "dac28ee2-803c-4adf-cbaf-6b4b19cd8a08"
      },
      "cell_type": "code",
      "source": [
        "inputs = inputs.reshape(-1,1)\n",
        "inputs = sc.transform(inputs)\n",
        "inputs[0]\n",
        "inputs.shape"
      ],
      "execution_count": 9,
      "outputs": [
        {
          "output_type": "execute_result",
          "data": {
            "text/plain": [
              "(80, 1)"
            ]
          },
          "metadata": {
            "tags": []
          },
          "execution_count": 9
        }
      ]
    },
    {
      "metadata": {
        "id": "1gmxryVlHWOL",
        "colab_type": "code",
        "colab": {}
      },
      "cell_type": "code",
      "source": [
        "X_test = []\n",
        "y_test = []\n",
        "for i in range(60, 80):\n",
        "    X_test.append(inputs[i-60:i, 0])\n",
        "    y_test.append(inputs[i, 0])\n",
        "X_test, y_test = np.array(X_test), np.array(y_test)\n",
        "X_test = np.reshape(X_test, (X_test.shape[0], X_test.shape[1], 1))"
      ],
      "execution_count": 0,
      "outputs": []
    },
    {
      "metadata": {
        "id": "iULb2YJA6xlc",
        "colab_type": "code",
        "colab": {
          "base_uri": "https://localhost:8080/",
          "height": 1394
        },
        "outputId": "66231f94-1673-423f-89c3-80aea6af3cae"
      },
      "cell_type": "code",
      "source": [
        "# Part 2 - Building the RNN\n",
        "\n",
        "# Importing the Keras libraries and packages\n",
        "from keras.models import Sequential\n",
        "from keras.layers import Dense\n",
        "#from keras.layers import LSTM\n",
        "from keras.layers import CuDNNLSTM # For GPU only\n",
        "from keras.layers import Dropout\n",
        "\n",
        "\n",
        "# Initialising the RNN\n",
        "regressor = Sequential()\n",
        "\n",
        "# Adding the first LSTM layer and some Dropout regularisation\n",
        "regressor.add(CuDNNLSTM(units = 50, return_sequences = True, input_shape = (60, 1)))\n",
        "regressor.add(Dropout(0.2))\n",
        "\n",
        "# Adding a second LSTM layer and some Dropout regularisation\n",
        "regressor.add(CuDNNLSTM(units = 50, return_sequences = True))\n",
        "regressor.add(Dropout(0.2))\n",
        "\n",
        "# Adding a third LSTM layer and some Dropout regularisation\n",
        "regressor.add(CuDNNLSTM(units = 50, return_sequences = True))\n",
        "regressor.add(Dropout(0.2))\n",
        "\n",
        "# Adding a fourth LSTM layer and some Dropout regularisation\n",
        "regressor.add(CuDNNLSTM(units = 50))\n",
        "regressor.add(Dropout(0.2))\n",
        "\n",
        "# Adding the output layer\n",
        "regressor.add(Dense(units = 1))\n",
        "\n",
        "# Compiling the RNN\n",
        "regressor.compile(optimizer = 'adam', loss = 'mean_squared_error')\n",
        "\n",
        "# Fitting the RNN to the Training set\n",
        "regressor.fit(X_train, y_train, epochs = 40, batch_size = 1, verbose=1,\n",
        "          validation_data=(X_test, y_test))"
      ],
      "execution_count": 12,
      "outputs": [
        {
          "output_type": "stream",
          "text": [
            "Train on 1198 samples, validate on 20 samples\n",
            "Epoch 1/40\n",
            "1198/1198 [==============================] - 62s 52ms/step - loss: 0.0106 - val_loss: 0.0036\n",
            "Epoch 2/40\n",
            "1198/1198 [==============================] - 62s 51ms/step - loss: 0.0061 - val_loss: 0.0026\n",
            "Epoch 3/40\n",
            "1198/1198 [==============================] - 61s 51ms/step - loss: 0.0049 - val_loss: 5.9569e-04\n",
            "Epoch 4/40\n",
            "1198/1198 [==============================] - 61s 51ms/step - loss: 0.0044 - val_loss: 0.0086\n",
            "Epoch 5/40\n",
            "1198/1198 [==============================] - 61s 51ms/step - loss: 0.0039 - val_loss: 5.4161e-04\n",
            "Epoch 6/40\n",
            "1198/1198 [==============================] - 61s 51ms/step - loss: 0.0034 - val_loss: 0.0059\n",
            "Epoch 7/40\n",
            "1198/1198 [==============================] - 62s 51ms/step - loss: 0.0034 - val_loss: 0.0033\n",
            "Epoch 8/40\n",
            "1198/1198 [==============================] - 61s 51ms/step - loss: 0.0031 - val_loss: 0.0014\n",
            "Epoch 9/40\n",
            "1198/1198 [==============================] - 61s 51ms/step - loss: 0.0026 - val_loss: 5.2400e-04\n",
            "Epoch 10/40\n",
            "1198/1198 [==============================] - 62s 51ms/step - loss: 0.0025 - val_loss: 0.0104\n",
            "Epoch 11/40\n",
            "1198/1198 [==============================] - 62s 51ms/step - loss: 0.0025 - val_loss: 0.0067\n",
            "Epoch 12/40\n",
            "1198/1198 [==============================] - 59s 49ms/step - loss: 0.0028 - val_loss: 0.0047\n",
            "Epoch 13/40\n",
            "1198/1198 [==============================] - 61s 51ms/step - loss: 0.0026 - val_loss: 0.0093\n",
            "Epoch 14/40\n",
            "1198/1198 [==============================] - 61s 51ms/step - loss: 0.0021 - val_loss: 0.0025\n",
            "Epoch 15/40\n",
            "1198/1198 [==============================] - 61s 51ms/step - loss: 0.0022 - val_loss: 0.0011\n",
            "Epoch 16/40\n",
            "1198/1198 [==============================] - 62s 51ms/step - loss: 0.0020 - val_loss: 0.0060\n",
            "Epoch 17/40\n",
            "1198/1198 [==============================] - 62s 52ms/step - loss: 0.0020 - val_loss: 0.0010\n",
            "Epoch 18/40\n",
            "1198/1198 [==============================] - 62s 51ms/step - loss: 0.0020 - val_loss: 0.0024\n",
            "Epoch 19/40\n",
            "1198/1198 [==============================] - 62s 51ms/step - loss: 0.0018 - val_loss: 0.0013\n",
            "Epoch 20/40\n",
            "1198/1198 [==============================] - 62s 52ms/step - loss: 0.0017 - val_loss: 0.0065\n",
            "Epoch 21/40\n",
            "1198/1198 [==============================] - 61s 51ms/step - loss: 0.0017 - val_loss: 0.0011\n",
            "Epoch 22/40\n",
            "1198/1198 [==============================] - 62s 51ms/step - loss: 0.0017 - val_loss: 0.0025\n",
            "Epoch 23/40\n",
            "1198/1198 [==============================] - 61s 51ms/step - loss: 0.0015 - val_loss: 0.0014\n",
            "Epoch 24/40\n",
            "1198/1198 [==============================] - 61s 51ms/step - loss: 0.0017 - val_loss: 0.0043\n",
            "Epoch 25/40\n",
            "1198/1198 [==============================] - 61s 51ms/step - loss: 0.0016 - val_loss: 0.0038\n",
            "Epoch 26/40\n",
            "1198/1198 [==============================] - 62s 51ms/step - loss: 0.0016 - val_loss: 0.0020\n",
            "Epoch 27/40\n",
            "1198/1198 [==============================] - 61s 51ms/step - loss: 0.0016 - val_loss: 0.0011\n",
            "Epoch 28/40\n",
            "1198/1198 [==============================] - 62s 51ms/step - loss: 0.0016 - val_loss: 0.0054\n",
            "Epoch 29/40\n",
            "1198/1198 [==============================] - 61s 51ms/step - loss: 0.0018 - val_loss: 0.0024\n",
            "Epoch 30/40\n",
            "1198/1198 [==============================] - 62s 51ms/step - loss: 0.0013 - val_loss: 0.0026\n",
            "Epoch 31/40\n",
            "1198/1198 [==============================] - 62s 51ms/step - loss: 0.0015 - val_loss: 0.0018\n",
            "Epoch 32/40\n",
            "1198/1198 [==============================] - 62s 51ms/step - loss: 0.0015 - val_loss: 8.2521e-04\n",
            "Epoch 33/40\n",
            "1198/1198 [==============================] - 62s 51ms/step - loss: 0.0015 - val_loss: 0.0038\n",
            "Epoch 34/40\n",
            "1198/1198 [==============================] - 62s 51ms/step - loss: 0.0014 - val_loss: 0.0026\n",
            "Epoch 35/40\n",
            "1198/1198 [==============================] - 61s 51ms/step - loss: 0.0015 - val_loss: 0.0063\n",
            "Epoch 36/40\n",
            "1198/1198 [==============================] - 61s 51ms/step - loss: 0.0015 - val_loss: 0.0031\n",
            "Epoch 37/40\n",
            "1198/1198 [==============================] - 61s 51ms/step - loss: 0.0014 - val_loss: 3.9127e-04\n",
            "Epoch 38/40\n",
            "1198/1198 [==============================] - 62s 51ms/step - loss: 0.0015 - val_loss: 0.0021\n",
            "Epoch 39/40\n",
            "1198/1198 [==============================] - 64s 53ms/step - loss: 0.0013 - val_loss: 0.0029\n",
            "Epoch 40/40\n",
            "1198/1198 [==============================] - 61s 51ms/step - loss: 0.0014 - val_loss: 0.0012\n"
          ],
          "name": "stdout"
        },
        {
          "output_type": "execute_result",
          "data": {
            "text/plain": [
              "<keras.callbacks.History at 0x7f275bb93b00>"
            ]
          },
          "metadata": {
            "tags": []
          },
          "execution_count": 12
        }
      ]
    },
    {
      "metadata": {
        "id": "bYU7FToF5v-E",
        "colab_type": "code",
        "colab": {
          "base_uri": "https://localhost:8080/",
          "height": 353
        },
        "outputId": "629a655b-86c0-4bd8-c5f6-48c53dbc21a2"
      },
      "cell_type": "code",
      "source": [
        "# Getting the predicted stock price of 2017\n",
        "predicted_stock_price = regressor.predict(X_test)\n",
        "predicted_stock_price = sc.inverse_transform(predicted_stock_price)\n",
        "print(predicted_stock_price)"
      ],
      "execution_count": 13,
      "outputs": [
        {
          "output_type": "stream",
          "text": [
            "[[786.00885]\n",
            " [784.62396]\n",
            " [786.53864]\n",
            " [787.1167 ]\n",
            " [788.6514 ]\n",
            " [790.8433 ]\n",
            " [793.1639 ]\n",
            " [793.78015]\n",
            " [793.65814]\n",
            " [794.1608 ]\n",
            " [794.8764 ]\n",
            " [794.9939 ]\n",
            " [794.7277 ]\n",
            " [794.7769 ]\n",
            " [795.2015 ]\n",
            " [795.4455 ]\n",
            " [797.27014]\n",
            " [799.0763 ]\n",
            " [801.6506 ]\n",
            " [801.6613 ]]\n"
          ],
          "name": "stdout"
        }
      ]
    },
    {
      "metadata": {
        "id": "k3xqwh9r5wAJ",
        "colab_type": "code",
        "colab": {
          "base_uri": "https://localhost:8080/",
          "height": 376
        },
        "outputId": "0fe570dc-4786-4377-b0f8-81e0b72542ff"
      },
      "cell_type": "code",
      "source": [
        "# Visualising the results\n",
        "plt.plot(real_stock_price, color = 'red', label = 'Real Google Stock Price')\n",
        "plt.plot(predicted_stock_price, color = 'blue', label = 'Predicted Google Stock Price')\n",
        "plt.title('Google Stock Price Prediction')\n",
        "plt.xlabel('Time')\n",
        "plt.ylabel('Google Stock Price')\n",
        "plt.legend()\n",
        "plt.show()"
      ],
      "execution_count": 14,
      "outputs": [
        {
          "output_type": "display_data",
          "data": {
            "image/png": "[encoded data removed]",
            "text/plain": [
              "<matplotlib.figure.Figure at 0x7f275aff47b8>"
            ]
          },
          "metadata": {
            "tags": []
          }
        }
      ]
    }
  ]
}