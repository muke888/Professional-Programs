{
  "nbformat": 4,
  "nbformat_minor": 0,
  "metadata": {
    "colab": {
      "name": "Batch normalization - ANN.ipynb",
      "version": "0.3.2",
      "provenance": [],
      "collapsed_sections": []
    },
    "kernelspec": {
      "name": "python3",
      "display_name": "Python 3"
    },
    "accelerator": "GPU"
  },
  "cells": [
    {
      "metadata": {
        "id": "hW4AZe8yyuFA",
        "colab_type": "code",
        "outputId": "dc7f8bd5-d56a-44a2-fdb8-c3c58741ef64",
        "colab": {
          "base_uri": "https://localhost:8080/",
          "height": 67
        }
      },
      "cell_type": "code",
      "source": [
        "# Artificial Neural Network\n",
        "\n",
        "# Installing Theano\n",
        "# pip install --upgrade --no-deps git+git://github.com/Theano/Theano.git\n",
        "\n",
        "# Installing Tensorflow\n",
        "# Install Tensorflow from the website: https://www.tensorflow.org/\n",
        "# Installing Keras\n",
        "# pip install --upgrade keras\n",
        "\n",
        "# Part 1 - Data Preprocessing\n",
        "\n",
        "# Importing the libraries\n",
        "import numpy as np\n",
        "import matplotlib.pyplot as plt\n",
        "import pandas as pd\n",
        "\n",
        "# Importing the dataset\n",
        "!curl https://raw.githubusercontent.com/muke888/UdemyDeepLearning/master/1.Artificial%20Neural%20Networks/Churn_Modelling.csv -o Churn_Modelling.csv"
      ],
      "execution_count": 1,
      "outputs": [
        {
          "output_type": "stream",
          "text": [
            "  % Total    % Received % Xferd  Average Speed   Time    Time     Time  Current\n",
            "                                 Dload  Upload   Total   Spent    Left  Speed\n",
            "\r  0     0    0     0    0     0      0      0 --:--:-- --:--:-- --:--:--     0\r100  668k  100  668k    0     0  1588k      0 --:--:-- --:--:-- --:--:-- 1588k\n"
          ],
          "name": "stdout"
        }
      ]
    },
    {
      "metadata": {
        "id": "pum2C8aasuUo",
        "colab_type": "code",
        "outputId": "5e757db3-137f-4b5d-c825-13a1104486b0",
        "colab": {
          "base_uri": "https://localhost:8080/",
          "height": 514
        }
      },
      "cell_type": "code",
      "source": [
        "# Importing the dataset, predicting customer churn\n",
        "dataset = pd.read_csv('Churn_Modelling.csv')\n",
        "X = dataset.iloc[:, 3:13].values #exclude first 3 columns as irrelevant\n",
        "y = dataset.iloc[:, 13].values\n",
        "dataset.info()\n",
        "dataset.head()"
      ],
      "execution_count": 2,
      "outputs": [
        {
          "output_type": "stream",
          "text": [
            "<class 'pandas.core.frame.DataFrame'>\n",
            "RangeIndex: 10000 entries, 0 to 9999\n",
            "Data columns (total 14 columns):\n",
            "RowNumber          10000 non-null int64\n",
            "CustomerId         10000 non-null int64\n",
            "Surname            10000 non-null object\n",
            "CreditScore        10000 non-null int64\n",
            "Geography          10000 non-null object\n",
            "Gender             10000 non-null object\n",
            "Age                10000 non-null int64\n",
            "Tenure             10000 non-null int64\n",
            "Balance            10000 non-null float64\n",
            "NumOfProducts      10000 non-null int64\n",
            "HasCrCard          10000 non-null int64\n",
            "IsActiveMember     10000 non-null int64\n",
            "EstimatedSalary    10000 non-null float64\n",
            "Exited             10000 non-null int64\n",
            "dtypes: float64(2), int64(9), object(3)\n",
            "memory usage: 1.1+ MB\n"
          ],
          "name": "stdout"
        },
        {
          "output_type": "execute_result",
          "data": {
            "text/html": [
              "<div>\n",
              "<style scoped>\n",
              "    .dataframe tbody tr th:only-of-type {\n",
              "        vertical-align: middle;\n",
              "    }\n",
              "\n",
              "    .dataframe tbody tr th {\n",
              "        vertical-align: top;\n",
              "    }\n",
              "\n",
              "    .dataframe thead th {\n",
              "        text-align: right;\n",
              "    }\n",
              "</style>\n",
              "<table border=\"1\" class=\"dataframe\">\n",
              "  <thead>\n",
              "    <tr style=\"text-align: right;\">\n",
              "      <th></th>\n",
              "      <th>RowNumber</th>\n",
              "      <th>CustomerId</th>\n",
              "      <th>Surname</th>\n",
              "      <th>CreditScore</th>\n",
              "      <th>Geography</th>\n",
              "      <th>Gender</th>\n",
              "      <th>Age</th>\n",
              "      <th>Tenure</th>\n",
              "      <th>Balance</th>\n",
              "      <th>NumOfProducts</th>\n",
              "      <th>HasCrCard</th>\n",
              "      <th>IsActiveMember</th>\n",
              "      <th>EstimatedSalary</th>\n",
              "      <th>Exited</th>\n",
              "    </tr>\n",
              "  </thead>\n",
              "  <tbody>\n",
              "    <tr>\n",
              "      <th>0</th>\n",
              "      <td>1</td>\n",
              "      <td>15634602</td>\n",
              "      <td>Hargrave</td>\n",
              "      <td>619</td>\n",
              "      <td>France</td>\n",
              "      <td>Female</td>\n",
              "      <td>42</td>\n",
              "      <td>2</td>\n",
              "      <td>0.00</td>\n",
              "      <td>1</td>\n",
              "      <td>1</td>\n",
              "      <td>1</td>\n",
              "      <td>101348.88</td>\n",
              "      <td>1</td>\n",
              "    </tr>\n",
              "    <tr>\n",
              "      <th>1</th>\n",
              "      <td>2</td>\n",
              "      <td>15647311</td>\n",
              "      <td>Hill</td>\n",
              "      <td>608</td>\n",
              "      <td>Spain</td>\n",
              "      <td>Female</td>\n",
              "      <td>41</td>\n",
              "      <td>1</td>\n",
              "      <td>83807.86</td>\n",
              "      <td>1</td>\n",
              "      <td>0</td>\n",
              "      <td>1</td>\n",
              "      <td>112542.58</td>\n",
              "      <td>0</td>\n",
              "    </tr>\n",
              "    <tr>\n",
              "      <th>2</th>\n",
              "      <td>3</td>\n",
              "      <td>15619304</td>\n",
              "      <td>Onio</td>\n",
              "      <td>502</td>\n",
              "      <td>France</td>\n",
              "      <td>Female</td>\n",
              "      <td>42</td>\n",
              "      <td>8</td>\n",
              "      <td>159660.80</td>\n",
              "      <td>3</td>\n",
              "      <td>1</td>\n",
              "      <td>0</td>\n",
              "      <td>113931.57</td>\n",
              "      <td>1</td>\n",
              "    </tr>\n",
              "    <tr>\n",
              "      <th>3</th>\n",
              "      <td>4</td>\n",
              "      <td>15701354</td>\n",
              "      <td>Boni</td>\n",
              "      <td>699</td>\n",
              "      <td>France</td>\n",
              "      <td>Female</td>\n",
              "      <td>39</td>\n",
              "      <td>1</td>\n",
              "      <td>0.00</td>\n",
              "      <td>2</td>\n",
              "      <td>0</td>\n",
              "      <td>0</td>\n",
              "      <td>93826.63</td>\n",
              "      <td>0</td>\n",
              "    </tr>\n",
              "    <tr>\n",
              "      <th>4</th>\n",
              "      <td>5</td>\n",
              "      <td>15737888</td>\n",
              "      <td>Mitchell</td>\n",
              "      <td>850</td>\n",
              "      <td>Spain</td>\n",
              "      <td>Female</td>\n",
              "      <td>43</td>\n",
              "      <td>2</td>\n",
              "      <td>125510.82</td>\n",
              "      <td>1</td>\n",
              "      <td>1</td>\n",
              "      <td>1</td>\n",
              "      <td>79084.10</td>\n",
              "      <td>0</td>\n",
              "    </tr>\n",
              "  </tbody>\n",
              "</table>\n",
              "</div>"
            ],
            "text/plain": [
              "   RowNumber  CustomerId   Surname  CreditScore Geography  Gender  Age  \\\n",
              "0          1    15634602  Hargrave          619    France  Female   42   \n",
              "1          2    15647311      Hill          608     Spain  Female   41   \n",
              "2          3    15619304      Onio          502    France  Female   42   \n",
              "3          4    15701354      Boni          699    France  Female   39   \n",
              "4          5    15737888  Mitchell          850     Spain  Female   43   \n",
              "\n",
              "   Tenure    Balance  NumOfProducts  HasCrCard  IsActiveMember  \\\n",
              "0       2       0.00              1          1               1   \n",
              "1       1   83807.86              1          0               1   \n",
              "2       8  159660.80              3          1               0   \n",
              "3       1       0.00              2          0               0   \n",
              "4       2  125510.82              1          1               1   \n",
              "\n",
              "   EstimatedSalary  Exited  \n",
              "0        101348.88       1  \n",
              "1        112542.58       0  \n",
              "2        113931.57       1  \n",
              "3         93826.63       0  \n",
              "4         79084.10       0  "
            ]
          },
          "metadata": {
            "tags": []
          },
          "execution_count": 2
        }
      ]
    },
    {
      "metadata": {
        "id": "c_vQZqP5suZm",
        "colab_type": "code",
        "outputId": "9a6de946-d2cf-49e5-ce22-4b334fb3b83a",
        "colab": {
          "base_uri": "https://localhost:8080/",
          "height": 134
        }
      },
      "cell_type": "code",
      "source": [
        "# Encoding categorical data - Geography & Gender\n",
        "from sklearn.preprocessing import LabelEncoder\n",
        "labelencoder_X_1 = LabelEncoder()\n",
        "X[:, 1] = labelencoder_X_1.fit_transform(X[:, 1])\n",
        "labelencoder_X_2 = LabelEncoder()\n",
        "X[:, 2] = labelencoder_X_2.fit_transform(X[:, 2])\n",
        "X"
      ],
      "execution_count": 3,
      "outputs": [
        {
          "output_type": "execute_result",
          "data": {
            "text/plain": [
              "array([[619, 0, 0, ..., 1, 1, 101348.88],\n",
              "       [608, 2, 0, ..., 0, 1, 112542.58],\n",
              "       [502, 0, 0, ..., 1, 0, 113931.57],\n",
              "       ...,\n",
              "       [709, 0, 0, ..., 0, 1, 42085.58],\n",
              "       [772, 1, 1, ..., 1, 0, 92888.52],\n",
              "       [792, 0, 0, ..., 1, 0, 38190.78]], dtype=object)"
            ]
          },
          "metadata": {
            "tags": []
          },
          "execution_count": 3
        }
      ]
    },
    {
      "metadata": {
        "id": "Oj5asPwcsubv",
        "colab_type": "code",
        "outputId": "7e2f5401-1326-4893-b72e-348a721075a3",
        "colab": {
          "base_uri": "https://localhost:8080/",
          "height": 34
        }
      },
      "cell_type": "code",
      "source": [
        "# Encoding Geography to dummy variables as more than 2 categories\n",
        "\n",
        "from sklearn.preprocessing import OneHotEncoder\n",
        "from sklearn.compose import ColumnTransformer, make_column_transformer\n",
        "\n",
        "\n",
        "columntransformer = make_column_transformer(\n",
        "(OneHotEncoder(categories='auto'), [1]),\n",
        "    remainder='passthrough'\n",
        ")\n",
        "X = columntransformer.fit_transform(X)\n",
        "X = X[:, 1:] #removing dummy trap\n",
        "X[0,:]"
      ],
      "execution_count": 4,
      "outputs": [
        {
          "output_type": "execute_result",
          "data": {
            "text/plain": [
              "array([0.0, 0.0, 619, 0, 42, 2, 0.0, 1, 1, 1, 101348.88], dtype=object)"
            ]
          },
          "metadata": {
            "tags": []
          },
          "execution_count": 4
        }
      ]
    },
    {
      "metadata": {
        "id": "YeNNVjQisueG",
        "colab_type": "code",
        "outputId": "370148ef-25de-4178-b3b7-1798fc241b51",
        "colab": {
          "base_uri": "https://localhost:8080/",
          "height": 134
        }
      },
      "cell_type": "code",
      "source": [
        "# Splitting the dataset into the Training set and Test set\n",
        "from sklearn.model_selection import train_test_split\n",
        "X_train, X_test, y_train, y_test = train_test_split(X, y, test_size = 0.2, random_state = 0)\n",
        "\n",
        "X_train"
      ],
      "execution_count": 5,
      "outputs": [
        {
          "output_type": "execute_result",
          "data": {
            "text/plain": [
              "array([[0.0, 1.0, 667, ..., 1, 0, 163830.64],\n",
              "       [1.0, 0.0, 427, ..., 1, 1, 57098.0],\n",
              "       [0.0, 0.0, 535, ..., 1, 0, 185630.76],\n",
              "       ...,\n",
              "       [0.0, 0.0, 738, ..., 1, 0, 181429.87],\n",
              "       [0.0, 1.0, 590, ..., 1, 1, 148750.16],\n",
              "       [1.0, 0.0, 623, ..., 1, 0, 118855.26]], dtype=object)"
            ]
          },
          "metadata": {
            "tags": []
          },
          "execution_count": 5
        }
      ]
    },
    {
      "metadata": {
        "id": "_LisXuJ6sugb",
        "colab_type": "code",
        "outputId": "5b78db21-eb77-4b82-e362-42dc8504059c",
        "colab": {
          "base_uri": "https://localhost:8080/",
          "height": 336
        }
      },
      "cell_type": "code",
      "source": [
        "# Feature Scaling\n",
        "from sklearn.preprocessing import StandardScaler\n",
        "sc = StandardScaler()\n",
        "X_train = sc.fit_transform(X_train)\n",
        "X_test = sc.transform(X_test)\n",
        "X_train"
      ],
      "execution_count": 6,
      "outputs": [
        {
          "output_type": "stream",
          "text": [
            "/usr/local/lib/python3.6/dist-packages/sklearn/utils/validation.py:595: DataConversionWarning: Data with input dtype object was converted to float64 by StandardScaler.\n",
            "  warnings.warn(msg, DataConversionWarning)\n",
            "/usr/local/lib/python3.6/dist-packages/sklearn/utils/validation.py:595: DataConversionWarning: Data with input dtype object was converted to float64 by StandardScaler.\n",
            "  warnings.warn(msg, DataConversionWarning)\n",
            "/usr/local/lib/python3.6/dist-packages/sklearn/utils/validation.py:595: DataConversionWarning: Data with input dtype object was converted to float64 by StandardScaler.\n",
            "  warnings.warn(msg, DataConversionWarning)\n"
          ],
          "name": "stderr"
        },
        {
          "output_type": "execute_result",
          "data": {
            "text/plain": [
              "array([[-0.5698444 ,  1.74309049,  0.16958176, ...,  0.64259497,\n",
              "        -1.03227043,  1.10643166],\n",
              "       [ 1.75486502, -0.57369368, -2.30455945, ...,  0.64259497,\n",
              "         0.9687384 , -0.74866447],\n",
              "       [-0.5698444 , -0.57369368, -1.19119591, ...,  0.64259497,\n",
              "        -1.03227043,  1.48533467],\n",
              "       ...,\n",
              "       [-0.5698444 , -0.57369368,  0.9015152 , ...,  0.64259497,\n",
              "        -1.03227043,  1.41231994],\n",
              "       [-0.5698444 ,  1.74309049, -0.62420521, ...,  0.64259497,\n",
              "         0.9687384 ,  0.84432121],\n",
              "       [ 1.75486502, -0.57369368, -0.28401079, ...,  0.64259497,\n",
              "        -1.03227043,  0.32472465]])"
            ]
          },
          "metadata": {
            "tags": []
          },
          "execution_count": 6
        }
      ]
    },
    {
      "metadata": {
        "id": "zMb0CBFFsuip",
        "colab_type": "code",
        "outputId": "4c3e9511-6a25-4176-e244-90651195865a",
        "colab": {
          "base_uri": "https://localhost:8080/",
          "height": 34
        }
      },
      "cell_type": "code",
      "source": [
        "# Part 2 - Now let's make the ANN!\n",
        "\n",
        "# Importing the Keras libraries and packages\n",
        "import keras\n",
        "from keras.models import Sequential\n",
        "from keras.layers import Activation, Dense, Dropout\n",
        "from keras.layers.normalization import BatchNormalization\n",
        "from keras.callbacks import ModelCheckpoint"
      ],
      "execution_count": 7,
      "outputs": [
        {
          "output_type": "stream",
          "text": [
            "Using TensorFlow backend.\n"
          ],
          "name": "stderr"
        }
      ]
    },
    {
      "metadata": {
        "id": "qG08Y7kAsuk3",
        "colab_type": "code",
        "colab": {}
      },
      "cell_type": "code",
      "source": [
        "# Initialising the ANN\n",
        "classifier = Sequential()"
      ],
      "execution_count": 0,
      "outputs": []
    },
    {
      "metadata": {
        "id": "9s5WGr3mxGLq",
        "colab_type": "code",
        "colab": {}
      },
      "cell_type": "code",
      "source": [
        "# Adding the input layer and hidden layers\n",
        "# Rule of thumb for nodes is average no. features: (11inputs+1output)/2=6\n",
        "# classifier.add(Dense(activation=\"relu\", input_dim=11, units=6, kernel_initializer=\"glorot_uniform\"))\n",
        "\n",
        "classifier.add(Dense(units=6, input_dim=11, kernel_initializer=\"glorot_uniform\", use_bias=False))\n",
        "#classifier.add(BatchNormalization())\n",
        "classifier.add(Activation(\"relu\"))\n",
        "\n",
        "#Optional regularization step, to avoid overfitting, 10% deactivation of nodes\n",
        "#classifier.add(Dropout(p = 0.1))\n",
        "\n",
        "# Adding the second hidden layer\n",
        "classifier.add(Dense(units=6, kernel_initializer=\"glorot_uniform\", use_bias=False))\n",
        "classifier.add(BatchNormalization())\n",
        "classifier.add(Activation(\"relu\"))\n",
        "#classifier.add(Dropout(p = 0.1))\n",
        "\n",
        "# Adding the output layer\n",
        "classifier.add(Dense(units=1, kernel_initializer=\"glorot_uniform\"))\n",
        "classifier.add(BatchNormalization())\n",
        "classifier.add(Activation(\"sigmoid\"))\n",
        "\n",
        "# Compiling the ANN use 'binary_crossentropy' or 'categorical_crossentropy'\n",
        "sgd = keras.optimizers.SGD(lr=0.1, decay=1e-6, momentum=0.9, nesterov=True)\n",
        "#sgd = keras.optimizers.SGD(lr=0.01, momentum=0.0, decay=0.0, nesterov=False)\n",
        "classifier.compile(optimizer = 'adam', loss = 'binary_crossentropy', metrics = ['accuracy'])\n",
        "\n",
        "filepath= '/content/keras/weights.{epoch:02d}-{val_acc:.2f}.hdf5'\n",
        "checkpoint = ModelCheckpoint(filepath, monitor='val_acc', verbose=0, save_best_only=True, mode='auto')\n",
        "callbacks_list = [checkpoint]"
      ],
      "execution_count": 0,
      "outputs": []
    },
    {
      "metadata": {
        "id": "S9ZjI-1__NvM",
        "colab_type": "code",
        "outputId": "39188dde-570e-4699-caaa-1847eef4b97e",
        "colab": {
          "base_uri": "https://localhost:8080/",
          "height": 470
        }
      },
      "cell_type": "code",
      "source": [
        "import time\n",
        "\n",
        "_start_time = time.time()\n",
        "\n",
        "def tic():\n",
        "    global _start_time \n",
        "    _start_time = time.time()\n",
        "\n",
        "def tac():\n",
        "    t_sec = round(time.time() - _start_time)\n",
        "    (t_min, t_sec) = divmod(t_sec,60)\n",
        "    (t_hour,t_min) = divmod(t_min,60) \n",
        "    print('Time passed: {}hour:{}min:{}sec'.format(t_hour,t_min,t_sec))\n",
        "    \n",
        "    \n",
        "import tensorflow as tf\n",
        "tf.test.gpu_device_name()\n",
        "from tensorflow.python.client import device_lib\n",
        "device_lib.list_local_devices()"
      ],
      "execution_count": 10,
      "outputs": [
        {
          "output_type": "execute_result",
          "data": {
            "text/plain": [
              "[name: \"/device:CPU:0\"\n",
              " device_type: \"CPU\"\n",
              " memory_limit: 268435456\n",
              " locality {\n",
              " }\n",
              " incarnation: 11290183030989782725, name: \"/device:XLA_CPU:0\"\n",
              " device_type: \"XLA_CPU\"\n",
              " memory_limit: 17179869184\n",
              " locality {\n",
              " }\n",
              " incarnation: 11114112870895005918\n",
              " physical_device_desc: \"device: XLA_CPU device\", name: \"/device:XLA_GPU:0\"\n",
              " device_type: \"XLA_GPU\"\n",
              " memory_limit: 17179869184\n",
              " locality {\n",
              " }\n",
              " incarnation: 8914026873891357494\n",
              " physical_device_desc: \"device: XLA_GPU device\", name: \"/device:GPU:0\"\n",
              " device_type: \"GPU\"\n",
              " memory_limit: 11281553818\n",
              " locality {\n",
              "   bus_id: 1\n",
              "   links {\n",
              "   }\n",
              " }\n",
              " incarnation: 4125215577331460460\n",
              " physical_device_desc: \"device: 0, name: Tesla K80, pci bus id: 0000:00:04.0, compute capability: 3.7\"]"
            ]
          },
          "metadata": {
            "tags": []
          },
          "execution_count": 10
        }
      ]
    },
    {
      "metadata": {
        "id": "6wEWeXXOyRL_",
        "colab_type": "code",
        "outputId": "bbd191a6-d388-4d4a-8a9b-42695973466d",
        "colab": {
          "base_uri": "https://localhost:8080/",
          "height": 3410
        }
      },
      "cell_type": "code",
      "source": [
        "# Fitting the ANN to the Training set, using minibatch stochastic gradient descent\n",
        "tic()\n",
        "\n",
        "classifier.fit(X_train, y_train, batch_size = 10, epochs = 100, verbose=1,\n",
        "          validation_data=(X_test, y_test))\n",
        "\n",
        "tac()"
      ],
      "execution_count": 11,
      "outputs": [
        {
          "output_type": "stream",
          "text": [
            "Train on 8000 samples, validate on 2000 samples\n",
            "Epoch 1/100\n",
            "8000/8000 [==============================] - 7s 860us/step - loss: 0.6537 - acc: 0.6371 - val_loss: 0.5274 - val_acc: 0.7860\n",
            "Epoch 2/100\n",
            "8000/8000 [==============================] - 6s 779us/step - loss: 0.4971 - acc: 0.7875 - val_loss: 0.4576 - val_acc: 0.8095\n",
            "Epoch 3/100\n",
            "8000/8000 [==============================] - 6s 779us/step - loss: 0.4576 - acc: 0.8027 - val_loss: 0.4308 - val_acc: 0.8140\n",
            "Epoch 4/100\n",
            "8000/8000 [==============================] - 6s 773us/step - loss: 0.4390 - acc: 0.8032 - val_loss: 0.4165 - val_acc: 0.8185\n",
            "Epoch 5/100\n",
            "8000/8000 [==============================] - 6s 778us/step - loss: 0.4277 - acc: 0.8077 - val_loss: 0.4044 - val_acc: 0.8280\n",
            "Epoch 6/100\n",
            "8000/8000 [==============================] - 6s 779us/step - loss: 0.4170 - acc: 0.8119 - val_loss: 0.3930 - val_acc: 0.8405\n",
            "Epoch 7/100\n",
            "8000/8000 [==============================] - 6s 780us/step - loss: 0.4070 - acc: 0.8202 - val_loss: 0.3791 - val_acc: 0.8445\n",
            "Epoch 8/100\n",
            "8000/8000 [==============================] - 6s 779us/step - loss: 0.3971 - acc: 0.8262 - val_loss: 0.3714 - val_acc: 0.8510\n",
            "Epoch 9/100\n",
            "8000/8000 [==============================] - 6s 776us/step - loss: 0.3952 - acc: 0.8244 - val_loss: 0.3630 - val_acc: 0.8520\n",
            "Epoch 10/100\n",
            "8000/8000 [==============================] - 6s 778us/step - loss: 0.3915 - acc: 0.8262 - val_loss: 0.3609 - val_acc: 0.8525\n",
            "Epoch 11/100\n",
            "8000/8000 [==============================] - 6s 777us/step - loss: 0.3890 - acc: 0.8296 - val_loss: 0.3533 - val_acc: 0.8570\n",
            "Epoch 12/100\n",
            "8000/8000 [==============================] - 6s 785us/step - loss: 0.3844 - acc: 0.8349 - val_loss: 0.3502 - val_acc: 0.8585\n",
            "Epoch 13/100\n",
            "8000/8000 [==============================] - 6s 786us/step - loss: 0.3847 - acc: 0.8301 - val_loss: 0.3490 - val_acc: 0.8600\n",
            "Epoch 14/100\n",
            "8000/8000 [==============================] - 6s 779us/step - loss: 0.3811 - acc: 0.8366 - val_loss: 0.3468 - val_acc: 0.8580\n",
            "Epoch 15/100\n",
            "8000/8000 [==============================] - 6s 780us/step - loss: 0.3825 - acc: 0.8362 - val_loss: 0.3455 - val_acc: 0.8595\n",
            "Epoch 16/100\n",
            "8000/8000 [==============================] - 6s 781us/step - loss: 0.3808 - acc: 0.8366 - val_loss: 0.3444 - val_acc: 0.8600\n",
            "Epoch 17/100\n",
            "8000/8000 [==============================] - 6s 795us/step - loss: 0.3818 - acc: 0.8356 - val_loss: 0.3453 - val_acc: 0.8610\n",
            "Epoch 18/100\n",
            "8000/8000 [==============================] - 6s 808us/step - loss: 0.3830 - acc: 0.8306 - val_loss: 0.3459 - val_acc: 0.8625\n",
            "Epoch 19/100\n",
            "8000/8000 [==============================] - 6s 782us/step - loss: 0.3807 - acc: 0.8372 - val_loss: 0.3443 - val_acc: 0.8615\n",
            "Epoch 20/100\n",
            "8000/8000 [==============================] - 6s 776us/step - loss: 0.3816 - acc: 0.8354 - val_loss: 0.3429 - val_acc: 0.8600\n",
            "Epoch 21/100\n",
            "8000/8000 [==============================] - 6s 782us/step - loss: 0.3838 - acc: 0.8321 - val_loss: 0.3434 - val_acc: 0.8625\n",
            "Epoch 22/100\n",
            "8000/8000 [==============================] - 6s 788us/step - loss: 0.3823 - acc: 0.8336 - val_loss: 0.3447 - val_acc: 0.8640\n",
            "Epoch 23/100\n",
            "8000/8000 [==============================] - 6s 789us/step - loss: 0.3778 - acc: 0.8340 - val_loss: 0.3439 - val_acc: 0.8610\n",
            "Epoch 24/100\n",
            "8000/8000 [==============================] - 6s 782us/step - loss: 0.3814 - acc: 0.8330 - val_loss: 0.3480 - val_acc: 0.8620\n",
            "Epoch 25/100\n",
            "8000/8000 [==============================] - 6s 774us/step - loss: 0.3790 - acc: 0.8335 - val_loss: 0.3460 - val_acc: 0.8595\n",
            "Epoch 26/100\n",
            "8000/8000 [==============================] - 6s 781us/step - loss: 0.3791 - acc: 0.8327 - val_loss: 0.3432 - val_acc: 0.8625\n",
            "Epoch 27/100\n",
            "8000/8000 [==============================] - 6s 784us/step - loss: 0.3824 - acc: 0.8366 - val_loss: 0.3437 - val_acc: 0.8570\n",
            "Epoch 28/100\n",
            "8000/8000 [==============================] - 6s 785us/step - loss: 0.3784 - acc: 0.8345 - val_loss: 0.3448 - val_acc: 0.8595\n",
            "Epoch 29/100\n",
            "8000/8000 [==============================] - 6s 782us/step - loss: 0.3792 - acc: 0.8396 - val_loss: 0.3418 - val_acc: 0.8595\n",
            "Epoch 30/100\n",
            "8000/8000 [==============================] - 6s 788us/step - loss: 0.3781 - acc: 0.8384 - val_loss: 0.3431 - val_acc: 0.8600\n",
            "Epoch 31/100\n",
            "8000/8000 [==============================] - 6s 789us/step - loss: 0.3757 - acc: 0.8371 - val_loss: 0.3415 - val_acc: 0.8630\n",
            "Epoch 32/100\n",
            "8000/8000 [==============================] - 6s 784us/step - loss: 0.3798 - acc: 0.8351 - val_loss: 0.3413 - val_acc: 0.8595\n",
            "Epoch 33/100\n",
            "8000/8000 [==============================] - 6s 783us/step - loss: 0.3814 - acc: 0.8311 - val_loss: 0.3399 - val_acc: 0.8630\n",
            "Epoch 34/100\n",
            "8000/8000 [==============================] - 6s 781us/step - loss: 0.3734 - acc: 0.8390 - val_loss: 0.3406 - val_acc: 0.8655\n",
            "Epoch 35/100\n",
            "8000/8000 [==============================] - 6s 783us/step - loss: 0.3720 - acc: 0.8441 - val_loss: 0.3385 - val_acc: 0.8640\n",
            "Epoch 36/100\n",
            "8000/8000 [==============================] - 6s 797us/step - loss: 0.3736 - acc: 0.8459 - val_loss: 0.3387 - val_acc: 0.8620\n",
            "Epoch 37/100\n",
            "8000/8000 [==============================] - 6s 796us/step - loss: 0.3745 - acc: 0.8420 - val_loss: 0.3397 - val_acc: 0.8640\n",
            "Epoch 38/100\n",
            "8000/8000 [==============================] - 6s 784us/step - loss: 0.3775 - acc: 0.8401 - val_loss: 0.3410 - val_acc: 0.8620\n",
            "Epoch 39/100\n",
            "8000/8000 [==============================] - 6s 784us/step - loss: 0.3710 - acc: 0.8409 - val_loss: 0.3419 - val_acc: 0.8630\n",
            "Epoch 40/100\n",
            "8000/8000 [==============================] - 6s 781us/step - loss: 0.3732 - acc: 0.8439 - val_loss: 0.3397 - val_acc: 0.8635\n",
            "Epoch 41/100\n",
            "8000/8000 [==============================] - 6s 783us/step - loss: 0.3744 - acc: 0.8375 - val_loss: 0.3393 - val_acc: 0.8615\n",
            "Epoch 42/100\n",
            "8000/8000 [==============================] - 6s 785us/step - loss: 0.3740 - acc: 0.8396 - val_loss: 0.3385 - val_acc: 0.8615\n",
            "Epoch 43/100\n",
            "8000/8000 [==============================] - 6s 783us/step - loss: 0.3775 - acc: 0.8371 - val_loss: 0.3379 - val_acc: 0.8660\n",
            "Epoch 44/100\n",
            "8000/8000 [==============================] - 6s 781us/step - loss: 0.3758 - acc: 0.8402 - val_loss: 0.3392 - val_acc: 0.8625\n",
            "Epoch 45/100\n",
            "8000/8000 [==============================] - 6s 782us/step - loss: 0.3750 - acc: 0.8379 - val_loss: 0.3399 - val_acc: 0.8620\n",
            "Epoch 46/100\n",
            "8000/8000 [==============================] - 6s 777us/step - loss: 0.3765 - acc: 0.8365 - val_loss: 0.3387 - val_acc: 0.8605\n",
            "Epoch 47/100\n",
            "8000/8000 [==============================] - 6s 789us/step - loss: 0.3761 - acc: 0.8419 - val_loss: 0.3401 - val_acc: 0.8630\n",
            "Epoch 48/100\n",
            "8000/8000 [==============================] - 6s 774us/step - loss: 0.3777 - acc: 0.8387 - val_loss: 0.3393 - val_acc: 0.8640\n",
            "Epoch 49/100\n",
            "8000/8000 [==============================] - 6s 780us/step - loss: 0.3766 - acc: 0.8391 - val_loss: 0.3406 - val_acc: 0.8615\n",
            "Epoch 50/100\n",
            "8000/8000 [==============================] - 6s 794us/step - loss: 0.3704 - acc: 0.8441 - val_loss: 0.3372 - val_acc: 0.8630\n",
            "Epoch 51/100\n",
            "8000/8000 [==============================] - 6s 783us/step - loss: 0.3741 - acc: 0.8409 - val_loss: 0.3368 - val_acc: 0.8610\n",
            "Epoch 52/100\n",
            "8000/8000 [==============================] - 6s 783us/step - loss: 0.3757 - acc: 0.8407 - val_loss: 0.3392 - val_acc: 0.8630\n",
            "Epoch 53/100\n",
            "8000/8000 [==============================] - 6s 787us/step - loss: 0.3761 - acc: 0.8361 - val_loss: 0.3424 - val_acc: 0.8640\n",
            "Epoch 54/100\n",
            "8000/8000 [==============================] - 6s 778us/step - loss: 0.3758 - acc: 0.8416 - val_loss: 0.3372 - val_acc: 0.8635\n",
            "Epoch 55/100\n",
            "8000/8000 [==============================] - 6s 788us/step - loss: 0.3718 - acc: 0.8412 - val_loss: 0.3364 - val_acc: 0.8630\n",
            "Epoch 56/100\n",
            "8000/8000 [==============================] - 6s 785us/step - loss: 0.3759 - acc: 0.8384 - val_loss: 0.3395 - val_acc: 0.8620\n",
            "Epoch 57/100\n",
            "8000/8000 [==============================] - 6s 782us/step - loss: 0.3750 - acc: 0.8372 - val_loss: 0.3421 - val_acc: 0.8590\n",
            "Epoch 58/100\n",
            "8000/8000 [==============================] - 6s 782us/step - loss: 0.3780 - acc: 0.8366 - val_loss: 0.3421 - val_acc: 0.8615\n",
            "Epoch 59/100\n",
            "8000/8000 [==============================] - 6s 779us/step - loss: 0.3691 - acc: 0.8451 - val_loss: 0.3386 - val_acc: 0.8650\n",
            "Epoch 60/100\n",
            "8000/8000 [==============================] - 6s 781us/step - loss: 0.3681 - acc: 0.8451 - val_loss: 0.3395 - val_acc: 0.8630\n",
            "Epoch 61/100\n",
            "8000/8000 [==============================] - 6s 779us/step - loss: 0.3715 - acc: 0.8411 - val_loss: 0.3382 - val_acc: 0.8625\n",
            "Epoch 62/100\n",
            "8000/8000 [==============================] - 6s 778us/step - loss: 0.3737 - acc: 0.8417 - val_loss: 0.3385 - val_acc: 0.8625\n",
            "Epoch 63/100\n",
            "8000/8000 [==============================] - 6s 780us/step - loss: 0.3735 - acc: 0.8407 - val_loss: 0.3390 - val_acc: 0.8615\n",
            "Epoch 64/100\n",
            "8000/8000 [==============================] - 6s 778us/step - loss: 0.3668 - acc: 0.8471 - val_loss: 0.3369 - val_acc: 0.8620\n",
            "Epoch 65/100\n",
            "8000/8000 [==============================] - 6s 785us/step - loss: 0.3695 - acc: 0.8460 - val_loss: 0.3376 - val_acc: 0.8625\n",
            "Epoch 66/100\n",
            "8000/8000 [==============================] - 6s 794us/step - loss: 0.3657 - acc: 0.8442 - val_loss: 0.3395 - val_acc: 0.8645\n",
            "Epoch 67/100\n",
            "8000/8000 [==============================] - 6s 795us/step - loss: 0.3715 - acc: 0.8427 - val_loss: 0.3437 - val_acc: 0.8620\n",
            "Epoch 68/100\n",
            "8000/8000 [==============================] - 6s 781us/step - loss: 0.3755 - acc: 0.8402 - val_loss: 0.3403 - val_acc: 0.8620\n",
            "Epoch 69/100\n",
            "8000/8000 [==============================] - 6s 782us/step - loss: 0.3754 - acc: 0.8406 - val_loss: 0.3391 - val_acc: 0.8620\n",
            "Epoch 70/100\n",
            "8000/8000 [==============================] - 6s 791us/step - loss: 0.3776 - acc: 0.8400 - val_loss: 0.3413 - val_acc: 0.8630\n",
            "Epoch 71/100\n",
            "8000/8000 [==============================] - 6s 787us/step - loss: 0.3720 - acc: 0.8415 - val_loss: 0.3405 - val_acc: 0.8650\n",
            "Epoch 72/100\n",
            "8000/8000 [==============================] - 6s 785us/step - loss: 0.3717 - acc: 0.8422 - val_loss: 0.3411 - val_acc: 0.8625\n",
            "Epoch 73/100\n",
            "8000/8000 [==============================] - 6s 781us/step - loss: 0.3741 - acc: 0.8401 - val_loss: 0.3396 - val_acc: 0.8670\n",
            "Epoch 74/100\n",
            "8000/8000 [==============================] - 6s 784us/step - loss: 0.3709 - acc: 0.8437 - val_loss: 0.3380 - val_acc: 0.8645\n",
            "Epoch 75/100\n",
            "8000/8000 [==============================] - 6s 781us/step - loss: 0.3729 - acc: 0.8421 - val_loss: 0.3366 - val_acc: 0.8645\n",
            "Epoch 76/100\n",
            "8000/8000 [==============================] - 6s 791us/step - loss: 0.3678 - acc: 0.8421 - val_loss: 0.3371 - val_acc: 0.8630\n",
            "Epoch 77/100\n",
            "8000/8000 [==============================] - 6s 783us/step - loss: 0.3715 - acc: 0.8404 - val_loss: 0.3358 - val_acc: 0.8640\n",
            "Epoch 78/100\n",
            "8000/8000 [==============================] - 6s 779us/step - loss: 0.3694 - acc: 0.8444 - val_loss: 0.3384 - val_acc: 0.8670\n",
            "Epoch 79/100\n",
            "8000/8000 [==============================] - 6s 787us/step - loss: 0.3746 - acc: 0.8386 - val_loss: 0.3387 - val_acc: 0.8680\n",
            "Epoch 80/100\n",
            "8000/8000 [==============================] - 6s 785us/step - loss: 0.3709 - acc: 0.8404 - val_loss: 0.3387 - val_acc: 0.8660\n",
            "Epoch 81/100\n",
            "8000/8000 [==============================] - 6s 786us/step - loss: 0.3683 - acc: 0.8425 - val_loss: 0.3377 - val_acc: 0.8675\n",
            "Epoch 82/100\n",
            "8000/8000 [==============================] - 6s 775us/step - loss: 0.3700 - acc: 0.8422 - val_loss: 0.3365 - val_acc: 0.8640\n",
            "Epoch 83/100\n",
            "8000/8000 [==============================] - 6s 780us/step - loss: 0.3704 - acc: 0.8469 - val_loss: 0.3364 - val_acc: 0.8665\n",
            "Epoch 84/100\n",
            "8000/8000 [==============================] - 6s 784us/step - loss: 0.3728 - acc: 0.8351 - val_loss: 0.3384 - val_acc: 0.8695\n",
            "Epoch 85/100\n",
            "8000/8000 [==============================] - 6s 792us/step - loss: 0.3762 - acc: 0.8437 - val_loss: 0.3390 - val_acc: 0.8645\n",
            "Epoch 86/100\n",
            "8000/8000 [==============================] - 6s 805us/step - loss: 0.3676 - acc: 0.8457 - val_loss: 0.3357 - val_acc: 0.8685\n",
            "Epoch 87/100\n",
            "8000/8000 [==============================] - 6s 785us/step - loss: 0.3686 - acc: 0.8459 - val_loss: 0.3377 - val_acc: 0.8620\n",
            "Epoch 88/100\n",
            "8000/8000 [==============================] - 6s 787us/step - loss: 0.3648 - acc: 0.8482 - val_loss: 0.3359 - val_acc: 0.8695\n",
            "Epoch 89/100\n",
            "8000/8000 [==============================] - 6s 781us/step - loss: 0.3728 - acc: 0.8411 - val_loss: 0.3355 - val_acc: 0.8660\n",
            "Epoch 90/100\n",
            "8000/8000 [==============================] - 6s 781us/step - loss: 0.3743 - acc: 0.8411 - val_loss: 0.3369 - val_acc: 0.8650\n",
            "Epoch 91/100\n",
            "8000/8000 [==============================] - 6s 779us/step - loss: 0.3689 - acc: 0.8429 - val_loss: 0.3358 - val_acc: 0.8680\n",
            "Epoch 92/100\n",
            "8000/8000 [==============================] - 6s 784us/step - loss: 0.3744 - acc: 0.8374 - val_loss: 0.3383 - val_acc: 0.8695\n",
            "Epoch 93/100\n",
            "8000/8000 [==============================] - 6s 777us/step - loss: 0.3657 - acc: 0.8475 - val_loss: 0.3362 - val_acc: 0.8655\n",
            "Epoch 94/100\n",
            "8000/8000 [==============================] - 6s 779us/step - loss: 0.3697 - acc: 0.8421 - val_loss: 0.3351 - val_acc: 0.8610\n",
            "Epoch 95/100\n",
            "8000/8000 [==============================] - 6s 782us/step - loss: 0.3683 - acc: 0.8460 - val_loss: 0.3351 - val_acc: 0.8640\n",
            "Epoch 96/100\n",
            "8000/8000 [==============================] - 6s 784us/step - loss: 0.3684 - acc: 0.8430 - val_loss: 0.3362 - val_acc: 0.8665\n",
            "Epoch 97/100\n",
            "8000/8000 [==============================] - 6s 783us/step - loss: 0.3667 - acc: 0.8480 - val_loss: 0.3362 - val_acc: 0.8650\n",
            "Epoch 98/100\n",
            "8000/8000 [==============================] - 6s 783us/step - loss: 0.3704 - acc: 0.8460 - val_loss: 0.3352 - val_acc: 0.8655\n",
            "Epoch 99/100\n",
            "8000/8000 [==============================] - 6s 773us/step - loss: 0.3708 - acc: 0.8372 - val_loss: 0.3357 - val_acc: 0.8635\n",
            "Epoch 100/100\n",
            "8000/8000 [==============================] - 6s 785us/step - loss: 0.3681 - acc: 0.8432 - val_loss: 0.3356 - val_acc: 0.8675\n",
            "Time passed: 0hour:10min:28sec\n"
          ],
          "name": "stdout"
        }
      ]
    },
    {
      "metadata": {
        "id": "M6PXjKPWLknJ",
        "colab_type": "code",
        "outputId": "d99cebfe-6c0e-4399-e010-e203e8d686c2",
        "colab": {
          "base_uri": "https://localhost:8080/",
          "height": 134
        }
      },
      "cell_type": "code",
      "source": [
        "# Predicting the Test set results\n",
        "y_pred = classifier.predict(X_test)\n",
        "y_pred = (y_pred > 0.5)\n",
        "y_pred"
      ],
      "execution_count": 12,
      "outputs": [
        {
          "output_type": "execute_result",
          "data": {
            "text/plain": [
              "array([[False],\n",
              "       [False],\n",
              "       [False],\n",
              "       ...,\n",
              "       [False],\n",
              "       [False],\n",
              "       [False]])"
            ]
          },
          "metadata": {
            "tags": []
          },
          "execution_count": 12
        }
      ]
    },
    {
      "metadata": {
        "id": "zw3jTGEfMKLy",
        "colab_type": "code",
        "outputId": "6f3e0387-db35-4893-f5a1-0830af3acbaf",
        "colab": {
          "base_uri": "https://localhost:8080/",
          "height": 50
        }
      },
      "cell_type": "code",
      "source": [
        "# Making the Confusion Matrix\n",
        "from sklearn.metrics import confusion_matrix\n",
        "cm = confusion_matrix(y_test, y_pred)\n",
        "cm"
      ],
      "execution_count": 13,
      "outputs": [
        {
          "output_type": "execute_result",
          "data": {
            "text/plain": [
              "array([[1562,   33],\n",
              "       [ 232,  173]])"
            ]
          },
          "metadata": {
            "tags": []
          },
          "execution_count": 13
        }
      ]
    },
    {
      "metadata": {
        "id": "O2R59zuQMRUs",
        "colab_type": "code",
        "outputId": "c8922f8b-5f9f-4495-fc96-7efecf4cecd6",
        "colab": {
          "base_uri": "https://localhost:8080/",
          "height": 34
        }
      },
      "cell_type": "code",
      "source": [
        "tn, fp, fn, tp = cm.ravel()\n",
        "#print(tn, fp, fn, tp)\n",
        "print(\"Accuracy of:\", (tn+tp)/(tn+tp+fp+fn))\n",
        "\n",
        "# Accuracy = (TP + TN) / (TP + TN + FP + FN)\n",
        "# Precision = TP / (TP + FP)\n",
        "# Recall = TP / (TP + FN)\n",
        "# F1 Score = 2 Precision Recall / (Precision + Recall)"
      ],
      "execution_count": 14,
      "outputs": [
        {
          "output_type": "stream",
          "text": [
            "Accuracy of: 0.8675\n"
          ],
          "name": "stdout"
        }
      ]
    },
    {
      "metadata": {
        "id": "z6pObyE9NJBf",
        "colab_type": "code",
        "outputId": "1ac25a84-83c0-4f02-c2c1-3b07db930333",
        "colab": {
          "base_uri": "https://localhost:8080/",
          "height": 54
        }
      },
      "cell_type": "code",
      "source": [
        "# Predicting a single new observation\n",
        "\"\"\"Predict if the customer with the following informations will leave the bank:\n",
        "Geography: France\n",
        "Credit Score: 600\n",
        "Gender: Male\n",
        "Age: 40\n",
        "Tenure: 3\n",
        "Balance: 60000\n",
        "Number of Products: 2\n",
        "Has Credit Card: Yes\n",
        "Is Active Member: Yes\n",
        "Estimated Salary: 50000\"\"\""
      ],
      "execution_count": 15,
      "outputs": [
        {
          "output_type": "execute_result",
          "data": {
            "text/plain": [
              "'Predict if the customer with the following informations will leave the bank:\\nGeography: France\\nCredit Score: 600\\nGender: Male\\nAge: 40\\nTenure: 3\\nBalance: 60000\\nNumber of Products: 2\\nHas Credit Card: Yes\\nIs Active Member: Yes\\nEstimated Salary: 50000'"
            ]
          },
          "metadata": {
            "tags": []
          },
          "execution_count": 15
        }
      ]
    },
    {
      "metadata": {
        "id": "OvG-pHtzINQ5",
        "colab_type": "code",
        "outputId": "cf1ab439-e1ca-4838-861c-12583f81dd9d",
        "colab": {
          "base_uri": "https://localhost:8080/",
          "height": 67
        }
      },
      "cell_type": "code",
      "source": [
        "# Ensure the category labelling matches the transformations made above\n",
        "test_customer=np.array([[0.0, 0.0, 619, 1, 40, 3, 60000, 2, 1, 1, 50000]])\n",
        "#test_customer=np.array([0.0, 0.0, 619, 1, 40, 3, 60000, 2, 1, 1, 50000]).reshape(1, -1)\n",
        "test_customer = sc.transform(test_customer)\n",
        "test_customer"
      ],
      "execution_count": 16,
      "outputs": [
        {
          "output_type": "execute_result",
          "data": {
            "text/plain": [
              "array([[-0.5698444 , -0.57369368, -0.32524648,  0.91601335,  0.10961719,\n",
              "        -0.68538967, -0.2569057 ,  0.8095029 ,  0.64259497,  0.9687384 ,\n",
              "        -0.87203322]])"
            ]
          },
          "metadata": {
            "tags": []
          },
          "execution_count": 16
        }
      ]
    },
    {
      "metadata": {
        "id": "Lug4W8_VMnOO",
        "colab_type": "code",
        "outputId": "b8f29a6a-6cdc-4c76-fb59-62f4ba24f9eb",
        "colab": {
          "base_uri": "https://localhost:8080/",
          "height": 34
        }
      },
      "cell_type": "code",
      "source": [
        "new_prediction=classifier.predict(test_customer)\n",
        "new_prediction"
      ],
      "execution_count": 17,
      "outputs": [
        {
          "output_type": "execute_result",
          "data": {
            "text/plain": [
              "array([[0.03301537]], dtype=float32)"
            ]
          },
          "metadata": {
            "tags": []
          },
          "execution_count": 17
        }
      ]
    },
    {
      "metadata": {
        "id": "IWzLZwSFOELJ",
        "colab_type": "code",
        "outputId": "43e31a70-c0d8-4400-d441-0adec0bd5300",
        "colab": {
          "base_uri": "https://localhost:8080/",
          "height": 34
        }
      },
      "cell_type": "code",
      "source": [
        "new_prediction = (new_prediction > 0.5)\n",
        "new_prediction \n",
        "#Customer does not leave the bank, or probability of leaving is 0.04589"
      ],
      "execution_count": 18,
      "outputs": [
        {
          "output_type": "execute_result",
          "data": {
            "text/plain": [
              "array([[False]])"
            ]
          },
          "metadata": {
            "tags": []
          },
          "execution_count": 18
        }
      ]
    }
  ]
}