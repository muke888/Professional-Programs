{
  "nbformat": 4,
  "nbformat_minor": 0,
  "metadata": {
    "colab": {
      "name": "Udacity Algorithms Course - Lesson 1.ipynb",
      "provenance": [],
      "collapsed_sections": [],
      "authorship_tag": "ABX9TyOL1CfCBvo4fcjpWWAihLwP",
      "include_colab_link": true
    },
    "kernelspec": {
      "name": "python3",
      "display_name": "Python 3"
    }
  },
  "cells": [
    {
      "cell_type": "markdown",
      "metadata": {
        "id": "view-in-github",
        "colab_type": "text"
      },
      "source": [
        "<a href=\"https://colab.research.google.com/github/muke888/Professional-Programs/blob/master/Udacity%20-%20Artificial%20Intelligence/Intro%20to%20Algorithms/Udacity_Algorithms_Course_Lesson_1.ipynb\" target=\"_parent\"><img src=\"https://colab.research.google.com/assets/colab-badge.svg\" alt=\"Open In Colab\"/></a>"
      ]
    },
    {
      "cell_type": "markdown",
      "metadata": {
        "id": "FWJIIMGugNKC",
        "colab_type": "text"
      },
      "source": [
        "#Lesson 1 - Social network algorithms\n",
        "\n",
        "https://en.wikipedia.org/wiki/Eulerian_path\n",
        "\n",
        "In graph theory, an Eulerian trail (or Eulerian path) is a trail in a finite graph that visits every edge exactly once (allowing for revisiting vertices). Similarly, an Eulerian circuit or Eulerian cycle is an Eulerian trail that starts and ends on the same vertex. They were first discussed by Leonhard Euler while solving the famous Seven Bridges of Königsberg problem in 1736.\n",
        "\n",
        "\n",
        "Every vertex of the below graph has an even degree. Therefore, this is an Eulerian graph. Following the edges in alphabetical order gives an Eulerian circuit/cycle.\n",
        "\n",
        "\n",
        "![alt text](https://upload.wikimedia.org/wikipedia/commons/thumb/7/72/Labelled_Eulergraph.svg/330px-Labelled_Eulergraph.svg.png)"
      ]
    },
    {
      "cell_type": "code",
      "metadata": {
        "id": "e7WuSNFbfoLZ",
        "colab_type": "code",
        "outputId": "d09a2f2f-fac2-4ec7-d463-9f432ae5fa81",
        "colab": {
          "base_uri": "https://localhost:8080/",
          "height": 35
        }
      },
      "source": [
        "#Naive multiplication\n",
        "\n",
        "def naive(a, b):\n",
        "    x = a; y = b\n",
        "    z = 0\n",
        "    while x > 0:\n",
        "        z = z + y\n",
        "        x = x - 1\n",
        "    return z\n",
        "\n",
        "#same thing but compressed:\n",
        "def naive2(a, b):\n",
        "    x = a; y = b; z = 0\n",
        "    \n",
        "    while x > 0: z = z + y; x = x - 1     \n",
        "    return z\n",
        "\n",
        "naive2(8,10)"
      ],
      "execution_count": 1,
      "outputs": [
        {
          "output_type": "execute_result",
          "data": {
            "text/plain": [
              "80"
            ]
          },
          "metadata": {
            "tags": []
          },
          "execution_count": 1
        }
      ]
    },
    {
      "cell_type": "markdown",
      "metadata": {
        "id": "HQJ5W5WGP_gb",
        "colab_type": "text"
      },
      "source": [
        "https://wiki.python.org/moin/BitwiseOperators\n",
        "\n",
        "The Operators:\n",
        "\n",
        "**x << y**\n",
        "\n",
        "Returns x with the bits shifted to the left by y places (and new bits on the right-hand-side are zeros). This is the same as multiplying x by 2**y.\n",
        "\n",
        "**x >> y**\n",
        "\n",
        "\n",
        "Returns x with the bits shifted to the right by y places. This is the same as //'ing x by 2**y.\n",
        "\n",
        "\n",
        "**x & y** \n",
        "\n",
        "\n",
        "Does a \"bitwise and\". Each bit of the output is 1 if the corresponding bit of x AND of y is 1, otherwise it's 0.\n",
        "\n",
        "\n",
        "**x | y** \n",
        "\n",
        "\n",
        "Does a \"bitwise or\". Each bit of the output is 0 if the corresponding bit of x AND of y is 0, otherwise it's 1.\n",
        "\n",
        "\n",
        "**~ x**\n",
        "\n",
        "\n",
        "Returns the complement of x - the number you get by switching each 1 for a 0 and each 0 for a 1. This is the same as -x - 1.\n",
        "\n",
        "\n",
        " **x ^ y**\n",
        "\n",
        "\n",
        "Does a \"bitwise exclusive or\". Each bit of the output is the same as the corresponding bit in x if that bit in y is 0, and it's the complement of the bit in x if that bit in y is 1.\n",
        "\n",
        "\n",
        "Just remember about that infinite series of 1 bits in a negative number, and these should all make sense."
      ]
    },
    {
      "cell_type": "code",
      "metadata": {
        "id": "jqwBm8K_g4RN",
        "colab_type": "code",
        "outputId": "f1f2200d-193b-4e1b-efa6-49501e7fc80a",
        "colab": {
          "base_uri": "https://localhost:8080/",
          "height": 69
        }
      },
      "source": [
        "#Russian peasant's algorithm for multiplication\n",
        "\n",
        "def russian(a, b):\n",
        "  x = a; y = b\n",
        "  z = 0\n",
        "  while x > 0:\n",
        "      if x % 2 == 1:\n",
        "        z = z + y\n",
        "        print('z=',z)\n",
        "      y = y << 1 # same as y = y * 2**1 (bit shift left)\n",
        "      x = x >> 1 # same as x = x-1 / 2**1 (rounding down if half)\n",
        "  return z\n",
        "\n",
        "russian(20,7)"
      ],
      "execution_count": 2,
      "outputs": [
        {
          "output_type": "stream",
          "text": [
            "z= 28\n",
            "z= 140\n"
          ],
          "name": "stdout"
        },
        {
          "output_type": "execute_result",
          "data": {
            "text/plain": [
              "140"
            ]
          },
          "metadata": {
            "tags": []
          },
          "execution_count": 2
        }
      ]
    },
    {
      "cell_type": "code",
      "metadata": {
        "id": "VoSvd0AAg65g",
        "colab_type": "code",
        "outputId": "6cefe724-376f-4fd4-8642-6289c77d1040",
        "colab": {
          "base_uri": "https://localhost:8080/",
          "height": 35
        }
      },
      "source": [
        "print(17 >> 1, 11/5, 11.0/5.0)"
      ],
      "execution_count": 3,
      "outputs": [
        {
          "output_type": "stream",
          "text": [
            "8 2.2 2.2\n"
          ],
          "name": "stdout"
        }
      ]
    },
    {
      "cell_type": "code",
      "metadata": {
        "id": "YbESq-9X7HtU",
        "colab_type": "code",
        "colab": {
          "base_uri": "https://localhost:8080/",
          "height": 69
        },
        "outputId": "e7697075-f119-45c4-dca7-ba710430c77e"
      },
      "source": [
        "# Writing a funtion time() for counting the unit steps for function countdown()\n",
        "\n",
        "import math\n",
        "\n",
        "def countdown(x):\n",
        "  y = 0\n",
        "  while x > 0:\n",
        "    x = x - 5\n",
        "    y = y + 1\n",
        "  print (y)\n",
        "\n",
        "def time(n):\n",
        "  step = 3+2*(math.ceil(n/5))\n",
        "  return step\n",
        "\n",
        "def time2(n):\n",
        "  step=0\n",
        "  while n>0:\n",
        "    n=n-5\n",
        "    step=step+1\n",
        "  return 3+step*2\n",
        "\n",
        "countdown(6)\n",
        "print(time(6))\n",
        "print(time2(6))"
      ],
      "execution_count": 4,
      "outputs": [
        {
          "output_type": "stream",
          "text": [
            "2\n",
            "7\n",
            "7\n"
          ],
          "name": "stdout"
        }
      ]
    },
    {
      "cell_type": "markdown",
      "metadata": {
        "id": "i3htHI8Kat6K",
        "colab_type": "text"
      },
      "source": [
        "[How many times can you halve a number rounding down before it becomes zero?](https://github.com/muke888/Professional-Programs/blob/master/Udacity%20-%20Artificial%20Intelligence/Intro%20to%20Algorithms/Capture1.PNG)"
      ]
    },
    {
      "cell_type": "code",
      "metadata": {
        "id": "a64EwwxFRDbz",
        "colab_type": "code",
        "colab": {
          "base_uri": "https://localhost:8080/",
          "height": 69
        },
        "outputId": "380b1fab-ea71-4e1a-c948-670f1d2e2f29"
      },
      "source": [
        "# counting steps in naive as a function of a\n",
        "\n",
        "def naive(a, b):\n",
        "    x = a\n",
        "    y = b\n",
        "    z = 0\n",
        "    while x > 0:\n",
        "        z = z + y\n",
        "        x = x - 1\n",
        "    return z\n",
        "\n",
        "def time(a):\n",
        "    # The number of steps it takes to execute naive(a, b)\n",
        "    # as a function of a\n",
        "    steps = 0\n",
        "    while a > 0:\n",
        "        steps=steps+1\n",
        "        a=a-1\n",
        "    return 2*steps+3\n",
        "\n",
        "def time2(a):\n",
        "    # The number of steps it takes to execute naive(a, b)\n",
        "    # as a function of a\n",
        "    return 2*a+3\n",
        "\n",
        "print(naive(3,3))\n",
        "print(time(3))\n",
        "print(time2(3))"
      ],
      "execution_count": 5,
      "outputs": [
        {
          "output_type": "stream",
          "text": [
            "9\n",
            "9\n",
            "9\n"
          ],
          "name": "stdout"
        }
      ]
    },
    {
      "cell_type": "code",
      "metadata": {
        "id": "ubBY4rkZRDeM",
        "colab_type": "code",
        "colab": {
          "base_uri": "https://localhost:8080/",
          "height": 35
        },
        "outputId": "af1ecdfc-42ae-43b3-c511-be4958f17c91"
      },
      "source": [
        "#Russian expressed recursively\n",
        "\n",
        "def russian_rec(a,b):\n",
        "  if a == 0: return 0\n",
        "  if a % 2 == 0: return 2 * russian_rec(a/2,b)\n",
        "  return b + 2 * russian_rec((a-1)/2,b)\n",
        "\n",
        "russian_rec(8,10)"
      ],
      "execution_count": 6,
      "outputs": [
        {
          "output_type": "execute_result",
          "data": {
            "text/plain": [
              "80"
            ]
          },
          "metadata": {
            "tags": []
          },
          "execution_count": 6
        }
      ]
    },
    {
      "cell_type": "markdown",
      "metadata": {
        "id": "530syQnQbBCu",
        "colab_type": "text"
      },
      "source": [
        "[Compute time for russian_rec()](https://github.com/muke888/Professional-Programs/blob/master/Udacity%20-%20Artificial%20Intelligence/Intro%20to%20Algorithms/Russian%20recursive.PNG/)"
      ]
    },
    {
      "cell_type": "code",
      "metadata": {
        "id": "pGVJRYUbTBFe",
        "colab_type": "code",
        "colab": {}
      },
      "source": [
        ""
      ],
      "execution_count": 0,
      "outputs": []
    }
  ]
}