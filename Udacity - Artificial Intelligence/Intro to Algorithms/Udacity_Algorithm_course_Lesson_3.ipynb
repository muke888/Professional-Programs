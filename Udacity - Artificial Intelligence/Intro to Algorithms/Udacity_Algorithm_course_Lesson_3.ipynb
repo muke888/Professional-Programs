{
  "nbformat": 4,
  "nbformat_minor": 0,
  "metadata": {
    "colab": {
      "name": "Udacity Algorithm course - Lesson 3.ipynb",
      "provenance": [],
      "collapsed_sections": [],
      "authorship_tag": "ABX9TyMNdWFjEkDla0mX4G6KhiLE",
      "include_colab_link": true
    },
    "kernelspec": {
      "name": "python3",
      "display_name": "Python 3"
    }
  },
  "cells": [
    {
      "cell_type": "markdown",
      "metadata": {
        "id": "view-in-github",
        "colab_type": "text"
      },
      "source": [
        "<a href=\"https://colab.research.google.com/github/muke888/Professional-Programs/blob/master/Udacity%20-%20Artificial%20Intelligence/Intro%20to%20Algorithms/Udacity_Algorithm_course_Lesson_3.ipynb\" target=\"_parent\"><img src=\"https://colab.research.google.com/assets/colab-badge.svg\" alt=\"Open In Colab\"/></a>"
      ]
    },
    {
      "cell_type": "markdown",
      "metadata": {
        "id": "p5iQAqKqrJVp",
        "colab_type": "text"
      },
      "source": [
        "### Graph theory\n",
        "\n",
        "![Network topologies](https://kingofnetworking.weebly.com/uploads/7/8/7/4/7874226/6239652.gif?626)\n",
        "\n",
        "\n",
        "\n",
        "![Grid/Lattice netowrk](http://www.patternsinnature.org/Images/Book%20Gallery/NetworkSquareLattice.jpg)"
      ]
    },
    {
      "cell_type": "code",
      "metadata": {
        "id": "EcTZ6bXDu5iq",
        "colab_type": "code",
        "outputId": "08540be8-f174-420a-fec3-b2cee16c1783",
        "colab": {
          "base_uri": "https://localhost:8080/",
          "height": 52
        }
      },
      "source": [
        "# Ring network\n",
        "\n",
        "def make_link(G, node1, node2):\n",
        "  if node1 not in G:\n",
        "    G[node1]={}\n",
        "  (G[node1])[node2] = 1\n",
        "  if node2 not in G:\n",
        "    G[node2]={}\n",
        "  (G[node2])[node1] = 1\n",
        "  return G\n",
        "\n",
        "#Make an empty graph\n",
        "a_ring={}\n",
        "\n",
        "#Node count\n",
        "n=5 \n",
        "\n",
        "#Add in the edges\n",
        "for i in range(n):\n",
        "  make_link(a_ring,i,(i+1)%n)\n",
        "\n",
        "#How many nodes? 5\n",
        "print (len(a_ring))\n",
        "\n",
        "#How many edges if nodes are 5?\n",
        "print (sum([len(a_ring[node]) for node in a_ring.keys()])/2)"
      ],
      "execution_count": 0,
      "outputs": [
        {
          "output_type": "stream",
          "text": [
            "5\n",
            "5.0\n"
          ],
          "name": "stdout"
        }
      ]
    },
    {
      "cell_type": "code",
      "metadata": {
        "id": "70JU_hAwq-rD",
        "colab_type": "code",
        "outputId": "d8e1cc22-f019-46df-a536-ce1b53c0f755",
        "colab": {
          "base_uri": "https://localhost:8080/",
          "height": 52
        }
      },
      "source": [
        "# Grid/Lattice Network\n",
        "\n",
        "import math\n",
        "\n",
        "def make_link(G, node1, node2):\n",
        "  if node1 not in G:\n",
        "    G[node1]={}\n",
        "  (G[node1])[node2] = 1\n",
        "  if node2 not in G:\n",
        "    G[node2]={}\n",
        "  (G[node2])[node1] = 1\n",
        "  return G\n",
        "\n",
        "#Make an empty graph:\n",
        "G={}\n",
        "#Node count\n",
        "n=256\n",
        "side=int(math.sqrt(n)) #16 as 16^2=256 node count\n",
        "\n",
        "#Add in the edges\n",
        "for i in range(side):\n",
        "  for j in range(side):\n",
        "    if i < side-1: make_link(G, (i,j),(i+1,j))\n",
        "    if j < side-1: make_link(G, (i,j),(i,j+1))\n",
        "\n",
        "#How many nodes? 256\n",
        "print (len(G))\n",
        "\n",
        "#How many edges if nodes are 256?\n",
        "print (sum([len(G[node]) for node in G.keys()])/2)"
      ],
      "execution_count": 0,
      "outputs": [
        {
          "output_type": "stream",
          "text": [
            "256\n",
            "480.0\n"
          ],
          "name": "stdout"
        }
      ]
    },
    {
      "cell_type": "markdown",
      "metadata": {
        "id": "1F1N7mBhby05",
        "colab_type": "text"
      },
      "source": [
        "![Complete graph examples](https://i.stack.imgur.com/JxZGM.png)"
      ]
    },
    {
      "cell_type": "code",
      "metadata": {
        "id": "M7n3FReSb3mx",
        "colab_type": "code",
        "outputId": "a55d65c0-4107-4504-a200-3d962a66dc0a",
        "colab": {
          "base_uri": "https://localhost:8080/",
          "height": 52
        }
      },
      "source": [
        "# https://math.stackexchange.com/questions/17747/why-a-complete-graph-has-fracnn-12-edges\n",
        "# How many edges in a complete graph on n nodes? \n",
        "\n",
        "def make_link(G, node1, node2):\n",
        "  if node1 not in G:\n",
        "    G[node1]={}\n",
        "  (G[node1])[node2] = 1\n",
        "  if node2 not in G:\n",
        "    G[node2]={}\n",
        "  (G[node2])[node1] = 1\n",
        "  return G\n",
        "\n",
        "\n",
        "def clique(n):\n",
        "    G={}\n",
        "    for i in range(n):\n",
        "      for j in range(n):\n",
        "        if i < j : make_link(G, i, j)\n",
        "    return sum([len(G[node]) for node in G.keys()])/2\n",
        "\n",
        "\n",
        "def clique2(n):\n",
        "    # Return the number of edges\n",
        "    # Try to use a mathematical formula...\n",
        "    \n",
        "    return n*(n-1)/2\n",
        "\n",
        "print(clique(7))\n",
        "clique2(7)"
      ],
      "execution_count": 0,
      "outputs": [
        {
          "output_type": "stream",
          "text": [
            "21.0\n"
          ],
          "name": "stdout"
        },
        {
          "output_type": "execute_result",
          "data": {
            "text/plain": [
              "21.0"
            ]
          },
          "metadata": {
            "tags": []
          },
          "execution_count": 3
        }
      ]
    },
    {
      "cell_type": "markdown",
      "metadata": {
        "id": "aAtlzaYpvnS0",
        "colab_type": "text"
      },
      "source": [
        "## Hypercube graph\n",
        "In N-cube graph we have no. of vertices = 2^N and no. of edges =  N∗2^(N−1), Big theta = n*log(n)\n",
        "\n",
        "\n",
        "https://gateoverflow.in/43176/n-cube-graph\n",
        "![alt text](https://gateoverflow.in/?qa=blob&qa_blobid=14076275061877224105)\n",
        "\n",
        "\n",
        "\n",
        "\n",
        "\n",
        "## Tree Graph\n",
        "\n",
        "![alt text](https://slideplayer.com/slide/10377578/35/images/3/10.1+Introduction+to+Trees+Def+1+A+tree+is+a+connected+undirected+graph+with+no+simple+circuits.+Example+1.+Which+of+the+graphs+are+trees.jpg)\n",
        "\n",
        "\n",
        "https://slideplayer.com/slide/10377578/"
      ]
    },
    {
      "cell_type": "markdown",
      "metadata": {
        "id": "MnwudNT_2jbG",
        "colab_type": "text"
      },
      "source": [
        "## Erdős–Rényi model\n",
        "https://www.youtube.com/watch?v=XwVZ5VttrW0\n",
        "\n",
        "![alt text](https://i.ytimg.com/vi/XwVZ5VttrW0/maxresdefault.jpg)"
      ]
    },
    {
      "cell_type": "markdown",
      "metadata": {
        "id": "W6cmzZkV34s9",
        "colab_type": "text"
      },
      "source": [
        "![alt text](https://github.com/muke888/Professional-Programs/blob/master/Udacity%20-%20Artificial%20Intelligence/Intro%20to%20Algorithms/Recap%20Lesson%203.JPG)\n",
        "\n",
        "https://github.com/muke888/Professional-Programs/blob/master/Udacity%20-%20Artificial%20Intelligence/Intro%20to%20Algorithms/Recap%20Lesson%203.JPG"
      ]
    },
    {
      "cell_type": "code",
      "metadata": {
        "id": "3tEyW89IvsFk",
        "colab_type": "code",
        "colab": {}
      },
      "source": [
        ""
      ],
      "execution_count": 0,
      "outputs": []
    }
  ]
}