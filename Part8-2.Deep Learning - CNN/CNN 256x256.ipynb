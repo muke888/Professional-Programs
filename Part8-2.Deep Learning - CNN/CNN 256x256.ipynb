{
  "nbformat": 4,
  "nbformat_minor": 0,
  "metadata": {
    "colab": {
      "name": "CNN.ipynb",
      "version": "0.3.2",
      "provenance": [],
      "collapsed_sections": []
    },
    "kernelspec": {
      "name": "python3",
      "display_name": "Python 3"
    },
    "accelerator": "GPU"
  },
  "cells": [
    {
      "metadata": {
        "id": "OKVa4eFQKG5w",
        "colab_type": "code",
        "outputId": "05d25425-8f21-4217-fb90-856fd28d661e",
        "colab": {
          "base_uri": "https://localhost:8080/",
          "height": 34
        }
      },
      "cell_type": "code",
      "source": [
        "# Convolutional Neural Network\n",
        "\n",
        "# Installing Theano\n",
        "# pip install --upgrade --no-deps git+git://github.com/Theano/Theano.git\n",
        "\n",
        "# Installing Tensorflow\n",
        "# Install Tensorflow from the website: https://www.tensorflow.org/versions/r0.12/get_started/os_setup.html\n",
        "\n",
        "# Installing Keras\n",
        "# pip install --upgrade keras\n",
        "\n",
        "# Part 1 - Building the CNN\n",
        "\n",
        "# Importing the Keras libraries and packages\n",
        "from keras.models import Sequential\n",
        "from keras.layers import Convolution2D\n",
        "from keras.layers import MaxPooling2D\n",
        "from keras.layers import Flatten\n",
        "from keras.layers import Dense"
      ],
      "execution_count": 1,
      "outputs": [
        {
          "output_type": "stream",
          "text": [
            "Using TensorFlow backend.\n"
          ],
          "name": "stderr"
        }
      ]
    },
    {
      "metadata": {
        "id": "pmr4EqDdKRL9",
        "colab_type": "code",
        "outputId": "ad20a89f-dce8-43b1-8434-868bf6f61659",
        "colab": {
          "base_uri": "https://localhost:8080/",
          "height": 34
        }
      },
      "cell_type": "code",
      "source": [
        "from google.colab import drive\n",
        "drive.mount('/content/gdrive')"
      ],
      "execution_count": 2,
      "outputs": [
        {
          "output_type": "stream",
          "text": [
            "Drive already mounted at /content/gdrive; to attempt to forcibly remount, call drive.mount(\"/content/gdrive\", force_remount=True).\n"
          ],
          "name": "stdout"
        }
      ]
    },
    {
      "metadata": {
        "id": "ci3HxO7wUA5f",
        "colab_type": "code",
        "colab": {}
      },
      "cell_type": "code",
      "source": [
        "#!ls /content/gdrive/My\\ Drive/Colab\\ Notebooks/*"
      ],
      "execution_count": 0,
      "outputs": []
    },
    {
      "metadata": {
        "id": "7MOu9J4WKROS",
        "colab_type": "code",
        "outputId": "ae6aaadc-25b6-4b79-fc54-dcc6b57cf699",
        "colab": {
          "base_uri": "https://localhost:8080/",
          "height": 138
        }
      },
      "cell_type": "code",
      "source": [
        "# Initialising the CNN\n",
        "classifier = Sequential()\n",
        "\n",
        "# Step 1 - Convolution - 32 3x3 feature detectors creating feature maps\n",
        "classifier.add(Convolution2D(32, 3, 3, input_shape = (256, 256, 3), activation = 'relu'))\n",
        "\n",
        "# Step 2 - Pooling - shrinking the feature maps to 2x2 \n",
        "classifier.add(MaxPooling2D(pool_size = (2, 2)))\n",
        "\n",
        "# Adding a second convolutional layer\n",
        "classifier.add(Convolution2D(32, 3, 3, activation = 'relu'))\n",
        "classifier.add(MaxPooling2D(pool_size = (2, 2)))\n",
        "\n",
        "\n",
        "# Step 3 - Flattening - reshaping into  input vector to prepare for NN\n",
        "classifier.add(Flatten())\n",
        "\n",
        "# Step 4 - Full connection\n",
        "classifier.add(Dense(output_dim = 128, activation = 'relu'))\n",
        "classifier.add(Dense(output_dim = 1, activation = 'sigmoid'))\n",
        "# Compiling the CNN\n",
        "classifier.compile(optimizer = 'adam', loss = 'binary_crossentropy', metrics = ['accuracy'])\n"
      ],
      "execution_count": 8,
      "outputs": [
        {
          "output_type": "stream",
          "text": [
            "/usr/local/lib/python3.6/dist-packages/ipykernel_launcher.py:4: UserWarning: Update your `Conv2D` call to the Keras 2 API: `Conv2D(32, (3, 3), input_shape=(256, 256,..., activation=\"relu\")`\n",
            "  after removing the cwd from sys.path.\n",
            "/usr/local/lib/python3.6/dist-packages/ipykernel_launcher.py:10: UserWarning: Update your `Conv2D` call to the Keras 2 API: `Conv2D(32, (3, 3), activation=\"relu\")`\n",
            "  # Remove the CWD from sys.path while we load stuff.\n",
            "/usr/local/lib/python3.6/dist-packages/ipykernel_launcher.py:18: UserWarning: Update your `Dense` call to the Keras 2 API: `Dense(activation=\"relu\", units=128)`\n",
            "/usr/local/lib/python3.6/dist-packages/ipykernel_launcher.py:19: UserWarning: Update your `Dense` call to the Keras 2 API: `Dense(activation=\"sigmoid\", units=1)`\n"
          ],
          "name": "stderr"
        }
      ]
    },
    {
      "metadata": {
        "id": "o8WyJT_TKaAn",
        "colab_type": "code",
        "outputId": "b8587009-bfbe-4663-95a8-782315fc6898",
        "colab": {
          "base_uri": "https://localhost:8080/",
          "height": 907
        }
      },
      "cell_type": "code",
      "source": [
        "# Part 2 - Fitting the CNN to the images\n",
        "\n",
        "from keras.preprocessing.image import ImageDataGenerator\n",
        "\n",
        "train_datagen = ImageDataGenerator(rescale = 1./255,\n",
        "                                   shear_range = 0.2,\n",
        "                                   zoom_range = 0.2,\n",
        "                                   horizontal_flip = True)\n",
        "\n",
        "test_datagen = ImageDataGenerator(rescale = 1./255)\n",
        "\n",
        "training_set = train_datagen.flow_from_directory('/content/gdrive/My Drive/Colab Notebooks/training_set',\n",
        "                                                 target_size = (256, 256),\n",
        "                                                 batch_size = 32,\n",
        "                                                 class_mode = 'binary')\n",
        "\n",
        "test_set = test_datagen.flow_from_directory('/content/gdrive/My Drive/Colab Notebooks/test_set',\n",
        "                                            target_size = (256, 256),\n",
        "                                            batch_size = 32,\n",
        "                                            class_mode = 'binary')\n",
        "\n",
        "classifier.fit_generator(training_set,\n",
        "                         steps_per_epoch = 8000/32,\n",
        "                         epochs = 25,\n",
        "                         validation_data = test_set,\n",
        "                         validation_steps = 2000/32)"
      ],
      "execution_count": 9,
      "outputs": [
        {
          "output_type": "stream",
          "text": [
            "Found 8000 images belonging to 2 classes.\n",
            "Found 2000 images belonging to 2 classes.\n",
            "Epoch 1/25\n",
            "250/250 [==============================] - 173s 694ms/step - loss: 0.7086 - acc: 0.5690 - val_loss: 0.6575 - val_acc: 0.6025\n",
            "Epoch 2/25\n",
            "250/250 [==============================] - 167s 670ms/step - loss: 0.6398 - acc: 0.6319 - val_loss: 0.6291 - val_acc: 0.6720\n",
            "Epoch 3/25\n",
            "250/250 [==============================] - 167s 669ms/step - loss: 0.6070 - acc: 0.6757 - val_loss: 0.5777 - val_acc: 0.6900\n",
            "Epoch 4/25\n",
            "250/250 [==============================] - 168s 671ms/step - loss: 0.5773 - acc: 0.6996 - val_loss: 0.5736 - val_acc: 0.6945\n",
            "Epoch 5/25\n",
            "250/250 [==============================] - 167s 667ms/step - loss: 0.5506 - acc: 0.7189 - val_loss: 0.5329 - val_acc: 0.7305\n",
            "Epoch 6/25\n",
            "250/250 [==============================] - 167s 668ms/step - loss: 0.5297 - acc: 0.7365 - val_loss: 0.5513 - val_acc: 0.7305\n",
            "Epoch 7/25\n",
            "250/250 [==============================] - 167s 667ms/step - loss: 0.5104 - acc: 0.7508 - val_loss: 0.5088 - val_acc: 0.7430\n",
            "Epoch 8/25\n",
            "250/250 [==============================] - 168s 672ms/step - loss: 0.4777 - acc: 0.7779 - val_loss: 0.5495 - val_acc: 0.7275\n",
            "Epoch 9/25\n",
            "250/250 [==============================] - 164s 655ms/step - loss: 0.4556 - acc: 0.7854 - val_loss: 0.5257 - val_acc: 0.7555\n",
            "Epoch 10/25\n",
            "250/250 [==============================] - 166s 662ms/step - loss: 0.4349 - acc: 0.8005 - val_loss: 0.5066 - val_acc: 0.7740\n",
            "Epoch 11/25\n",
            "250/250 [==============================] - 165s 661ms/step - loss: 0.4241 - acc: 0.8031 - val_loss: 0.4970 - val_acc: 0.7710\n",
            "Epoch 12/25\n",
            "250/250 [==============================] - 166s 666ms/step - loss: 0.4031 - acc: 0.8177 - val_loss: 0.5092 - val_acc: 0.7730\n",
            "Epoch 13/25\n",
            "250/250 [==============================] - 168s 673ms/step - loss: 0.3854 - acc: 0.8267 - val_loss: 0.4960 - val_acc: 0.7870\n",
            "Epoch 14/25\n",
            "250/250 [==============================] - 167s 669ms/step - loss: 0.3754 - acc: 0.8306 - val_loss: 0.5004 - val_acc: 0.7950\n",
            "Epoch 15/25\n",
            "250/250 [==============================] - 165s 662ms/step - loss: 0.3524 - acc: 0.8494 - val_loss: 0.4759 - val_acc: 0.7950\n",
            "Epoch 16/25\n",
            "250/250 [==============================] - 168s 671ms/step - loss: 0.3358 - acc: 0.8574 - val_loss: 0.4877 - val_acc: 0.8000\n",
            "Epoch 17/25\n",
            "250/250 [==============================] - 166s 665ms/step - loss: 0.3131 - acc: 0.8660 - val_loss: 0.5142 - val_acc: 0.7900\n",
            "Epoch 18/25\n",
            "250/250 [==============================] - 165s 661ms/step - loss: 0.3179 - acc: 0.8591 - val_loss: 0.5332 - val_acc: 0.7905\n",
            "Epoch 19/25\n",
            "250/250 [==============================] - 166s 666ms/step - loss: 0.2935 - acc: 0.8769 - val_loss: 0.5389 - val_acc: 0.7845\n",
            "Epoch 20/25\n",
            "250/250 [==============================] - 164s 657ms/step - loss: 0.2799 - acc: 0.8850 - val_loss: 0.5514 - val_acc: 0.7880\n",
            "Epoch 21/25\n",
            "250/250 [==============================] - 166s 663ms/step - loss: 0.2640 - acc: 0.8864 - val_loss: 0.5692 - val_acc: 0.7955\n",
            "Epoch 22/25\n",
            "250/250 [==============================] - 168s 674ms/step - loss: 0.2686 - acc: 0.8905 - val_loss: 0.5878 - val_acc: 0.7715\n",
            "Epoch 23/25\n",
            "250/250 [==============================] - 168s 671ms/step - loss: 0.2413 - acc: 0.9012 - val_loss: 0.5744 - val_acc: 0.7935\n",
            "Epoch 24/25\n",
            "250/250 [==============================] - 168s 672ms/step - loss: 0.2300 - acc: 0.9042 - val_loss: 0.6175 - val_acc: 0.7810\n",
            "Epoch 25/25\n",
            "250/250 [==============================] - 168s 670ms/step - loss: 0.2129 - acc: 0.9141 - val_loss: 0.6315 - val_acc: 0.7795\n"
          ],
          "name": "stdout"
        },
        {
          "output_type": "execute_result",
          "data": {
            "text/plain": [
              "<keras.callbacks.History at 0x7efd376b7198>"
            ]
          },
          "metadata": {
            "tags": []
          },
          "execution_count": 9
        }
      ]
    },
    {
      "metadata": {
        "id": "xX3pi9NtKRQh",
        "colab_type": "code",
        "colab": {}
      },
      "cell_type": "code",
      "source": [
        "#To download from drive into colab instance:\n",
        "!cp '/content/gdrive/My Drive/<file_path_on_google_drive>' <filename_in_colabo>"
      ],
      "execution_count": 0,
      "outputs": []
    }
  ]
}