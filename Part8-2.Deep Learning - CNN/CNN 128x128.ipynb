{
  "nbformat": 4,
  "nbformat_minor": 0,
  "metadata": {
    "colab": {
      "name": "CNN.ipynb",
      "version": "0.3.2",
      "provenance": [],
      "collapsed_sections": []
    },
    "kernelspec": {
      "name": "python3",
      "display_name": "Python 3"
    },
    "accelerator": "GPU"
  },
  "cells": [
    {
      "metadata": {
        "id": "OKVa4eFQKG5w",
        "colab_type": "code",
        "outputId": "05d25425-8f21-4217-fb90-856fd28d661e",
        "colab": {
          "base_uri": "https://localhost:8080/",
          "height": 34
        }
      },
      "cell_type": "code",
      "source": [
        "# Convolutional Neural Network\n",
        "\n",
        "# Installing Theano\n",
        "# pip install --upgrade --no-deps git+git://github.com/Theano/Theano.git\n",
        "\n",
        "# Installing Tensorflow\n",
        "# Install Tensorflow from the website: https://www.tensorflow.org/versions/r0.12/get_started/os_setup.html\n",
        "\n",
        "# Installing Keras\n",
        "# pip install --upgrade keras\n",
        "\n",
        "# Part 1 - Building the CNN\n",
        "\n",
        "# Importing the Keras libraries and packages\n",
        "from keras.models import Sequential\n",
        "from keras.layers import Convolution2D\n",
        "from keras.layers import MaxPooling2D\n",
        "from keras.layers import Flatten\n",
        "from keras.layers import Dense"
      ],
      "execution_count": 1,
      "outputs": [
        {
          "output_type": "stream",
          "text": [
            "Using TensorFlow backend.\n"
          ],
          "name": "stderr"
        }
      ]
    },
    {
      "metadata": {
        "id": "pmr4EqDdKRL9",
        "colab_type": "code",
        "outputId": "ad20a89f-dce8-43b1-8434-868bf6f61659",
        "colab": {
          "base_uri": "https://localhost:8080/",
          "height": 34
        }
      },
      "cell_type": "code",
      "source": [
        "from google.colab import drive\n",
        "drive.mount('/content/gdrive')"
      ],
      "execution_count": 2,
      "outputs": [
        {
          "output_type": "stream",
          "text": [
            "Drive already mounted at /content/gdrive; to attempt to forcibly remount, call drive.mount(\"/content/gdrive\", force_remount=True).\n"
          ],
          "name": "stdout"
        }
      ]
    },
    {
      "metadata": {
        "id": "ci3HxO7wUA5f",
        "colab_type": "code",
        "colab": {}
      },
      "cell_type": "code",
      "source": [
        "#!ls /content/gdrive/My\\ Drive/Colab\\ Notebooks/*"
      ],
      "execution_count": 0,
      "outputs": []
    },
    {
      "metadata": {
        "id": "7MOu9J4WKROS",
        "colab_type": "code",
        "outputId": "85611696-ee03-4ca6-edf3-1b276e846148",
        "colab": {
          "base_uri": "https://localhost:8080/",
          "height": 138
        }
      },
      "cell_type": "code",
      "source": [
        "# Initialising the CNN\n",
        "classifier = Sequential()\n",
        "\n",
        "# Step 1 - Convolution - 32 3x3 feature detectors creating feature maps\n",
        "classifier.add(Convolution2D(32, 3, 3, input_shape = (128, 128, 3), activation = 'relu'))\n",
        "\n",
        "# Step 2 - Pooling - shrinking the feature maps to 2x2 \n",
        "classifier.add(MaxPooling2D(pool_size = (2, 2)))\n",
        "\n",
        "# Adding a second convolutional layer\n",
        "classifier.add(Convolution2D(32, 3, 3, activation = 'relu'))\n",
        "classifier.add(MaxPooling2D(pool_size = (2, 2)))\n",
        "\n",
        "\n",
        "# Step 3 - Flattening - reshaping into  input vector to prepare for NN\n",
        "classifier.add(Flatten())\n",
        "\n",
        "# Step 4 - Full connection\n",
        "classifier.add(Dense(output_dim = 128, activation = 'relu'))\n",
        "classifier.add(Dense(output_dim = 1, activation = 'sigmoid'))\n",
        "# Compiling the CNN\n",
        "classifier.compile(optimizer = 'adam', loss = 'binary_crossentropy', metrics = ['accuracy'])\n"
      ],
      "execution_count": 6,
      "outputs": [
        {
          "output_type": "stream",
          "text": [
            "/usr/local/lib/python3.6/dist-packages/ipykernel_launcher.py:4: UserWarning: Update your `Conv2D` call to the Keras 2 API: `Conv2D(32, (3, 3), input_shape=(128, 128,..., activation=\"relu\")`\n",
            "  after removing the cwd from sys.path.\n",
            "/usr/local/lib/python3.6/dist-packages/ipykernel_launcher.py:10: UserWarning: Update your `Conv2D` call to the Keras 2 API: `Conv2D(32, (3, 3), activation=\"relu\")`\n",
            "  # Remove the CWD from sys.path while we load stuff.\n",
            "/usr/local/lib/python3.6/dist-packages/ipykernel_launcher.py:18: UserWarning: Update your `Dense` call to the Keras 2 API: `Dense(activation=\"relu\", units=128)`\n",
            "/usr/local/lib/python3.6/dist-packages/ipykernel_launcher.py:19: UserWarning: Update your `Dense` call to the Keras 2 API: `Dense(activation=\"sigmoid\", units=1)`\n"
          ],
          "name": "stderr"
        }
      ]
    },
    {
      "metadata": {
        "id": "o8WyJT_TKaAn",
        "colab_type": "code",
        "outputId": "bb08a743-d0a3-4c12-d254-a7e55dcc461b",
        "colab": {
          "base_uri": "https://localhost:8080/",
          "height": 907
        }
      },
      "cell_type": "code",
      "source": [
        "# Part 2 - Fitting the CNN to the images\n",
        "\n",
        "from keras.preprocessing.image import ImageDataGenerator\n",
        "\n",
        "train_datagen = ImageDataGenerator(rescale = 1./255,\n",
        "                                   shear_range = 0.2,\n",
        "                                   zoom_range = 0.2,\n",
        "                                   horizontal_flip = True)\n",
        "\n",
        "test_datagen = ImageDataGenerator(rescale = 1./255)\n",
        "\n",
        "training_set = train_datagen.flow_from_directory('/content/gdrive/My Drive/Colab Notebooks/training_set',\n",
        "                                                 target_size = (128, 128),\n",
        "                                                 batch_size = 32,\n",
        "                                                 class_mode = 'binary')\n",
        "\n",
        "test_set = test_datagen.flow_from_directory('/content/gdrive/My Drive/Colab Notebooks/test_set',\n",
        "                                            target_size = (128, 128),\n",
        "                                            batch_size = 32,\n",
        "                                            class_mode = 'binary')\n",
        "\n",
        "classifier.fit_generator(training_set,\n",
        "                         steps_per_epoch = 8000/32,\n",
        "                         epochs = 25,\n",
        "                         validation_data = test_set,\n",
        "                         validation_steps = 2000/32)"
      ],
      "execution_count": 7,
      "outputs": [
        {
          "output_type": "stream",
          "text": [
            "Found 8000 images belonging to 2 classes.\n",
            "Found 2000 images belonging to 2 classes.\n",
            "Epoch 1/25\n",
            "250/250 [==============================] - 84s 334ms/step - loss: 0.6728 - acc: 0.5844 - val_loss: 0.6273 - val_acc: 0.6640\n",
            "Epoch 2/25\n",
            "250/250 [==============================] - 80s 319ms/step - loss: 0.5972 - acc: 0.6750 - val_loss: 0.5457 - val_acc: 0.7300\n",
            "Epoch 3/25\n",
            "250/250 [==============================] - 80s 319ms/step - loss: 0.5459 - acc: 0.7240 - val_loss: 0.5313 - val_acc: 0.7415\n",
            "Epoch 4/25\n",
            "250/250 [==============================] - 80s 320ms/step - loss: 0.5074 - acc: 0.7481 - val_loss: 0.5523 - val_acc: 0.7245\n",
            "Epoch 5/25\n",
            "250/250 [==============================] - 80s 319ms/step - loss: 0.4803 - acc: 0.7691 - val_loss: 0.5286 - val_acc: 0.7485\n",
            "Epoch 6/25\n",
            "250/250 [==============================] - 80s 320ms/step - loss: 0.4478 - acc: 0.7856 - val_loss: 0.5305 - val_acc: 0.7625\n",
            "Epoch 7/25\n",
            "250/250 [==============================] - 81s 323ms/step - loss: 0.4331 - acc: 0.7981 - val_loss: 0.4788 - val_acc: 0.7845\n",
            "Epoch 8/25\n",
            "250/250 [==============================] - 80s 321ms/step - loss: 0.4202 - acc: 0.8059 - val_loss: 0.4783 - val_acc: 0.7825\n",
            "Epoch 9/25\n",
            "250/250 [==============================] - 81s 323ms/step - loss: 0.4031 - acc: 0.8124 - val_loss: 0.4572 - val_acc: 0.7855\n",
            "Epoch 10/25\n",
            "250/250 [==============================] - 80s 319ms/step - loss: 0.3870 - acc: 0.8228 - val_loss: 0.4828 - val_acc: 0.7925\n",
            "Epoch 11/25\n",
            "250/250 [==============================] - 80s 320ms/step - loss: 0.3772 - acc: 0.8272 - val_loss: 0.4884 - val_acc: 0.7955\n",
            "Epoch 12/25\n",
            "250/250 [==============================] - 80s 320ms/step - loss: 0.3606 - acc: 0.8371 - val_loss: 0.4888 - val_acc: 0.7885\n",
            "Epoch 13/25\n",
            "250/250 [==============================] - 80s 320ms/step - loss: 0.3463 - acc: 0.8452 - val_loss: 0.4644 - val_acc: 0.7920\n",
            "Epoch 14/25\n",
            "250/250 [==============================] - 80s 320ms/step - loss: 0.3358 - acc: 0.8533 - val_loss: 0.4539 - val_acc: 0.8095\n",
            "Epoch 15/25\n",
            "250/250 [==============================] - 80s 322ms/step - loss: 0.3238 - acc: 0.8621 - val_loss: 0.4910 - val_acc: 0.7990\n",
            "Epoch 16/25\n",
            "250/250 [==============================] - 80s 318ms/step - loss: 0.3103 - acc: 0.8649 - val_loss: 0.4780 - val_acc: 0.7970\n",
            "Epoch 17/25\n",
            "250/250 [==============================] - 80s 321ms/step - loss: 0.2926 - acc: 0.8754 - val_loss: 0.4879 - val_acc: 0.7980\n",
            "Epoch 18/25\n",
            "250/250 [==============================] - 80s 320ms/step - loss: 0.2839 - acc: 0.8748 - val_loss: 0.5478 - val_acc: 0.7825\n",
            "Epoch 19/25\n",
            "250/250 [==============================] - 81s 324ms/step - loss: 0.2764 - acc: 0.8837 - val_loss: 0.4997 - val_acc: 0.8020\n",
            "Epoch 20/25\n",
            "250/250 [==============================] - 80s 322ms/step - loss: 0.2680 - acc: 0.8889 - val_loss: 0.5426 - val_acc: 0.7955\n",
            "Epoch 21/25\n",
            "250/250 [==============================] - 80s 320ms/step - loss: 0.2515 - acc: 0.8916 - val_loss: 0.5433 - val_acc: 0.8025\n",
            "Epoch 22/25\n",
            "250/250 [==============================] - 81s 322ms/step - loss: 0.2442 - acc: 0.8976 - val_loss: 0.5046 - val_acc: 0.8055\n",
            "Epoch 23/25\n",
            "250/250 [==============================] - 80s 319ms/step - loss: 0.2263 - acc: 0.9080 - val_loss: 0.5720 - val_acc: 0.8100\n",
            "Epoch 24/25\n",
            "250/250 [==============================] - 80s 320ms/step - loss: 0.2191 - acc: 0.9100 - val_loss: 0.5470 - val_acc: 0.7995\n",
            "Epoch 25/25\n",
            "250/250 [==============================] - 80s 319ms/step - loss: 0.2091 - acc: 0.9147 - val_loss: 0.5530 - val_acc: 0.8205\n"
          ],
          "name": "stdout"
        },
        {
          "output_type": "execute_result",
          "data": {
            "text/plain": [
              "<keras.callbacks.History at 0x7efd37113ef0>"
            ]
          },
          "metadata": {
            "tags": []
          },
          "execution_count": 7
        }
      ]
    },
    {
      "metadata": {
        "id": "xX3pi9NtKRQh",
        "colab_type": "code",
        "colab": {}
      },
      "cell_type": "code",
      "source": [
        ""
      ],
      "execution_count": 0,
      "outputs": []
    }
  ]
}