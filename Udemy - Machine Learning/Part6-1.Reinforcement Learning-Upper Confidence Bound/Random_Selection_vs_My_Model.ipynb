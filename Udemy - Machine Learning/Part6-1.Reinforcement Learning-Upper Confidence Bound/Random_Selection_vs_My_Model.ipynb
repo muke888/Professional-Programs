{
  "nbformat": 4,
  "nbformat_minor": 0,
  "metadata": {
    "colab": {
      "name": "Random Selection vs My Model.ipynb",
      "version": "0.3.2",
      "provenance": [],
      "collapsed_sections": []
    },
    "kernelspec": {
      "name": "python3",
      "display_name": "Python 3"
    }
  },
  "cells": [
    {
      "metadata": {
        "id": "ek4JzieVD_97",
        "colab_type": "code",
        "outputId": "33121b7a-79a3-452e-ecf7-263639df66ab",
        "colab": {
          "base_uri": "https://localhost:8080/",
          "height": 67
        }
      },
      "cell_type": "code",
      "source": [
        "# Reinforcement learning\n",
        "# Multi-amred bandit problem - random selection vs my own improvised model\n",
        "\n",
        "# We have 10 ad channels and 10000 instances, objective is to maximize selection of ads\n",
        "# Each Ad channel has its own probabilty distribution function\n",
        "\n",
        "# Importing the libraries\n",
        "import numpy as np\n",
        "import matplotlib.pyplot as plt\n",
        "import pandas as pd\n",
        "\n",
        "\n",
        "# Importing the dataset\n",
        "!curl https://raw.githubusercontent.com/muke888/UdemyMachineLearning/master/Part6-1.Reinforcement%20Learning-Upper%20Confidence%20Bound/Ads_CTR_Optimisation.csv -o Ads_CTR_Optimisation.csv"
      ],
      "execution_count": 1,
      "outputs": [
        {
          "output_type": "stream",
          "text": [
            "  % Total    % Received % Xferd  Average Speed   Time    Time     Time  Current\n",
            "                                 Dload  Upload   Total   Spent    Left  Speed\n",
            "\r  0     0    0     0    0     0      0      0 --:--:-- --:--:-- --:--:--     0\r100  205k  100  205k    0     0  1486k      0 --:--:-- --:--:-- --:--:-- 1486k\n"
          ],
          "name": "stdout"
        }
      ]
    },
    {
      "metadata": {
        "id": "tcTv9gRFFcZm",
        "colab_type": "code",
        "outputId": "fb2637cd-6556-4270-a6ed-0ee9e2a1bdfa",
        "colab": {
          "base_uri": "https://localhost:8080/",
          "height": 447
        }
      },
      "cell_type": "code",
      "source": [
        "# Importing the dataset\n",
        "# There are 10000 instances, with 10 Ad channels\n",
        "# Each Ad channel has its own probabilty distribution function\n",
        "dataset = pd.read_csv('Ads_CTR_Optimisation.csv')\n",
        "dataset.info()\n",
        "dataset.head()"
      ],
      "execution_count": 2,
      "outputs": [
        {
          "output_type": "stream",
          "text": [
            "<class 'pandas.core.frame.DataFrame'>\n",
            "RangeIndex: 10000 entries, 0 to 9999\n",
            "Data columns (total 10 columns):\n",
            "Ad 1     10000 non-null int64\n",
            "Ad 2     10000 non-null int64\n",
            "Ad 3     10000 non-null int64\n",
            "Ad 4     10000 non-null int64\n",
            "Ad 5     10000 non-null int64\n",
            "Ad 6     10000 non-null int64\n",
            "Ad 7     10000 non-null int64\n",
            "Ad 8     10000 non-null int64\n",
            "Ad 9     10000 non-null int64\n",
            "Ad 10    10000 non-null int64\n",
            "dtypes: int64(10)\n",
            "memory usage: 781.3 KB\n"
          ],
          "name": "stdout"
        },
        {
          "output_type": "execute_result",
          "data": {
            "text/html": [
              "<div>\n",
              "<style scoped>\n",
              "    .dataframe tbody tr th:only-of-type {\n",
              "        vertical-align: middle;\n",
              "    }\n",
              "\n",
              "    .dataframe tbody tr th {\n",
              "        vertical-align: top;\n",
              "    }\n",
              "\n",
              "    .dataframe thead th {\n",
              "        text-align: right;\n",
              "    }\n",
              "</style>\n",
              "<table border=\"1\" class=\"dataframe\">\n",
              "  <thead>\n",
              "    <tr style=\"text-align: right;\">\n",
              "      <th></th>\n",
              "      <th>Ad 1</th>\n",
              "      <th>Ad 2</th>\n",
              "      <th>Ad 3</th>\n",
              "      <th>Ad 4</th>\n",
              "      <th>Ad 5</th>\n",
              "      <th>Ad 6</th>\n",
              "      <th>Ad 7</th>\n",
              "      <th>Ad 8</th>\n",
              "      <th>Ad 9</th>\n",
              "      <th>Ad 10</th>\n",
              "    </tr>\n",
              "  </thead>\n",
              "  <tbody>\n",
              "    <tr>\n",
              "      <th>0</th>\n",
              "      <td>1</td>\n",
              "      <td>0</td>\n",
              "      <td>0</td>\n",
              "      <td>0</td>\n",
              "      <td>1</td>\n",
              "      <td>0</td>\n",
              "      <td>0</td>\n",
              "      <td>0</td>\n",
              "      <td>1</td>\n",
              "      <td>0</td>\n",
              "    </tr>\n",
              "    <tr>\n",
              "      <th>1</th>\n",
              "      <td>0</td>\n",
              "      <td>0</td>\n",
              "      <td>0</td>\n",
              "      <td>0</td>\n",
              "      <td>0</td>\n",
              "      <td>0</td>\n",
              "      <td>0</td>\n",
              "      <td>0</td>\n",
              "      <td>1</td>\n",
              "      <td>0</td>\n",
              "    </tr>\n",
              "    <tr>\n",
              "      <th>2</th>\n",
              "      <td>0</td>\n",
              "      <td>0</td>\n",
              "      <td>0</td>\n",
              "      <td>0</td>\n",
              "      <td>0</td>\n",
              "      <td>0</td>\n",
              "      <td>0</td>\n",
              "      <td>0</td>\n",
              "      <td>0</td>\n",
              "      <td>0</td>\n",
              "    </tr>\n",
              "    <tr>\n",
              "      <th>3</th>\n",
              "      <td>0</td>\n",
              "      <td>1</td>\n",
              "      <td>0</td>\n",
              "      <td>0</td>\n",
              "      <td>0</td>\n",
              "      <td>0</td>\n",
              "      <td>0</td>\n",
              "      <td>1</td>\n",
              "      <td>0</td>\n",
              "      <td>0</td>\n",
              "    </tr>\n",
              "    <tr>\n",
              "      <th>4</th>\n",
              "      <td>0</td>\n",
              "      <td>0</td>\n",
              "      <td>0</td>\n",
              "      <td>0</td>\n",
              "      <td>0</td>\n",
              "      <td>0</td>\n",
              "      <td>0</td>\n",
              "      <td>0</td>\n",
              "      <td>0</td>\n",
              "      <td>0</td>\n",
              "    </tr>\n",
              "  </tbody>\n",
              "</table>\n",
              "</div>"
            ],
            "text/plain": [
              "   Ad 1  Ad 2  Ad 3  Ad 4  Ad 5  Ad 6  Ad 7  Ad 8  Ad 9  Ad 10\n",
              "0     1     0     0     0     1     0     0     0     1      0\n",
              "1     0     0     0     0     0     0     0     0     1      0\n",
              "2     0     0     0     0     0     0     0     0     0      0\n",
              "3     0     1     0     0     0     0     0     1     0      0\n",
              "4     0     0     0     0     0     0     0     0     0      0"
            ]
          },
          "metadata": {
            "tags": []
          },
          "execution_count": 2
        }
      ]
    },
    {
      "metadata": {
        "id": "_Nn5PnSL5deV",
        "colab_type": "code",
        "outputId": "3f723e6a-046f-426c-83ee-7e4da0186014",
        "colab": {
          "base_uri": "https://localhost:8080/",
          "height": 343
        }
      },
      "cell_type": "code",
      "source": [
        "#Probabilities of ads from Ad1 to Ad10\n",
        "prob1=[]\n",
        "for i in range(len(dataset.columns)):\n",
        "  prob1.append(dataset.values[:,i].sum()/10000)\n",
        "prob1=np.array(prob1)\n",
        "prob=pd.DataFrame(data=prob1, index=dataset.columns, columns=['Prob'])\n",
        "prob=prob.reset_index()\n",
        "prob"
      ],
      "execution_count": 3,
      "outputs": [
        {
          "output_type": "execute_result",
          "data": {
            "text/html": [
              "<div>\n",
              "<style scoped>\n",
              "    .dataframe tbody tr th:only-of-type {\n",
              "        vertical-align: middle;\n",
              "    }\n",
              "\n",
              "    .dataframe tbody tr th {\n",
              "        vertical-align: top;\n",
              "    }\n",
              "\n",
              "    .dataframe thead th {\n",
              "        text-align: right;\n",
              "    }\n",
              "</style>\n",
              "<table border=\"1\" class=\"dataframe\">\n",
              "  <thead>\n",
              "    <tr style=\"text-align: right;\">\n",
              "      <th></th>\n",
              "      <th>index</th>\n",
              "      <th>Prob</th>\n",
              "    </tr>\n",
              "  </thead>\n",
              "  <tbody>\n",
              "    <tr>\n",
              "      <th>0</th>\n",
              "      <td>Ad 1</td>\n",
              "      <td>0.1703</td>\n",
              "    </tr>\n",
              "    <tr>\n",
              "      <th>1</th>\n",
              "      <td>Ad 2</td>\n",
              "      <td>0.1295</td>\n",
              "    </tr>\n",
              "    <tr>\n",
              "      <th>2</th>\n",
              "      <td>Ad 3</td>\n",
              "      <td>0.0728</td>\n",
              "    </tr>\n",
              "    <tr>\n",
              "      <th>3</th>\n",
              "      <td>Ad 4</td>\n",
              "      <td>0.1196</td>\n",
              "    </tr>\n",
              "    <tr>\n",
              "      <th>4</th>\n",
              "      <td>Ad 5</td>\n",
              "      <td>0.2695</td>\n",
              "    </tr>\n",
              "    <tr>\n",
              "      <th>5</th>\n",
              "      <td>Ad 6</td>\n",
              "      <td>0.0126</td>\n",
              "    </tr>\n",
              "    <tr>\n",
              "      <th>6</th>\n",
              "      <td>Ad 7</td>\n",
              "      <td>0.1112</td>\n",
              "    </tr>\n",
              "    <tr>\n",
              "      <th>7</th>\n",
              "      <td>Ad 8</td>\n",
              "      <td>0.2091</td>\n",
              "    </tr>\n",
              "    <tr>\n",
              "      <th>8</th>\n",
              "      <td>Ad 9</td>\n",
              "      <td>0.0952</td>\n",
              "    </tr>\n",
              "    <tr>\n",
              "      <th>9</th>\n",
              "      <td>Ad 10</td>\n",
              "      <td>0.0489</td>\n",
              "    </tr>\n",
              "  </tbody>\n",
              "</table>\n",
              "</div>"
            ],
            "text/plain": [
              "   index    Prob\n",
              "0   Ad 1  0.1703\n",
              "1   Ad 2  0.1295\n",
              "2   Ad 3  0.0728\n",
              "3   Ad 4  0.1196\n",
              "4   Ad 5  0.2695\n",
              "5   Ad 6  0.0126\n",
              "6   Ad 7  0.1112\n",
              "7   Ad 8  0.2091\n",
              "8   Ad 9  0.0952\n",
              "9  Ad 10  0.0489"
            ]
          },
          "metadata": {
            "tags": []
          },
          "execution_count": 3
        }
      ]
    },
    {
      "metadata": {
        "id": "qlBaCFyV7tqC",
        "colab_type": "code",
        "outputId": "56ee69dd-5273-461a-9ddb-c1ea17128616",
        "colab": {
          "base_uri": "https://localhost:8080/",
          "height": 393
        }
      },
      "cell_type": "code",
      "source": [
        "prob.plot(kind='line', x='index', y='Prob', c='DarkBlue' , xticks=range(10),title='Probabilities of Ads')"
      ],
      "execution_count": 4,
      "outputs": [
        {
          "output_type": "execute_result",
          "data": {
            "text/plain": [
              "<matplotlib.axes._subplots.AxesSubplot at 0x7fd772c25048>"
            ]
          },
          "metadata": {
            "tags": []
          },
          "execution_count": 4
        },
        {
          "output_type": "display_data",
          "data": {
            "image/png": "[encoded data removed]",
            "text/plain": [
              "<matplotlib.figure.Figure at 0x7fd772c61710>"
            ]
          },
          "metadata": {
            "tags": []
          }
        }
      ]
    },
    {
      "metadata": {
        "id": "8hw3kIN_Fcbq",
        "colab_type": "code",
        "colab": {
          "base_uri": "https://localhost:8080/",
          "height": 34
        },
        "outputId": "3acbb95d-a43f-4cd8-a85b-a94272a7f6e9"
      },
      "cell_type": "code",
      "source": [
        "# Implementing Random Selection\n",
        "import random\n",
        "N = 10000\n",
        "d = 10\n",
        "ads_selected = []\n",
        "total_reward = 0\n",
        "for n in range(0, N):\n",
        "    ad = random.randrange(d)\n",
        "    ads_selected.append(ad)\n",
        "    reward = dataset.values[n, ad]\n",
        "    total_reward = total_reward + reward\n",
        "\n",
        "total_reward"
      ],
      "execution_count": 5,
      "outputs": [
        {
          "output_type": "execute_result",
          "data": {
            "text/plain": [
              "1250"
            ]
          },
          "metadata": {
            "tags": []
          },
          "execution_count": 5
        }
      ]
    },
    {
      "metadata": {
        "id": "LeturHUCf9Qt",
        "colab_type": "code",
        "outputId": "2d03e669-9e75-4e33-8e79-359a398b9aa8",
        "colab": {
          "base_uri": "https://localhost:8080/",
          "height": 376
        }
      },
      "cell_type": "code",
      "source": [
        "# Visualising the results\n",
        "# As we can see, the selection is purely random and does not favour any channel\n",
        "plt.hist(ads_selected,edgecolor='black', linewidth=0.5, bins=(np.arange(11) - 0.5))\n",
        "plt.xticks(range(10))\n",
        "plt.title('Histogram of ads selections')\n",
        "plt.xlabel('Ads')\n",
        "plt.ylabel('Number of times each ad was selected')\n",
        "plt.show()"
      ],
      "execution_count": 6,
      "outputs": [
        {
          "output_type": "display_data",
          "data": {
            "image/png": "[encoded data removed]",
            "text/plain": [
              "<matplotlib.figure.Figure at 0x7fd772b7be80>"
            ]
          },
          "metadata": {
            "tags": []
          }
        }
      ]
    },
    {
      "metadata": {
        "id": "ShizzgMAVrS2",
        "colab_type": "code",
        "colab": {
          "base_uri": "https://localhost:8080/",
          "height": 34
        },
        "outputId": "0f142794-a5db-4153-831e-5d4fa5da6256"
      },
      "cell_type": "code",
      "source": [
        "# My own implementation of reinforement learning with improvised reward function\n",
        "# We can see the total reward has almost doubled\n",
        "import random\n",
        "N = 10000\n",
        "d = 10\n",
        "ad_pool = [0,1,2,3,4,5,6,7,8,9]\n",
        "ads_selected = []\n",
        "total_reward = 0\n",
        "for n in range(0, N):\n",
        "    ad = random.choice(ad_pool)\n",
        "    ads_selected.append(ad)\n",
        "    reward = dataset.values[n, ad]\n",
        "    total_reward = total_reward + reward\n",
        "    if reward ==1:\n",
        "      ad_pool.append(ad)\n",
        "    else:\n",
        "      pass\n",
        "\n",
        "total_reward"
      ],
      "execution_count": 7,
      "outputs": [
        {
          "output_type": "execute_result",
          "data": {
            "text/plain": [
              "2385"
            ]
          },
          "metadata": {
            "tags": []
          },
          "execution_count": 7
        }
      ]
    },
    {
      "metadata": {
        "id": "d9rPCEcIWdQm",
        "colab_type": "code",
        "colab": {
          "base_uri": "https://localhost:8080/",
          "height": 376
        },
        "outputId": "1ab53685-7321-4e31-9b2a-aa53a99e7cfd"
      },
      "cell_type": "code",
      "source": [
        "# Visualising the results\n",
        "# We see the ad selection follows the probability distribution of the ad channels\n",
        "plt.hist(ads_selected,edgecolor='black', linewidth=0.5, bins=(np.arange(11) - 0.5))\n",
        "plt.xticks(range(10))\n",
        "plt.title('Histogram of ads selections')\n",
        "plt.xlabel('Ads')\n",
        "plt.ylabel('Number of times each ad was selected')\n",
        "plt.show()"
      ],
      "execution_count": 8,
      "outputs": [
        {
          "output_type": "display_data",
          "data": {
            "image/png": "[encoded data removed]",
            "text/plain": [
              "<matplotlib.figure.Figure at 0x7fd7702e9518>"
            ]
          },
          "metadata": {
            "tags": []
          }
        }
      ]
    },
    {
      "metadata": {
        "id": "CZqvJF9XxRnL",
        "colab_type": "code",
        "colab": {
          "base_uri": "https://localhost:8080/",
          "height": 50
        },
        "outputId": "bc110baa-da8d-4e43-b777-f2ee9e48faaa"
      },
      "cell_type": "code",
      "source": [
        "# The previous model was good, now we implement the 'greedy' method to it, we want to ensure we keep choosing the best model after n=5000 trials\n",
        "\n",
        "import random\n",
        "N1 = 5000\n",
        "N2 = 5000\n",
        "d = 10\n",
        "ad_pool = [0,1,2,3,4,5,6,7,8,9]\n",
        "ads_selected = []\n",
        "total_reward = 0\n",
        "for n in range(0, N):\n",
        "    ad = random.choice(ad_pool)\n",
        "    ads_selected.append(ad)\n",
        "    reward = dataset.values[n, ad]\n",
        "    total_reward = total_reward + reward\n",
        "    if reward ==1:\n",
        "      ad_pool.append(ad)\n",
        "    else:\n",
        "      pass\n",
        "\n",
        "\n",
        "for n in range(0, N2):\n",
        "  ad = max(set(ads_selected), key=ads_selected.count)\n",
        "  ads_selected.append(ad)\n",
        "  reward = dataset.values[n, ad]\n",
        "  total_reward = total_reward + reward\n",
        "  \n",
        "print(ad)\n",
        "total_reward"
      ],
      "execution_count": 9,
      "outputs": [
        {
          "output_type": "stream",
          "text": [
            "4\n"
          ],
          "name": "stdout"
        },
        {
          "output_type": "execute_result",
          "data": {
            "text/plain": [
              "2543"
            ]
          },
          "metadata": {
            "tags": []
          },
          "execution_count": 9
        }
      ]
    },
    {
      "metadata": {
        "id": "00dCYkdEx96C",
        "colab_type": "code",
        "colab": {
          "base_uri": "https://localhost:8080/",
          "height": 376
        },
        "outputId": "c72bc875-e876-403c-8511-cd5ad1680919"
      },
      "cell_type": "code",
      "source": [
        "# Visualising the results\n",
        "#We see that there is a small improvement, yet increased risk of choosing the incorrect 'best model' if N1 is small\n",
        "plt.hist(ads_selected,edgecolor='black', linewidth=0.5, bins=(np.arange(11) - 0.5))\n",
        "plt.xticks(range(10))\n",
        "plt.title('Histogram of ads selections')\n",
        "plt.xlabel('Ads')\n",
        "plt.ylabel('Number of times each ad was selected')\n",
        "plt.show()"
      ],
      "execution_count": 10,
      "outputs": [
        {
          "output_type": "display_data",
          "data": {
            "image/png": "[encoded data removed]",
            "text/plain": [
              "<matplotlib.figure.Figure at 0x7fd770267588>"
            ]
          },
          "metadata": {
            "tags": []
          }
        }
      ]
    }
  ]
}
