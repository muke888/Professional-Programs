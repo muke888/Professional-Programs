{
  "nbformat": 4,
  "nbformat_minor": 0,
  "metadata": {
    "colab": {
      "name": "CNN.ipynb",
      "version": "0.3.2",
      "provenance": [],
      "collapsed_sections": []
    },
    "kernelspec": {
      "name": "python3",
      "display_name": "Python 3"
    },
    "accelerator": "GPU"
  },
  "cells": [
    {
      "metadata": {
        "id": "OKVa4eFQKG5w",
        "colab_type": "code",
        "outputId": "05d25425-8f21-4217-fb90-856fd28d661e",
        "colab": {
          "base_uri": "https://localhost:8080/",
          "height": 34
        }
      },
      "cell_type": "code",
      "source": [
        "# Convolutional Neural Network\n",
        "\n",
        "# Installing Theano\n",
        "# pip install --upgrade --no-deps git+git://github.com/Theano/Theano.git\n",
        "\n",
        "# Installing Tensorflow\n",
        "# Install Tensorflow from the website: https://www.tensorflow.org/versions/r0.12/get_started/os_setup.html\n",
        "\n",
        "# Installing Keras\n",
        "# pip install --upgrade keras\n",
        "\n",
        "# Part 1 - Building the CNN\n",
        "\n",
        "# Importing the Keras libraries and packages\n",
        "from keras.models import Sequential\n",
        "from keras.layers import Convolution2D\n",
        "from keras.layers import MaxPooling2D\n",
        "from keras.layers import Flatten\n",
        "from keras.layers import Dense"
      ],
      "execution_count": 1,
      "outputs": [
        {
          "output_type": "stream",
          "text": [
            "Using TensorFlow backend.\n"
          ],
          "name": "stderr"
        }
      ]
    },
    {
      "metadata": {
        "id": "pmr4EqDdKRL9",
        "colab_type": "code",
        "outputId": "ad20a89f-dce8-43b1-8434-868bf6f61659",
        "colab": {
          "base_uri": "https://localhost:8080/",
          "height": 34
        }
      },
      "cell_type": "code",
      "source": [
        "from google.colab import drive\n",
        "drive.mount('/content/gdrive')"
      ],
      "execution_count": 2,
      "outputs": [
        {
          "output_type": "stream",
          "text": [
            "Drive already mounted at /content/gdrive; to attempt to forcibly remount, call drive.mount(\"/content/gdrive\", force_remount=True).\n"
          ],
          "name": "stdout"
        }
      ]
    },
    {
      "metadata": {
        "id": "ci3HxO7wUA5f",
        "colab_type": "code",
        "colab": {}
      },
      "cell_type": "code",
      "source": [
        "#!ls /content/gdrive/My\\ Drive/Colab\\ Notebooks/*"
      ],
      "execution_count": 0,
      "outputs": []
    },
    {
      "metadata": {
        "id": "7MOu9J4WKROS",
        "colab_type": "code",
        "outputId": "6687ab69-7d77-4563-857f-4f611c3146f2",
        "colab": {
          "base_uri": "https://localhost:8080/",
          "height": 138
        }
      },
      "cell_type": "code",
      "source": [
        "# Initialising the CNN\n",
        "classifier = Sequential()\n",
        "\n",
        "# Step 1 - Convolution - 32 3x3 feature detectors creating feature maps\n",
        "classifier.add(Convolution2D(32, 3, 3, input_shape = (64, 64, 3), activation = 'relu'))\n",
        "\n",
        "# Step 2 - Pooling - shrinking the feature maps to 2x2 \n",
        "classifier.add(MaxPooling2D(pool_size = (2, 2)))\n",
        "\n",
        "# Adding a second convolutional layer\n",
        "classifier.add(Convolution2D(32, 3, 3, activation = 'relu'))\n",
        "classifier.add(MaxPooling2D(pool_size = (2, 2)))\n",
        "\n",
        "\n",
        "# Step 3 - Flattening - reshaping into  input vector to prepare for NN\n",
        "classifier.add(Flatten())\n",
        "\n",
        "# Step 4 - Full connection\n",
        "classifier.add(Dense(output_dim = 128, activation = 'relu'))\n",
        "classifier.add(Dense(output_dim = 1, activation = 'sigmoid'))\n",
        "# Compiling the CNN\n",
        "classifier.compile(optimizer = 'adam', loss = 'binary_crossentropy', metrics = ['accuracy'])\n"
      ],
      "execution_count": 4,
      "outputs": [
        {
          "output_type": "stream",
          "text": [
            "/usr/local/lib/python3.6/dist-packages/ipykernel_launcher.py:4: UserWarning: Update your `Conv2D` call to the Keras 2 API: `Conv2D(32, (3, 3), input_shape=(64, 64, 3..., activation=\"relu\")`\n",
            "  after removing the cwd from sys.path.\n",
            "/usr/local/lib/python3.6/dist-packages/ipykernel_launcher.py:10: UserWarning: Update your `Conv2D` call to the Keras 2 API: `Conv2D(32, (3, 3), activation=\"relu\")`\n",
            "  # Remove the CWD from sys.path while we load stuff.\n",
            "/usr/local/lib/python3.6/dist-packages/ipykernel_launcher.py:18: UserWarning: Update your `Dense` call to the Keras 2 API: `Dense(activation=\"relu\", units=128)`\n",
            "/usr/local/lib/python3.6/dist-packages/ipykernel_launcher.py:19: UserWarning: Update your `Dense` call to the Keras 2 API: `Dense(activation=\"sigmoid\", units=1)`\n"
          ],
          "name": "stderr"
        }
      ]
    },
    {
      "metadata": {
        "id": "o8WyJT_TKaAn",
        "colab_type": "code",
        "outputId": "98057cee-6dac-4f3d-c6ec-9c114fb4bed3",
        "colab": {
          "base_uri": "https://localhost:8080/",
          "height": 907
        }
      },
      "cell_type": "code",
      "source": [
        "# Part 2 - Fitting the CNN to the images\n",
        "\n",
        "from keras.preprocessing.image import ImageDataGenerator\n",
        "\n",
        "train_datagen = ImageDataGenerator(rescale = 1./255,\n",
        "                                   shear_range = 0.2,\n",
        "                                   zoom_range = 0.2,\n",
        "                                   horizontal_flip = True)\n",
        "\n",
        "test_datagen = ImageDataGenerator(rescale = 1./255)\n",
        "\n",
        "training_set = train_datagen.flow_from_directory('/content/gdrive/My Drive/Colab Notebooks/training_set',\n",
        "                                                 target_size = (64, 64),\n",
        "                                                 batch_size = 32,\n",
        "                                                 class_mode = 'binary')\n",
        "\n",
        "test_set = test_datagen.flow_from_directory('/content/gdrive/My Drive/Colab Notebooks/test_set',\n",
        "                                            target_size = (64, 64),\n",
        "                                            batch_size = 32,\n",
        "                                            class_mode = 'binary')\n",
        "\n",
        "classifier.fit_generator(training_set,\n",
        "                         steps_per_epoch = 8000/32,\n",
        "                         epochs = 25,\n",
        "                         validation_data = test_set,\n",
        "                         validation_steps = 2000/32)"
      ],
      "execution_count": 5,
      "outputs": [
        {
          "output_type": "stream",
          "text": [
            "Found 8000 images belonging to 2 classes.\n",
            "Found 2000 images belonging to 2 classes.\n",
            "Epoch 1/25\n",
            "250/250 [==============================] - 3579s 14s/step - loss: 0.6627 - acc: 0.5985 - val_loss: 0.6148 - val_acc: 0.6665\n",
            "Epoch 2/25\n",
            "250/250 [==============================] - 58s 231ms/step - loss: 0.5870 - acc: 0.6891 - val_loss: 0.5849 - val_acc: 0.6930\n",
            "Epoch 3/25\n",
            "250/250 [==============================] - 58s 231ms/step - loss: 0.5481 - acc: 0.7188 - val_loss: 0.5533 - val_acc: 0.7205\n",
            "Epoch 4/25\n",
            "250/250 [==============================] - 58s 233ms/step - loss: 0.5143 - acc: 0.7408 - val_loss: 0.5060 - val_acc: 0.7550\n",
            "Epoch 5/25\n",
            "250/250 [==============================] - 58s 231ms/step - loss: 0.4928 - acc: 0.7612 - val_loss: 0.5033 - val_acc: 0.7550\n",
            "Epoch 6/25\n",
            "250/250 [==============================] - 59s 235ms/step - loss: 0.4730 - acc: 0.7729 - val_loss: 0.4608 - val_acc: 0.7865\n",
            "Epoch 7/25\n",
            "250/250 [==============================] - 59s 238ms/step - loss: 0.4617 - acc: 0.7786 - val_loss: 0.4678 - val_acc: 0.7840\n",
            "Epoch 8/25\n",
            "250/250 [==============================] - 59s 234ms/step - loss: 0.4419 - acc: 0.7876 - val_loss: 0.4942 - val_acc: 0.7595\n",
            "Epoch 9/25\n",
            "250/250 [==============================] - 58s 234ms/step - loss: 0.4274 - acc: 0.7956 - val_loss: 0.4842 - val_acc: 0.7760\n",
            "Epoch 10/25\n",
            "250/250 [==============================] - 58s 233ms/step - loss: 0.4124 - acc: 0.8110 - val_loss: 0.4852 - val_acc: 0.7700\n",
            "Epoch 11/25\n",
            "250/250 [==============================] - 58s 234ms/step - loss: 0.4010 - acc: 0.8121 - val_loss: 0.4576 - val_acc: 0.7885\n",
            "Epoch 12/25\n",
            "250/250 [==============================] - 59s 236ms/step - loss: 0.3783 - acc: 0.8289 - val_loss: 0.4790 - val_acc: 0.7845\n",
            "Epoch 13/25\n",
            "250/250 [==============================] - 58s 233ms/step - loss: 0.3705 - acc: 0.8346 - val_loss: 0.4529 - val_acc: 0.8020\n",
            "Epoch 14/25\n",
            "250/250 [==============================] - 59s 236ms/step - loss: 0.3515 - acc: 0.8390 - val_loss: 0.5048 - val_acc: 0.7795\n",
            "Epoch 15/25\n",
            "250/250 [==============================] - 59s 235ms/step - loss: 0.3417 - acc: 0.8478 - val_loss: 0.4753 - val_acc: 0.7895\n",
            "Epoch 16/25\n",
            "250/250 [==============================] - 59s 235ms/step - loss: 0.3271 - acc: 0.8591 - val_loss: 0.4670 - val_acc: 0.7955\n",
            "Epoch 17/25\n",
            "250/250 [==============================] - 59s 235ms/step - loss: 0.3141 - acc: 0.8659 - val_loss: 0.4668 - val_acc: 0.7995\n",
            "Epoch 18/25\n",
            "250/250 [==============================] - 59s 235ms/step - loss: 0.2968 - acc: 0.8736 - val_loss: 0.4661 - val_acc: 0.8170\n",
            "Epoch 19/25\n",
            "250/250 [==============================] - 59s 236ms/step - loss: 0.2900 - acc: 0.8767 - val_loss: 0.5251 - val_acc: 0.7915\n",
            "Epoch 20/25\n",
            "250/250 [==============================] - 59s 234ms/step - loss: 0.2739 - acc: 0.8836 - val_loss: 0.5221 - val_acc: 0.8025\n",
            "Epoch 21/25\n",
            "250/250 [==============================] - 58s 233ms/step - loss: 0.2692 - acc: 0.8854 - val_loss: 0.5069 - val_acc: 0.8025\n",
            "Epoch 22/25\n",
            "250/250 [==============================] - 59s 235ms/step - loss: 0.2545 - acc: 0.8947 - val_loss: 0.5585 - val_acc: 0.7865\n",
            "Epoch 23/25\n",
            "250/250 [==============================] - 60s 238ms/step - loss: 0.2397 - acc: 0.9019 - val_loss: 0.5195 - val_acc: 0.8115\n",
            "Epoch 24/25\n",
            "250/250 [==============================] - 59s 235ms/step - loss: 0.2372 - acc: 0.9039 - val_loss: 0.5223 - val_acc: 0.8045\n",
            "Epoch 25/25\n",
            "250/250 [==============================] - 58s 232ms/step - loss: 0.2145 - acc: 0.9129 - val_loss: 0.5581 - val_acc: 0.8025\n"
          ],
          "name": "stdout"
        },
        {
          "output_type": "execute_result",
          "data": {
            "text/plain": [
              "<keras.callbacks.History at 0x7efd92548f98>"
            ]
          },
          "metadata": {
            "tags": []
          },
          "execution_count": 5
        }
      ]
    },
    {
      "metadata": {
        "id": "xX3pi9NtKRQh",
        "colab_type": "code",
        "colab": {}
      },
      "cell_type": "code",
      "source": [
        ""
      ],
      "execution_count": 0,
      "outputs": []
    }
  ]
}
