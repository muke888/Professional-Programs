{
  "nbformat": 4,
  "nbformat_minor": 0,
  "metadata": {
    "colab": {
      "name": "ANN.ipynb",
      "version": "0.3.2",
      "provenance": [],
      "collapsed_sections": []
    },
    "kernelspec": {
      "name": "python3",
      "display_name": "Python 3"
    }
  },
  "cells": [
    {
      "metadata": {
        "id": "hW4AZe8yyuFA",
        "colab_type": "code",
        "outputId": "ef8b58ae-4303-44af-e31b-56c685384904",
        "colab": {
          "base_uri": "https://localhost:8080/",
          "height": 67
        }
      },
      "cell_type": "code",
      "source": [
        "# Artificial Neural Network\n",
        "\n",
        "# Installing Theano\n",
        "# pip install --upgrade --no-deps git+git://github.com/Theano/Theano.git\n",
        "\n",
        "# Installing Tensorflow\n",
        "# Install Tensorflow from the website: https://www.tensorflow.org/\n",
        "# Installing Keras\n",
        "# pip install --upgrade keras\n",
        "\n",
        "# Part 1 - Data Preprocessing\n",
        "\n",
        "# Importing the libraries\n",
        "import numpy as np\n",
        "import matplotlib.pyplot as plt\n",
        "import pandas as pd\n",
        "\n",
        "# Importing the dataset\n",
        "!curl https://raw.githubusercontent.com/muke888/UdemyDeepLearning/master/1.Artificial%20Neural%20Networks/Churn_Modelling.csv -o Churn_Modelling.csv"
      ],
      "execution_count": 1,
      "outputs": [
        {
          "output_type": "stream",
          "text": [
            "  % Total    % Received % Xferd  Average Speed   Time    Time     Time  Current\n",
            "                                 Dload  Upload   Total   Spent    Left  Speed\n",
            "100  668k  100  668k    0     0  3327k      0 --:--:-- --:--:-- --:--:-- 3327k\n"
          ],
          "name": "stdout"
        }
      ]
    },
    {
      "metadata": {
        "id": "pum2C8aasuUo",
        "colab_type": "code",
        "outputId": "2fabd7aa-93fc-4566-d547-cfcfb3cc79aa",
        "colab": {
          "base_uri": "https://localhost:8080/",
          "height": 514
        }
      },
      "cell_type": "code",
      "source": [
        "# Importing the dataset, predicting customer churn\n",
        "dataset = pd.read_csv('Churn_Modelling.csv')\n",
        "X = dataset.iloc[:, 3:13].values #exclude first 3 columns as irrelevant\n",
        "y = dataset.iloc[:, 13].values\n",
        "dataset.info()\n",
        "dataset.head()"
      ],
      "execution_count": 2,
      "outputs": [
        {
          "output_type": "stream",
          "text": [
            "<class 'pandas.core.frame.DataFrame'>\n",
            "RangeIndex: 10000 entries, 0 to 9999\n",
            "Data columns (total 14 columns):\n",
            "RowNumber          10000 non-null int64\n",
            "CustomerId         10000 non-null int64\n",
            "Surname            10000 non-null object\n",
            "CreditScore        10000 non-null int64\n",
            "Geography          10000 non-null object\n",
            "Gender             10000 non-null object\n",
            "Age                10000 non-null int64\n",
            "Tenure             10000 non-null int64\n",
            "Balance            10000 non-null float64\n",
            "NumOfProducts      10000 non-null int64\n",
            "HasCrCard          10000 non-null int64\n",
            "IsActiveMember     10000 non-null int64\n",
            "EstimatedSalary    10000 non-null float64\n",
            "Exited             10000 non-null int64\n",
            "dtypes: float64(2), int64(9), object(3)\n",
            "memory usage: 1.1+ MB\n"
          ],
          "name": "stdout"
        },
        {
          "output_type": "execute_result",
          "data": {
            "text/html": [
              "<div>\n",
              "<style scoped>\n",
              "    .dataframe tbody tr th:only-of-type {\n",
              "        vertical-align: middle;\n",
              "    }\n",
              "\n",
              "    .dataframe tbody tr th {\n",
              "        vertical-align: top;\n",
              "    }\n",
              "\n",
              "    .dataframe thead th {\n",
              "        text-align: right;\n",
              "    }\n",
              "</style>\n",
              "<table border=\"1\" class=\"dataframe\">\n",
              "  <thead>\n",
              "    <tr style=\"text-align: right;\">\n",
              "      <th></th>\n",
              "      <th>RowNumber</th>\n",
              "      <th>CustomerId</th>\n",
              "      <th>Surname</th>\n",
              "      <th>CreditScore</th>\n",
              "      <th>Geography</th>\n",
              "      <th>Gender</th>\n",
              "      <th>Age</th>\n",
              "      <th>Tenure</th>\n",
              "      <th>Balance</th>\n",
              "      <th>NumOfProducts</th>\n",
              "      <th>HasCrCard</th>\n",
              "      <th>IsActiveMember</th>\n",
              "      <th>EstimatedSalary</th>\n",
              "      <th>Exited</th>\n",
              "    </tr>\n",
              "  </thead>\n",
              "  <tbody>\n",
              "    <tr>\n",
              "      <th>0</th>\n",
              "      <td>1</td>\n",
              "      <td>15634602</td>\n",
              "      <td>Hargrave</td>\n",
              "      <td>619</td>\n",
              "      <td>France</td>\n",
              "      <td>Female</td>\n",
              "      <td>42</td>\n",
              "      <td>2</td>\n",
              "      <td>0.00</td>\n",
              "      <td>1</td>\n",
              "      <td>1</td>\n",
              "      <td>1</td>\n",
              "      <td>101348.88</td>\n",
              "      <td>1</td>\n",
              "    </tr>\n",
              "    <tr>\n",
              "      <th>1</th>\n",
              "      <td>2</td>\n",
              "      <td>15647311</td>\n",
              "      <td>Hill</td>\n",
              "      <td>608</td>\n",
              "      <td>Spain</td>\n",
              "      <td>Female</td>\n",
              "      <td>41</td>\n",
              "      <td>1</td>\n",
              "      <td>83807.86</td>\n",
              "      <td>1</td>\n",
              "      <td>0</td>\n",
              "      <td>1</td>\n",
              "      <td>112542.58</td>\n",
              "      <td>0</td>\n",
              "    </tr>\n",
              "    <tr>\n",
              "      <th>2</th>\n",
              "      <td>3</td>\n",
              "      <td>15619304</td>\n",
              "      <td>Onio</td>\n",
              "      <td>502</td>\n",
              "      <td>France</td>\n",
              "      <td>Female</td>\n",
              "      <td>42</td>\n",
              "      <td>8</td>\n",
              "      <td>159660.80</td>\n",
              "      <td>3</td>\n",
              "      <td>1</td>\n",
              "      <td>0</td>\n",
              "      <td>113931.57</td>\n",
              "      <td>1</td>\n",
              "    </tr>\n",
              "    <tr>\n",
              "      <th>3</th>\n",
              "      <td>4</td>\n",
              "      <td>15701354</td>\n",
              "      <td>Boni</td>\n",
              "      <td>699</td>\n",
              "      <td>France</td>\n",
              "      <td>Female</td>\n",
              "      <td>39</td>\n",
              "      <td>1</td>\n",
              "      <td>0.00</td>\n",
              "      <td>2</td>\n",
              "      <td>0</td>\n",
              "      <td>0</td>\n",
              "      <td>93826.63</td>\n",
              "      <td>0</td>\n",
              "    </tr>\n",
              "    <tr>\n",
              "      <th>4</th>\n",
              "      <td>5</td>\n",
              "      <td>15737888</td>\n",
              "      <td>Mitchell</td>\n",
              "      <td>850</td>\n",
              "      <td>Spain</td>\n",
              "      <td>Female</td>\n",
              "      <td>43</td>\n",
              "      <td>2</td>\n",
              "      <td>125510.82</td>\n",
              "      <td>1</td>\n",
              "      <td>1</td>\n",
              "      <td>1</td>\n",
              "      <td>79084.10</td>\n",
              "      <td>0</td>\n",
              "    </tr>\n",
              "  </tbody>\n",
              "</table>\n",
              "</div>"
            ],
            "text/plain": [
              "   RowNumber  CustomerId   Surname  CreditScore Geography  Gender  Age  \\\n",
              "0          1    15634602  Hargrave          619    France  Female   42   \n",
              "1          2    15647311      Hill          608     Spain  Female   41   \n",
              "2          3    15619304      Onio          502    France  Female   42   \n",
              "3          4    15701354      Boni          699    France  Female   39   \n",
              "4          5    15737888  Mitchell          850     Spain  Female   43   \n",
              "\n",
              "   Tenure    Balance  NumOfProducts  HasCrCard  IsActiveMember  \\\n",
              "0       2       0.00              1          1               1   \n",
              "1       1   83807.86              1          0               1   \n",
              "2       8  159660.80              3          1               0   \n",
              "3       1       0.00              2          0               0   \n",
              "4       2  125510.82              1          1               1   \n",
              "\n",
              "   EstimatedSalary  Exited  \n",
              "0        101348.88       1  \n",
              "1        112542.58       0  \n",
              "2        113931.57       1  \n",
              "3         93826.63       0  \n",
              "4         79084.10       0  "
            ]
          },
          "metadata": {
            "tags": []
          },
          "execution_count": 2
        }
      ]
    },
    {
      "metadata": {
        "id": "c_vQZqP5suZm",
        "colab_type": "code",
        "outputId": "1c541ddf-5377-443f-fa61-e647e527deea",
        "colab": {
          "base_uri": "https://localhost:8080/",
          "height": 134
        }
      },
      "cell_type": "code",
      "source": [
        "# Encoding categorical data - Geography & Gender\n",
        "from sklearn.preprocessing import LabelEncoder\n",
        "labelencoder_X_1 = LabelEncoder()\n",
        "X[:, 1] = labelencoder_X_1.fit_transform(X[:, 1])\n",
        "labelencoder_X_2 = LabelEncoder()\n",
        "X[:, 2] = labelencoder_X_2.fit_transform(X[:, 2])\n",
        "X"
      ],
      "execution_count": 3,
      "outputs": [
        {
          "output_type": "execute_result",
          "data": {
            "text/plain": [
              "array([[619, 0, 0, ..., 1, 1, 101348.88],\n",
              "       [608, 2, 0, ..., 0, 1, 112542.58],\n",
              "       [502, 0, 0, ..., 1, 0, 113931.57],\n",
              "       ...,\n",
              "       [709, 0, 0, ..., 0, 1, 42085.58],\n",
              "       [772, 1, 1, ..., 1, 0, 92888.52],\n",
              "       [792, 0, 0, ..., 1, 0, 38190.78]], dtype=object)"
            ]
          },
          "metadata": {
            "tags": []
          },
          "execution_count": 3
        }
      ]
    },
    {
      "metadata": {
        "id": "Oj5asPwcsubv",
        "colab_type": "code",
        "outputId": "14bbd8f9-e0da-4b6d-f317-d0f86dcdf4ae",
        "colab": {
          "base_uri": "https://localhost:8080/",
          "height": 34
        }
      },
      "cell_type": "code",
      "source": [
        "# Encoding Geography to dummy variables as more than 2 categories\n",
        "\n",
        "from sklearn.preprocessing import OneHotEncoder\n",
        "from sklearn.compose import ColumnTransformer, make_column_transformer\n",
        "\n",
        "\n",
        "columntransformer = make_column_transformer(\n",
        "(OneHotEncoder(categories='auto'), [1]),\n",
        "    remainder='passthrough'\n",
        ")\n",
        "X = columntransformer.fit_transform(X)\n",
        "X = X[:, 1:] #removing dummy trap\n",
        "X[0,:]"
      ],
      "execution_count": 4,
      "outputs": [
        {
          "output_type": "execute_result",
          "data": {
            "text/plain": [
              "array([0.0, 0.0, 619, 0, 42, 2, 0.0, 1, 1, 1, 101348.88], dtype=object)"
            ]
          },
          "metadata": {
            "tags": []
          },
          "execution_count": 4
        }
      ]
    },
    {
      "metadata": {
        "id": "YeNNVjQisueG",
        "colab_type": "code",
        "outputId": "78c97e65-31ab-461b-a474-8563b81acf2b",
        "colab": {
          "base_uri": "https://localhost:8080/",
          "height": 134
        }
      },
      "cell_type": "code",
      "source": [
        "# Splitting the dataset into the Training set and Test set\n",
        "from sklearn.model_selection import train_test_split\n",
        "X_train, X_test, y_train, y_test = train_test_split(X, y, test_size = 0.2, random_state = 0)\n",
        "\n",
        "X_train"
      ],
      "execution_count": 5,
      "outputs": [
        {
          "output_type": "execute_result",
          "data": {
            "text/plain": [
              "array([[0.0, 1.0, 667, ..., 1, 0, 163830.64],\n",
              "       [1.0, 0.0, 427, ..., 1, 1, 57098.0],\n",
              "       [0.0, 0.0, 535, ..., 1, 0, 185630.76],\n",
              "       ...,\n",
              "       [0.0, 0.0, 738, ..., 1, 0, 181429.87],\n",
              "       [0.0, 1.0, 590, ..., 1, 1, 148750.16],\n",
              "       [1.0, 0.0, 623, ..., 1, 0, 118855.26]], dtype=object)"
            ]
          },
          "metadata": {
            "tags": []
          },
          "execution_count": 5
        }
      ]
    },
    {
      "metadata": {
        "id": "_LisXuJ6sugb",
        "colab_type": "code",
        "outputId": "7585737e-42a7-4d06-a08e-669202d726e2",
        "colab": {
          "base_uri": "https://localhost:8080/",
          "height": 336
        }
      },
      "cell_type": "code",
      "source": [
        "# Feature Scaling\n",
        "from sklearn.preprocessing import StandardScaler\n",
        "sc = StandardScaler()\n",
        "X_train = sc.fit_transform(X_train)\n",
        "X_test = sc.transform(X_test)\n",
        "X_train"
      ],
      "execution_count": 6,
      "outputs": [
        {
          "output_type": "stream",
          "text": [
            "/usr/local/lib/python3.6/dist-packages/sklearn/utils/validation.py:595: DataConversionWarning: Data with input dtype object was converted to float64 by StandardScaler.\n",
            "  warnings.warn(msg, DataConversionWarning)\n",
            "/usr/local/lib/python3.6/dist-packages/sklearn/utils/validation.py:595: DataConversionWarning: Data with input dtype object was converted to float64 by StandardScaler.\n",
            "  warnings.warn(msg, DataConversionWarning)\n",
            "/usr/local/lib/python3.6/dist-packages/sklearn/utils/validation.py:595: DataConversionWarning: Data with input dtype object was converted to float64 by StandardScaler.\n",
            "  warnings.warn(msg, DataConversionWarning)\n"
          ],
          "name": "stderr"
        },
        {
          "output_type": "execute_result",
          "data": {
            "text/plain": [
              "array([[-0.5698444 ,  1.74309049,  0.16958176, ...,  0.64259497,\n",
              "        -1.03227043,  1.10643166],\n",
              "       [ 1.75486502, -0.57369368, -2.30455945, ...,  0.64259497,\n",
              "         0.9687384 , -0.74866447],\n",
              "       [-0.5698444 , -0.57369368, -1.19119591, ...,  0.64259497,\n",
              "        -1.03227043,  1.48533467],\n",
              "       ...,\n",
              "       [-0.5698444 , -0.57369368,  0.9015152 , ...,  0.64259497,\n",
              "        -1.03227043,  1.41231994],\n",
              "       [-0.5698444 ,  1.74309049, -0.62420521, ...,  0.64259497,\n",
              "         0.9687384 ,  0.84432121],\n",
              "       [ 1.75486502, -0.57369368, -0.28401079, ...,  0.64259497,\n",
              "        -1.03227043,  0.32472465]])"
            ]
          },
          "metadata": {
            "tags": []
          },
          "execution_count": 6
        }
      ]
    },
    {
      "metadata": {
        "id": "zMb0CBFFsuip",
        "colab_type": "code",
        "outputId": "e39152a2-3276-41a7-9423-3b0fd6a99a44",
        "colab": {
          "base_uri": "https://localhost:8080/",
          "height": 34
        }
      },
      "cell_type": "code",
      "source": [
        "# Part 2 - Now let's make the ANN!\n",
        "\n",
        "# Importing the Keras libraries and packages\n",
        "import keras\n",
        "from keras.models import Sequential\n",
        "from keras.layers import Dense\n",
        "from keras.layers import Dropout"
      ],
      "execution_count": 7,
      "outputs": [
        {
          "output_type": "stream",
          "text": [
            "Using TensorFlow backend.\n"
          ],
          "name": "stderr"
        }
      ]
    },
    {
      "metadata": {
        "id": "qG08Y7kAsuk3",
        "colab_type": "code",
        "colab": {}
      },
      "cell_type": "code",
      "source": [
        "# Initialising the ANN\n",
        "classifier = Sequential()"
      ],
      "execution_count": 0,
      "outputs": []
    },
    {
      "metadata": {
        "id": "9s5WGr3mxGLq",
        "colab_type": "code",
        "colab": {}
      },
      "cell_type": "code",
      "source": [
        "# Adding the input layer and hidden layers\n",
        "# Rule of thumb for nodes is average no. features: (11inputs+1output)/2=6\n",
        "classifier.add(Dense(activation=\"relu\", input_dim=11, units=6, kernel_initializer=\"uniform\"))\n",
        "\n",
        "#Optional regularization step, to avoid overfitting, 10% deactivation of nodes\n",
        "#classifier.add(Dropout(p = 0.1))\n",
        "\n",
        "# Adding the second hidden layer\n",
        "classifier.add(Dense(activation=\"relu\", units=6, kernel_initializer=\"uniform\"))\n",
        "#classifier.add(Dropout(p = 0.1))\n",
        "\n",
        "# Adding the output layer\n",
        "classifier.add(Dense(activation=\"sigmoid\", units=1, kernel_initializer=\"uniform\"))\n",
        "\n",
        "# Compiling the ANN use 'binary_crossentropy' or 'categorical_crossentropy'\n",
        "classifier.compile(optimizer = 'adam', loss = 'binary_crossentropy', metrics = ['accuracy'])"
      ],
      "execution_count": 0,
      "outputs": []
    },
    {
      "metadata": {
        "id": "S9ZjI-1__NvM",
        "colab_type": "code",
        "outputId": "2ed65cb7-b547-47f3-9d10-bc35a9bfeb32",
        "colab": {
          "base_uri": "https://localhost:8080/",
          "height": 218
        }
      },
      "cell_type": "code",
      "source": [
        "import time\n",
        "\n",
        "_start_time = time.time()\n",
        "\n",
        "def tic():\n",
        "    global _start_time \n",
        "    _start_time = time.time()\n",
        "\n",
        "def tac():\n",
        "    t_sec = round(time.time() - _start_time)\n",
        "    (t_min, t_sec) = divmod(t_sec,60)\n",
        "    (t_hour,t_min) = divmod(t_min,60) \n",
        "    print('Time passed: {}hour:{}min:{}sec'.format(t_hour,t_min,t_sec))\n",
        "    \n",
        "    \n",
        "import tensorflow as tf\n",
        "tf.test.gpu_device_name()\n",
        "from tensorflow.python.client import device_lib\n",
        "device_lib.list_local_devices()"
      ],
      "execution_count": 10,
      "outputs": [
        {
          "output_type": "execute_result",
          "data": {
            "text/plain": [
              "[name: \"/device:CPU:0\"\n",
              " device_type: \"CPU\"\n",
              " memory_limit: 268435456\n",
              " locality {\n",
              " }\n",
              " incarnation: 5438386162618057772, name: \"/device:XLA_CPU:0\"\n",
              " device_type: \"XLA_CPU\"\n",
              " memory_limit: 17179869184\n",
              " locality {\n",
              " }\n",
              " incarnation: 16722350573120841964\n",
              " physical_device_desc: \"device: XLA_CPU device\"]"
            ]
          },
          "metadata": {
            "tags": []
          },
          "execution_count": 10
        }
      ]
    },
    {
      "metadata": {
        "id": "6wEWeXXOyRL_",
        "colab_type": "code",
        "outputId": "b12d1f8a-9864-49a5-c88d-2b15ca161f0e",
        "colab": {
          "base_uri": "https://localhost:8080/",
          "height": 3410
        }
      },
      "cell_type": "code",
      "source": [
        "# Fitting the ANN to the Training set, using minibatch stochastic gradient descent\n",
        "tic()\n",
        "\n",
        "classifier.fit(X_train, y_train, batch_size = 10, epochs = 100, verbose=1,\n",
        "          validation_data=(X_test, y_test))\n",
        "\n",
        "tac()"
      ],
      "execution_count": 11,
      "outputs": [
        {
          "output_type": "stream",
          "text": [
            "Train on 8000 samples, validate on 2000 samples\n",
            "Epoch 1/100\n",
            "8000/8000 [==============================] - 2s 203us/step - loss: 0.4866 - acc: 0.7951 - val_loss: 0.4288 - val_acc: 0.7975\n",
            "Epoch 2/100\n",
            "8000/8000 [==============================] - 1s 106us/step - loss: 0.4267 - acc: 0.7960 - val_loss: 0.4221 - val_acc: 0.7975\n",
            "Epoch 3/100\n",
            "8000/8000 [==============================] - 1s 106us/step - loss: 0.4215 - acc: 0.7987 - val_loss: 0.4183 - val_acc: 0.8315\n",
            "Epoch 4/100\n",
            "8000/8000 [==============================] - 1s 103us/step - loss: 0.4181 - acc: 0.8249 - val_loss: 0.4133 - val_acc: 0.8300\n",
            "Epoch 5/100\n",
            "8000/8000 [==============================] - 1s 104us/step - loss: 0.4160 - acc: 0.8280 - val_loss: 0.4115 - val_acc: 0.8375\n",
            "Epoch 6/100\n",
            "8000/8000 [==============================] - 1s 105us/step - loss: 0.4145 - acc: 0.8296 - val_loss: 0.4108 - val_acc: 0.8365\n",
            "Epoch 7/100\n",
            "8000/8000 [==============================] - 1s 103us/step - loss: 0.4127 - acc: 0.8322 - val_loss: 0.4064 - val_acc: 0.8370\n",
            "Epoch 8/100\n",
            "8000/8000 [==============================] - 1s 105us/step - loss: 0.4112 - acc: 0.8314 - val_loss: 0.4059 - val_acc: 0.8375\n",
            "Epoch 9/100\n",
            "8000/8000 [==============================] - 1s 108us/step - loss: 0.4104 - acc: 0.8321 - val_loss: 0.4057 - val_acc: 0.8375\n",
            "Epoch 10/100\n",
            "8000/8000 [==============================] - 1s 102us/step - loss: 0.4090 - acc: 0.8322 - val_loss: 0.4053 - val_acc: 0.8410\n",
            "Epoch 11/100\n",
            "8000/8000 [==============================] - 1s 105us/step - loss: 0.4081 - acc: 0.8312 - val_loss: 0.4041 - val_acc: 0.8380\n",
            "Epoch 12/100\n",
            "8000/8000 [==============================] - 1s 104us/step - loss: 0.4074 - acc: 0.8331 - val_loss: 0.4033 - val_acc: 0.8415\n",
            "Epoch 13/100\n",
            "8000/8000 [==============================] - 1s 103us/step - loss: 0.4064 - acc: 0.8354 - val_loss: 0.4005 - val_acc: 0.8385\n",
            "Epoch 14/100\n",
            "8000/8000 [==============================] - 1s 105us/step - loss: 0.4064 - acc: 0.8325 - val_loss: 0.4005 - val_acc: 0.8370\n",
            "Epoch 15/100\n",
            "8000/8000 [==============================] - 1s 104us/step - loss: 0.4057 - acc: 0.8347 - val_loss: 0.4065 - val_acc: 0.8380\n",
            "Epoch 16/100\n",
            "8000/8000 [==============================] - 1s 103us/step - loss: 0.4054 - acc: 0.8341 - val_loss: 0.3996 - val_acc: 0.8385\n",
            "Epoch 17/100\n",
            "8000/8000 [==============================] - 1s 107us/step - loss: 0.4046 - acc: 0.8342 - val_loss: 0.3991 - val_acc: 0.8400\n",
            "Epoch 18/100\n",
            "8000/8000 [==============================] - 1s 105us/step - loss: 0.4047 - acc: 0.8345 - val_loss: 0.3985 - val_acc: 0.8410\n",
            "Epoch 19/100\n",
            "8000/8000 [==============================] - 1s 105us/step - loss: 0.4049 - acc: 0.8349 - val_loss: 0.3998 - val_acc: 0.8385\n",
            "Epoch 20/100\n",
            "8000/8000 [==============================] - 1s 103us/step - loss: 0.4043 - acc: 0.8346 - val_loss: 0.3983 - val_acc: 0.8400\n",
            "Epoch 21/100\n",
            "8000/8000 [==============================] - 1s 105us/step - loss: 0.4036 - acc: 0.8344 - val_loss: 0.3985 - val_acc: 0.8390\n",
            "Epoch 22/100\n",
            "8000/8000 [==============================] - 1s 103us/step - loss: 0.4036 - acc: 0.8342 - val_loss: 0.3991 - val_acc: 0.8365\n",
            "Epoch 23/100\n",
            "8000/8000 [==============================] - 1s 103us/step - loss: 0.4038 - acc: 0.8339 - val_loss: 0.4001 - val_acc: 0.8395\n",
            "Epoch 24/100\n",
            "8000/8000 [==============================] - 1s 103us/step - loss: 0.4030 - acc: 0.8341 - val_loss: 0.3997 - val_acc: 0.8415\n",
            "Epoch 25/100\n",
            "8000/8000 [==============================] - 1s 105us/step - loss: 0.4034 - acc: 0.8339 - val_loss: 0.4005 - val_acc: 0.8380\n",
            "Epoch 26/100\n",
            "8000/8000 [==============================] - 1s 103us/step - loss: 0.4027 - acc: 0.8337 - val_loss: 0.3959 - val_acc: 0.8425\n",
            "Epoch 27/100\n",
            "8000/8000 [==============================] - 1s 105us/step - loss: 0.4027 - acc: 0.8344 - val_loss: 0.3988 - val_acc: 0.8385\n",
            "Epoch 28/100\n",
            "8000/8000 [==============================] - 1s 103us/step - loss: 0.4032 - acc: 0.8345 - val_loss: 0.3982 - val_acc: 0.8430\n",
            "Epoch 29/100\n",
            "8000/8000 [==============================] - 1s 106us/step - loss: 0.4030 - acc: 0.8335 - val_loss: 0.3967 - val_acc: 0.8395\n",
            "Epoch 30/100\n",
            "8000/8000 [==============================] - 1s 105us/step - loss: 0.4018 - acc: 0.8354 - val_loss: 0.3971 - val_acc: 0.8455\n",
            "Epoch 31/100\n",
            "8000/8000 [==============================] - 1s 104us/step - loss: 0.4027 - acc: 0.8346 - val_loss: 0.3976 - val_acc: 0.8435\n",
            "Epoch 32/100\n",
            "8000/8000 [==============================] - 1s 107us/step - loss: 0.4020 - acc: 0.8350 - val_loss: 0.4006 - val_acc: 0.8400\n",
            "Epoch 33/100\n",
            "8000/8000 [==============================] - 1s 105us/step - loss: 0.4021 - acc: 0.8350 - val_loss: 0.3950 - val_acc: 0.8420\n",
            "Epoch 34/100\n",
            "8000/8000 [==============================] - 1s 105us/step - loss: 0.4027 - acc: 0.8342 - val_loss: 0.3962 - val_acc: 0.8415\n",
            "Epoch 35/100\n",
            "8000/8000 [==============================] - 1s 104us/step - loss: 0.4025 - acc: 0.8341 - val_loss: 0.3981 - val_acc: 0.8425\n",
            "Epoch 36/100\n",
            "8000/8000 [==============================] - 1s 105us/step - loss: 0.4016 - acc: 0.8354 - val_loss: 0.3971 - val_acc: 0.8450\n",
            "Epoch 37/100\n",
            "8000/8000 [==============================] - 1s 106us/step - loss: 0.4019 - acc: 0.8342 - val_loss: 0.3960 - val_acc: 0.8455\n",
            "Epoch 38/100\n",
            "8000/8000 [==============================] - 1s 104us/step - loss: 0.4016 - acc: 0.8341 - val_loss: 0.3976 - val_acc: 0.8415\n",
            "Epoch 39/100\n",
            "8000/8000 [==============================] - 1s 104us/step - loss: 0.4016 - acc: 0.8337 - val_loss: 0.3953 - val_acc: 0.8410\n",
            "Epoch 40/100\n",
            "8000/8000 [==============================] - 1s 103us/step - loss: 0.4020 - acc: 0.8337 - val_loss: 0.3968 - val_acc: 0.8410\n",
            "Epoch 41/100\n",
            "8000/8000 [==============================] - 1s 103us/step - loss: 0.4015 - acc: 0.8350 - val_loss: 0.3969 - val_acc: 0.8385\n",
            "Epoch 42/100\n",
            "8000/8000 [==============================] - 1s 105us/step - loss: 0.4017 - acc: 0.8330 - val_loss: 0.3961 - val_acc: 0.8395\n",
            "Epoch 43/100\n",
            "8000/8000 [==============================] - 1s 104us/step - loss: 0.4020 - acc: 0.8351 - val_loss: 0.3989 - val_acc: 0.8435\n",
            "Epoch 44/100\n",
            "8000/8000 [==============================] - 1s 105us/step - loss: 0.4015 - acc: 0.8350 - val_loss: 0.3960 - val_acc: 0.8420\n",
            "Epoch 45/100\n",
            "8000/8000 [==============================] - 1s 103us/step - loss: 0.4008 - acc: 0.8332 - val_loss: 0.3984 - val_acc: 0.8390\n",
            "Epoch 46/100\n",
            "8000/8000 [==============================] - 1s 104us/step - loss: 0.4016 - acc: 0.8349 - val_loss: 0.3990 - val_acc: 0.8395\n",
            "Epoch 47/100\n",
            "8000/8000 [==============================] - 1s 104us/step - loss: 0.4013 - acc: 0.8347 - val_loss: 0.3988 - val_acc: 0.8395\n",
            "Epoch 48/100\n",
            "8000/8000 [==============================] - 1s 106us/step - loss: 0.4011 - acc: 0.8332 - val_loss: 0.3966 - val_acc: 0.8385\n",
            "Epoch 49/100\n",
            "8000/8000 [==============================] - 1s 103us/step - loss: 0.4014 - acc: 0.8345 - val_loss: 0.3990 - val_acc: 0.8395\n",
            "Epoch 50/100\n",
            "8000/8000 [==============================] - 1s 103us/step - loss: 0.4014 - acc: 0.8359 - val_loss: 0.3978 - val_acc: 0.8420\n",
            "Epoch 51/100\n",
            "8000/8000 [==============================] - 1s 105us/step - loss: 0.4011 - acc: 0.8344 - val_loss: 0.3970 - val_acc: 0.8400\n",
            "Epoch 52/100\n",
            "8000/8000 [==============================] - 1s 102us/step - loss: 0.4013 - acc: 0.8351 - val_loss: 0.3962 - val_acc: 0.8410\n",
            "Epoch 53/100\n",
            "8000/8000 [==============================] - 1s 103us/step - loss: 0.4008 - acc: 0.8344 - val_loss: 0.3974 - val_acc: 0.8410\n",
            "Epoch 54/100\n",
            "8000/8000 [==============================] - 1s 103us/step - loss: 0.4015 - acc: 0.8345 - val_loss: 0.3976 - val_acc: 0.8400\n",
            "Epoch 55/100\n",
            "8000/8000 [==============================] - 1s 103us/step - loss: 0.4013 - acc: 0.8342 - val_loss: 0.3959 - val_acc: 0.8415\n",
            "Epoch 56/100\n",
            "8000/8000 [==============================] - 1s 103us/step - loss: 0.4013 - acc: 0.8340 - val_loss: 0.3958 - val_acc: 0.8420\n",
            "Epoch 57/100\n",
            "8000/8000 [==============================] - 1s 102us/step - loss: 0.4008 - acc: 0.8357 - val_loss: 0.3963 - val_acc: 0.8390\n",
            "Epoch 58/100\n",
            "8000/8000 [==============================] - 1s 103us/step - loss: 0.4010 - acc: 0.8342 - val_loss: 0.3967 - val_acc: 0.8395\n",
            "Epoch 59/100\n",
            "8000/8000 [==============================] - 1s 103us/step - loss: 0.4011 - acc: 0.8340 - val_loss: 0.3997 - val_acc: 0.8395\n",
            "Epoch 60/100\n",
            "8000/8000 [==============================] - 1s 105us/step - loss: 0.4012 - acc: 0.8360 - val_loss: 0.3959 - val_acc: 0.8405\n",
            "Epoch 61/100\n",
            "8000/8000 [==============================] - 1s 102us/step - loss: 0.4014 - acc: 0.8342 - val_loss: 0.3970 - val_acc: 0.8400\n",
            "Epoch 62/100\n",
            "8000/8000 [==============================] - 1s 103us/step - loss: 0.4011 - acc: 0.8347 - val_loss: 0.3946 - val_acc: 0.8395\n",
            "Epoch 63/100\n",
            "8000/8000 [==============================] - 1s 104us/step - loss: 0.4011 - acc: 0.8345 - val_loss: 0.3975 - val_acc: 0.8420\n",
            "Epoch 64/100\n",
            "8000/8000 [==============================] - 1s 103us/step - loss: 0.4014 - acc: 0.8345 - val_loss: 0.3961 - val_acc: 0.8405\n",
            "Epoch 65/100\n",
            "8000/8000 [==============================] - 1s 105us/step - loss: 0.4006 - acc: 0.8361 - val_loss: 0.3945 - val_acc: 0.8390\n",
            "Epoch 66/100\n",
            "8000/8000 [==============================] - 1s 103us/step - loss: 0.4013 - acc: 0.8351 - val_loss: 0.3972 - val_acc: 0.8390\n",
            "Epoch 67/100\n",
            "8000/8000 [==============================] - 1s 103us/step - loss: 0.4013 - acc: 0.8347 - val_loss: 0.3979 - val_acc: 0.8400\n",
            "Epoch 68/100\n",
            "8000/8000 [==============================] - 1s 102us/step - loss: 0.4010 - acc: 0.8351 - val_loss: 0.3987 - val_acc: 0.8400\n",
            "Epoch 69/100\n",
            "8000/8000 [==============================] - 1s 104us/step - loss: 0.4005 - acc: 0.8337 - val_loss: 0.3974 - val_acc: 0.8430\n",
            "Epoch 70/100\n",
            "8000/8000 [==============================] - 1s 103us/step - loss: 0.4011 - acc: 0.8336 - val_loss: 0.3966 - val_acc: 0.8385\n",
            "Epoch 71/100\n",
            "8000/8000 [==============================] - 1s 102us/step - loss: 0.4013 - acc: 0.8351 - val_loss: 0.3955 - val_acc: 0.8405\n",
            "Epoch 72/100\n",
            "8000/8000 [==============================] - 1s 104us/step - loss: 0.4009 - acc: 0.8341 - val_loss: 0.3967 - val_acc: 0.8405\n",
            "Epoch 73/100\n",
            "8000/8000 [==============================] - 1s 104us/step - loss: 0.4010 - acc: 0.8346 - val_loss: 0.3970 - val_acc: 0.8410\n",
            "Epoch 74/100\n",
            "8000/8000 [==============================] - 1s 102us/step - loss: 0.4016 - acc: 0.8354 - val_loss: 0.4012 - val_acc: 0.8400\n",
            "Epoch 75/100\n",
            "8000/8000 [==============================] - 1s 105us/step - loss: 0.4006 - acc: 0.8344 - val_loss: 0.3978 - val_acc: 0.8420\n",
            "Epoch 76/100\n",
            "8000/8000 [==============================] - 1s 104us/step - loss: 0.4005 - acc: 0.8356 - val_loss: 0.3976 - val_acc: 0.8410\n",
            "Epoch 77/100\n",
            "8000/8000 [==============================] - 1s 102us/step - loss: 0.4013 - acc: 0.8344 - val_loss: 0.3975 - val_acc: 0.8415\n",
            "Epoch 78/100\n",
            "8000/8000 [==============================] - 1s 103us/step - loss: 0.4009 - acc: 0.8351 - val_loss: 0.3955 - val_acc: 0.8420\n",
            "Epoch 79/100\n",
            "8000/8000 [==============================] - 1s 104us/step - loss: 0.4011 - acc: 0.8342 - val_loss: 0.3963 - val_acc: 0.8400\n",
            "Epoch 80/100\n",
            "8000/8000 [==============================] - 1s 108us/step - loss: 0.4011 - acc: 0.8332 - val_loss: 0.3960 - val_acc: 0.8395\n",
            "Epoch 81/100\n",
            "8000/8000 [==============================] - 1s 120us/step - loss: 0.4011 - acc: 0.8346 - val_loss: 0.3959 - val_acc: 0.8415\n",
            "Epoch 82/100\n",
            "8000/8000 [==============================] - 1s 122us/step - loss: 0.4008 - acc: 0.8350 - val_loss: 0.3983 - val_acc: 0.8370\n",
            "Epoch 83/100\n",
            "8000/8000 [==============================] - 1s 117us/step - loss: 0.4009 - acc: 0.8356 - val_loss: 0.3957 - val_acc: 0.8420\n",
            "Epoch 84/100\n",
            "8000/8000 [==============================] - 1s 118us/step - loss: 0.4007 - acc: 0.8354 - val_loss: 0.3958 - val_acc: 0.8375\n",
            "Epoch 85/100\n",
            "8000/8000 [==============================] - 1s 117us/step - loss: 0.4009 - acc: 0.8347 - val_loss: 0.3973 - val_acc: 0.8395\n",
            "Epoch 86/100\n",
            "8000/8000 [==============================] - 1s 118us/step - loss: 0.4007 - acc: 0.8344 - val_loss: 0.3963 - val_acc: 0.8400\n",
            "Epoch 87/100\n",
            "8000/8000 [==============================] - 1s 117us/step - loss: 0.4009 - acc: 0.8344 - val_loss: 0.3964 - val_acc: 0.8400\n",
            "Epoch 88/100\n",
            "8000/8000 [==============================] - 1s 121us/step - loss: 0.4009 - acc: 0.8350 - val_loss: 0.3953 - val_acc: 0.8405\n",
            "Epoch 89/100\n",
            "8000/8000 [==============================] - 1s 117us/step - loss: 0.4012 - acc: 0.8351 - val_loss: 0.3963 - val_acc: 0.8400\n",
            "Epoch 90/100\n",
            "8000/8000 [==============================] - 1s 120us/step - loss: 0.4007 - acc: 0.8327 - val_loss: 0.3972 - val_acc: 0.8410\n",
            "Epoch 91/100\n",
            "8000/8000 [==============================] - 1s 111us/step - loss: 0.4004 - acc: 0.8344 - val_loss: 0.3958 - val_acc: 0.8415\n",
            "Epoch 92/100\n",
            "8000/8000 [==============================] - 1s 103us/step - loss: 0.4008 - acc: 0.8359 - val_loss: 0.3976 - val_acc: 0.8410\n",
            "Epoch 93/100\n",
            "8000/8000 [==============================] - 1s 103us/step - loss: 0.4006 - acc: 0.8354 - val_loss: 0.3959 - val_acc: 0.8415\n",
            "Epoch 94/100\n",
            "8000/8000 [==============================] - 1s 103us/step - loss: 0.4009 - acc: 0.8332 - val_loss: 0.3968 - val_acc: 0.8420\n",
            "Epoch 95/100\n",
            "8000/8000 [==============================] - 1s 106us/step - loss: 0.4010 - acc: 0.8347 - val_loss: 0.3968 - val_acc: 0.8405\n",
            "Epoch 96/100\n",
            "8000/8000 [==============================] - 1s 104us/step - loss: 0.4010 - acc: 0.8341 - val_loss: 0.3980 - val_acc: 0.8405\n",
            "Epoch 97/100\n",
            "8000/8000 [==============================] - 1s 102us/step - loss: 0.4009 - acc: 0.8332 - val_loss: 0.3953 - val_acc: 0.8405\n",
            "Epoch 98/100\n",
            "8000/8000 [==============================] - 1s 104us/step - loss: 0.4007 - acc: 0.8334 - val_loss: 0.3952 - val_acc: 0.8405\n",
            "Epoch 99/100\n",
            "8000/8000 [==============================] - 1s 102us/step - loss: 0.4008 - acc: 0.8347 - val_loss: 0.3952 - val_acc: 0.8420\n",
            "Epoch 100/100\n",
            "8000/8000 [==============================] - 1s 103us/step - loss: 0.4006 - acc: 0.8339 - val_loss: 0.3957 - val_acc: 0.8410\n",
            "Time passed: 0hour:1min:26sec\n"
          ],
          "name": "stdout"
        }
      ]
    },
    {
      "metadata": {
        "id": "M6PXjKPWLknJ",
        "colab_type": "code",
        "outputId": "57bbe3b9-e123-46a1-d0db-6f71fabfcd9f",
        "colab": {
          "base_uri": "https://localhost:8080/",
          "height": 134
        }
      },
      "cell_type": "code",
      "source": [
        "# Predicting the Test set results\n",
        "y_pred = classifier.predict(X_test)\n",
        "y_pred = (y_pred > 0.5)\n",
        "y_pred"
      ],
      "execution_count": 12,
      "outputs": [
        {
          "output_type": "execute_result",
          "data": {
            "text/plain": [
              "array([[False],\n",
              "       [False],\n",
              "       [False],\n",
              "       ...,\n",
              "       [False],\n",
              "       [False],\n",
              "       [False]])"
            ]
          },
          "metadata": {
            "tags": []
          },
          "execution_count": 12
        }
      ]
    },
    {
      "metadata": {
        "id": "zw3jTGEfMKLy",
        "colab_type": "code",
        "outputId": "d17a7dba-bfd1-4f8c-ebc6-c47659df757f",
        "colab": {
          "base_uri": "https://localhost:8080/",
          "height": 50
        }
      },
      "cell_type": "code",
      "source": [
        "# Making the Confusion Matrix\n",
        "from sklearn.metrics import confusion_matrix\n",
        "cm = confusion_matrix(y_test, y_pred)\n",
        "cm"
      ],
      "execution_count": 13,
      "outputs": [
        {
          "output_type": "execute_result",
          "data": {
            "text/plain": [
              "array([[1545,   50],\n",
              "       [ 268,  137]])"
            ]
          },
          "metadata": {
            "tags": []
          },
          "execution_count": 13
        }
      ]
    },
    {
      "metadata": {
        "id": "O2R59zuQMRUs",
        "colab_type": "code",
        "outputId": "7215ab95-6e6f-4fb5-d783-604d8d7d83ff",
        "colab": {
          "base_uri": "https://localhost:8080/",
          "height": 34
        }
      },
      "cell_type": "code",
      "source": [
        "tn, fp, fn, tp = cm.ravel()\n",
        "#print(tn, fp, fn, tp)\n",
        "print(\"Accuracy of:\", (tn+tp)/(tn+tp+fp+fn))\n",
        "\n",
        "# Accuracy = (TP + TN) / (TP + TN + FP + FN)\n",
        "# Precision = TP / (TP + FP)\n",
        "# Recall = TP / (TP + FN)\n",
        "# F1 Score = 2 Precision Recall / (Precision + Recall)"
      ],
      "execution_count": 14,
      "outputs": [
        {
          "output_type": "stream",
          "text": [
            "Accuracy of: 0.841\n"
          ],
          "name": "stdout"
        }
      ]
    },
    {
      "metadata": {
        "id": "z6pObyE9NJBf",
        "colab_type": "code",
        "outputId": "04e86b53-07db-45a1-cd4a-52f163b9a2f7",
        "colab": {
          "base_uri": "https://localhost:8080/",
          "height": 54
        }
      },
      "cell_type": "code",
      "source": [
        "# Predicting a single new observation\n",
        "\"\"\"Predict if the customer with the following informations will leave the bank:\n",
        "Geography: France\n",
        "Credit Score: 600\n",
        "Gender: Male\n",
        "Age: 40\n",
        "Tenure: 3\n",
        "Balance: 60000\n",
        "Number of Products: 2\n",
        "Has Credit Card: Yes\n",
        "Is Active Member: Yes\n",
        "Estimated Salary: 50000\"\"\""
      ],
      "execution_count": 15,
      "outputs": [
        {
          "output_type": "execute_result",
          "data": {
            "text/plain": [
              "'Predict if the customer with the following informations will leave the bank:\\nGeography: France\\nCredit Score: 600\\nGender: Male\\nAge: 40\\nTenure: 3\\nBalance: 60000\\nNumber of Products: 2\\nHas Credit Card: Yes\\nIs Active Member: Yes\\nEstimated Salary: 50000'"
            ]
          },
          "metadata": {
            "tags": []
          },
          "execution_count": 15
        }
      ]
    },
    {
      "metadata": {
        "id": "OvG-pHtzINQ5",
        "colab_type": "code",
        "outputId": "00a471e4-4374-45db-f962-2f2b052c22ac",
        "colab": {
          "base_uri": "https://localhost:8080/",
          "height": 67
        }
      },
      "cell_type": "code",
      "source": [
        "# Ensure the category labelling matches the transformations made above\n",
        "test_customer=np.array([[0.0, 0.0, 619, 1, 40, 3, 60000, 2, 1, 1, 50000]])\n",
        "#test_customer=np.array([0.0, 0.0, 619, 1, 40, 3, 60000, 2, 1, 1, 50000]).reshape(1, -1)\n",
        "test_customer = sc.transform(test_customer)\n",
        "test_customer"
      ],
      "execution_count": 16,
      "outputs": [
        {
          "output_type": "execute_result",
          "data": {
            "text/plain": [
              "array([[-0.5698444 , -0.57369368, -0.32524648,  0.91601335,  0.10961719,\n",
              "        -0.68538967, -0.2569057 ,  0.8095029 ,  0.64259497,  0.9687384 ,\n",
              "        -0.87203322]])"
            ]
          },
          "metadata": {
            "tags": []
          },
          "execution_count": 16
        }
      ]
    },
    {
      "metadata": {
        "id": "Lug4W8_VMnOO",
        "colab_type": "code",
        "outputId": "c380f760-783e-480a-878b-da18c1b8fb48",
        "colab": {
          "base_uri": "https://localhost:8080/",
          "height": 34
        }
      },
      "cell_type": "code",
      "source": [
        "new_prediction=classifier.predict(test_customer)\n",
        "new_prediction"
      ],
      "execution_count": 17,
      "outputs": [
        {
          "output_type": "execute_result",
          "data": {
            "text/plain": [
              "array([[0.07668586]], dtype=float32)"
            ]
          },
          "metadata": {
            "tags": []
          },
          "execution_count": 17
        }
      ]
    },
    {
      "metadata": {
        "id": "IWzLZwSFOELJ",
        "colab_type": "code",
        "outputId": "3ad55291-3cdd-4deb-eac9-1322effcf626",
        "colab": {
          "base_uri": "https://localhost:8080/",
          "height": 34
        }
      },
      "cell_type": "code",
      "source": [
        "new_prediction = (new_prediction > 0.5)\n",
        "new_prediction \n",
        "#Customer does not leave the bank, or probability of leaving is 0.04589"
      ],
      "execution_count": 18,
      "outputs": [
        {
          "output_type": "execute_result",
          "data": {
            "text/plain": [
              "array([[False]])"
            ]
          },
          "metadata": {
            "tags": []
          },
          "execution_count": 18
        }
      ]
    },
    {
      "metadata": {
        "id": "JtzS7nahPGuk",
        "colab_type": "code",
        "colab": {}
      },
      "cell_type": "code",
      "source": [
        "# Part 4 - Evaluating, Improving and Tuning the ANN\n",
        "\n",
        "# Evaluating the ANN\n",
        "from keras.wrappers.scikit_learn import KerasClassifier\n",
        "from sklearn.model_selection import cross_val_score\n",
        "from keras.models import Sequential\n",
        "from keras.layers import Dense\n",
        "def build_classifier():\n",
        "    classifier = Sequential()\n",
        "    classifier.add(Dense(units = 6, kernel_initializer = 'uniform', activation = 'relu', input_dim = 11))\n",
        "    classifier.add(Dense(units = 6, kernel_initializer = 'uniform', activation = 'relu'))\n",
        "    classifier.add(Dense(units = 1, kernel_initializer = 'uniform', activation = 'sigmoid'))\n",
        "    classifier.compile(optimizer = 'adam', loss = 'binary_crossentropy', metrics = ['accuracy'])\n",
        "    return classifier\n",
        "classifier = KerasClassifier(build_fn = build_classifier, batch_size = 10, epochs = 100)\n",
        "accuracies = cross_val_score(estimator = classifier, X = X_train, y = y_train, cv = 10, n_jobs = -1) "
      ],
      "execution_count": 0,
      "outputs": []
    },
    {
      "metadata": {
        "id": "91oXtJw2WG66",
        "colab_type": "code",
        "outputId": "c037e9d5-3c66-4b59-c476-0bed453aeb7f",
        "colab": {
          "base_uri": "https://localhost:8080/",
          "height": 84
        }
      },
      "cell_type": "code",
      "source": [
        "print(accuracies)\n",
        "print(accuracies.mean())\n",
        "print(accuracies.std())\n",
        "#If there is high variance between scores, use regularization (eg. dropouts)"
      ],
      "execution_count": 20,
      "outputs": [
        {
          "output_type": "stream",
          "text": [
            "[0.85874999 0.83124999 0.83624999 0.83124999 0.85125    0.83125\n",
            " 0.83624999 0.85       0.83499999 0.83999999]\n",
            "0.8401249944791196\n",
            "0.009277829617576935\n"
          ],
          "name": "stdout"
        }
      ]
    },
    {
      "metadata": {
        "id": "SKlv7jh7Okq7",
        "colab_type": "code",
        "colab": {
          "base_uri": "https://localhost:8080/",
          "height": 370
        },
        "outputId": "ad4cf418-b918-4e0d-b70c-abfd7ecc542e"
      },
      "cell_type": "code",
      "source": [
        "# Tuning the ANN with randomizedsearchCV\n",
        "\n",
        "from keras.wrappers.scikit_learn import KerasClassifier\n",
        "from sklearn.model_selection import RandomizedSearchCV\n",
        "from keras.models import Sequential\n",
        "from keras.layers import Dense\n",
        "\n",
        "def build_classifier(optimizer):\n",
        "    classifier = Sequential()\n",
        "    classifier.add(Dense(units = 6, kernel_initializer = 'uniform', activation = 'relu', input_dim = 11))\n",
        "    classifier.add(Dense(units = 6, kernel_initializer = 'uniform', activation = 'relu'))\n",
        "    classifier.add(Dense(units = 1, kernel_initializer = 'uniform', activation = 'sigmoid'))\n",
        "    classifier.compile(optimizer = optimizer, loss = 'binary_crossentropy', metrics = ['accuracy'])\n",
        "    return classifier\n",
        "classifier = KerasClassifier(build_fn = build_classifier)\n",
        "adam=keras.optimizers.Adam(lr=0.001, beta_1=0.9, beta_2=0.999, epsilon=None, decay=0.0, amsgrad=False)\n",
        "sgd=keras.optimizers.SGD(lr=0.01, momentum=0.9, decay=0.0, nesterov=False)\n",
        "parameters = {'batch_size': [15, 20, 25],\n",
        "              'epochs': [600,800],\n",
        "              'optimizer': [adam,sgd]}\n",
        "\n",
        "\n",
        "grid_search = RandomizedSearchCV(estimator = classifier,\n",
        "                           param_distributions = parameters,\n",
        "                           scoring = 'accuracy',\n",
        "                           cv = 10, verbose=5,n_iter=4, n_jobs=1) \n",
        "grid_search = grid_search.fit(X_train, y_train)\n"
      ],
      "execution_count": 24,
      "outputs": [
        {
          "output_type": "stream",
          "text": [
            "8000/8000 [==============================] - 1s 81us/step - loss: 0.3357 - acc: 0.8645\n",
            "Epoch 791/800\n",
            "8000/8000 [==============================] - 1s 80us/step - loss: 0.3345 - acc: 0.8645\n",
            "Epoch 792/800\n",
            "8000/8000 [==============================] - 1s 81us/step - loss: 0.3339 - acc: 0.8655\n",
            "Epoch 793/800\n",
            "8000/8000 [==============================] - 1s 82us/step - loss: 0.3345 - acc: 0.8650\n",
            "Epoch 794/800\n",
            "8000/8000 [==============================] - 1s 82us/step - loss: 0.3329 - acc: 0.8651\n",
            "Epoch 795/800\n",
            "8000/8000 [==============================] - 1s 81us/step - loss: 0.3340 - acc: 0.8645\n",
            "Epoch 796/800\n",
            "8000/8000 [==============================] - 1s 81us/step - loss: 0.3344 - acc: 0.8648\n",
            "Epoch 797/800\n",
            "8000/8000 [==============================] - 1s 80us/step - loss: 0.3363 - acc: 0.8644\n",
            "Epoch 798/800\n",
            "8000/8000 [==============================] - 1s 80us/step - loss: 0.3372 - acc: 0.8644\n",
            "Epoch 799/800\n",
            "8000/8000 [==============================] - 1s 88us/step - loss: 0.3330 - acc: 0.8670\n",
            "Epoch 800/800\n",
            "8000/8000 [==============================] - 1s 80us/step - loss: 0.3341 - acc: 0.8651\n"
          ],
          "name": "stdout"
        }
      ]
    },
    {
      "metadata": {
        "id": "tcMRaN68HJUU",
        "colab_type": "code",
        "colab": {
          "base_uri": "https://localhost:8080/",
          "height": 50
        },
        "outputId": "26933abc-52d6-4cd0-d100-1da60e2dbb37"
      },
      "cell_type": "code",
      "source": [
        "print(grid_search.best_params_)\n",
        "print(grid_search.best_score_)"
      ],
      "execution_count": 25,
      "outputs": [
        {
          "output_type": "stream",
          "text": [
            "{'optimizer': <keras.optimizers.SGD object at 0x7fb1eccc0ac8>, 'epochs': 800, 'batch_size': 15}\n",
            "0.85925\n"
          ],
          "name": "stdout"
        }
      ]
    }
  ]
}