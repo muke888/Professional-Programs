{
  "nbformat": 4,
  "nbformat_minor": 0,
  "metadata": {
    "colab": {
      "name": "Recurrent Neural Network.ipynb",
      "version": "0.3.2",
      "provenance": [],
      "collapsed_sections": []
    },
    "kernelspec": {
      "name": "python3",
      "display_name": "Python 3"
    },
    "accelerator": "GPU"
  },
  "cells": [
    {
      "metadata": {
        "id": "Q0rIylYeZBdK",
        "colab_type": "code",
        "colab": {}
      },
      "cell_type": "code",
      "source": [
        "#For reproducable results on CPU:\n",
        "#from numpy.random import seed\n",
        "#seed(1)\n",
        "#from tensorflow import set_random_seed\n",
        "#set_random_seed(2)\n",
        "#!pip uninstall tensorflow\n",
        "#!pip3 install --upgrade tensorflow-gpu==1.4\n"
      ],
      "execution_count": 0,
      "outputs": []
    },
    {
      "metadata": {
        "id": "ZCdq3ear5i27",
        "colab_type": "code",
        "colab": {
          "base_uri": "https://localhost:8080/",
          "height": 296
        },
        "outputId": "533d75da-10ae-4787-97e9-f3482d5e6e3b"
      },
      "cell_type": "code",
      "source": [
        "# Recurrent Neural Network\n",
        "\n",
        "# Part 1 - Data Preprocessing\n",
        "\n",
        "# Importing the libraries\n",
        "import numpy as np\n",
        "import matplotlib.pyplot as plt\n",
        "import pandas as pd\n",
        "\n",
        "# Importing the dataset\n",
        "!curl https://raw.githubusercontent.com/muke888/UdemyDeepLearning/master/3.%20Recurrent%20Neural%20Networks/Google_Stock_Price_Train.csv -o Google_Stock_Price_Train.csv\n",
        "!curl https://raw.githubusercontent.com/muke888/UdemyDeepLearning/master/3.%20Recurrent%20Neural%20Networks/Google_Stock_Price_Test.csv -o Google_Stock_Price_Test.csv\n",
        "  \n",
        "dataset_train = pd.read_csv('Google_Stock_Price_Train.csv')\n",
        "dataset_train.head()"
      ],
      "execution_count": 1,
      "outputs": [
        {
          "output_type": "stream",
          "text": [
            "  % Total    % Received % Xferd  Average Speed   Time    Time     Time  Current\n",
            "                                 Dload  Upload   Total   Spent    Left  Speed\n",
            "100 63488  100 63488    0     0   173k      0 --:--:-- --:--:-- --:--:--  173k\n",
            "  % Total    % Received % Xferd  Average Speed   Time    Time     Time  Current\n",
            "                                 Dload  Upload   Total   Spent    Left  Speed\n",
            "100  1029  100  1029    0     0   3195      0 --:--:-- --:--:-- --:--:--  3185\n"
          ],
          "name": "stdout"
        },
        {
          "output_type": "execute_result",
          "data": {
            "text/html": [
              "<div>\n",
              "<style scoped>\n",
              "    .dataframe tbody tr th:only-of-type {\n",
              "        vertical-align: middle;\n",
              "    }\n",
              "\n",
              "    .dataframe tbody tr th {\n",
              "        vertical-align: top;\n",
              "    }\n",
              "\n",
              "    .dataframe thead th {\n",
              "        text-align: right;\n",
              "    }\n",
              "</style>\n",
              "<table border=\"1\" class=\"dataframe\">\n",
              "  <thead>\n",
              "    <tr style=\"text-align: right;\">\n",
              "      <th></th>\n",
              "      <th>Date</th>\n",
              "      <th>Open</th>\n",
              "      <th>High</th>\n",
              "      <th>Low</th>\n",
              "      <th>Close</th>\n",
              "      <th>Volume</th>\n",
              "    </tr>\n",
              "  </thead>\n",
              "  <tbody>\n",
              "    <tr>\n",
              "      <th>0</th>\n",
              "      <td>1/3/2012</td>\n",
              "      <td>325.25</td>\n",
              "      <td>332.83</td>\n",
              "      <td>324.97</td>\n",
              "      <td>663.59</td>\n",
              "      <td>7,380,500</td>\n",
              "    </tr>\n",
              "    <tr>\n",
              "      <th>1</th>\n",
              "      <td>1/4/2012</td>\n",
              "      <td>331.27</td>\n",
              "      <td>333.87</td>\n",
              "      <td>329.08</td>\n",
              "      <td>666.45</td>\n",
              "      <td>5,749,400</td>\n",
              "    </tr>\n",
              "    <tr>\n",
              "      <th>2</th>\n",
              "      <td>1/5/2012</td>\n",
              "      <td>329.83</td>\n",
              "      <td>330.75</td>\n",
              "      <td>326.89</td>\n",
              "      <td>657.21</td>\n",
              "      <td>6,590,300</td>\n",
              "    </tr>\n",
              "    <tr>\n",
              "      <th>3</th>\n",
              "      <td>1/6/2012</td>\n",
              "      <td>328.34</td>\n",
              "      <td>328.77</td>\n",
              "      <td>323.68</td>\n",
              "      <td>648.24</td>\n",
              "      <td>5,405,900</td>\n",
              "    </tr>\n",
              "    <tr>\n",
              "      <th>4</th>\n",
              "      <td>1/9/2012</td>\n",
              "      <td>322.04</td>\n",
              "      <td>322.29</td>\n",
              "      <td>309.46</td>\n",
              "      <td>620.76</td>\n",
              "      <td>11,688,800</td>\n",
              "    </tr>\n",
              "  </tbody>\n",
              "</table>\n",
              "</div>"
            ],
            "text/plain": [
              "       Date    Open    High     Low   Close      Volume\n",
              "0  1/3/2012  325.25  332.83  324.97  663.59   7,380,500\n",
              "1  1/4/2012  331.27  333.87  329.08  666.45   5,749,400\n",
              "2  1/5/2012  329.83  330.75  326.89  657.21   6,590,300\n",
              "3  1/6/2012  328.34  328.77  323.68  648.24   5,405,900\n",
              "4  1/9/2012  322.04  322.29  309.46  620.76  11,688,800"
            ]
          },
          "metadata": {
            "tags": []
          },
          "execution_count": 1
        }
      ]
    },
    {
      "metadata": {
        "id": "k2DJnwO57EWS",
        "colab_type": "code",
        "colab": {
          "base_uri": "https://localhost:8080/",
          "height": 118
        },
        "outputId": "50d247f8-8c26-4ba6-cc3e-7ec9f3dcd567"
      },
      "cell_type": "code",
      "source": [
        "training_set = dataset_train.iloc[:, 1:2].values\n",
        "print(training_set[:5])\n",
        "print(training_set.shape)"
      ],
      "execution_count": 2,
      "outputs": [
        {
          "output_type": "stream",
          "text": [
            "[[325.25]\n",
            " [331.27]\n",
            " [329.83]\n",
            " [328.34]\n",
            " [322.04]]\n",
            "(1258, 1)\n"
          ],
          "name": "stdout"
        }
      ]
    },
    {
      "metadata": {
        "id": "K2u_rISb7ddU",
        "colab_type": "code",
        "colab": {}
      },
      "cell_type": "code",
      "source": [
        "# Feature Scaling\n",
        "from sklearn.preprocessing import MinMaxScaler\n",
        "sc = MinMaxScaler(feature_range = (0, 1))\n",
        "training_set_scaled = sc.fit_transform(training_set)"
      ],
      "execution_count": 0,
      "outputs": []
    },
    {
      "metadata": {
        "id": "YLdGZV-E7dfp",
        "colab_type": "code",
        "colab": {}
      },
      "cell_type": "code",
      "source": [
        "# Creating a data structure with 60 timesteps and 1 output\n",
        "X_train = []\n",
        "y_train = []\n",
        "for i in range(60, 1258):\n",
        "    X_train.append(training_set_scaled[i-60:i, 0])\n",
        "    y_train.append(training_set_scaled[i, 0])\n",
        "X_train, y_train = np.array(X_train), np.array(y_train)"
      ],
      "execution_count": 0,
      "outputs": []
    },
    {
      "metadata": {
        "id": "-Adv74f27dh4",
        "colab_type": "code",
        "colab": {
          "base_uri": "https://localhost:8080/",
          "height": 235
        },
        "outputId": "c3ce408f-71d2-4a56-f503-c39cfecae1dc"
      },
      "cell_type": "code",
      "source": [
        "print(X_train[0])\n",
        "print(X_train.shape)\n",
        "print(y_train[0])\n",
        "print(y_train.shape)"
      ],
      "execution_count": 5,
      "outputs": [
        {
          "output_type": "stream",
          "text": [
            "[0.08581368 0.09701243 0.09433366 0.09156187 0.07984225 0.0643277\n",
            " 0.0585423  0.06568569 0.06109085 0.06639259 0.0614257  0.07474514\n",
            " 0.02797827 0.02379269 0.02409033 0.0159238  0.01078949 0.00967334\n",
            " 0.01642607 0.02100231 0.02280676 0.02273235 0.02810849 0.03212665\n",
            " 0.0433812  0.04475779 0.04790163 0.0440695  0.04648783 0.04745517\n",
            " 0.04873875 0.03936305 0.04137213 0.04034898 0.04784582 0.04325099\n",
            " 0.04356723 0.04286033 0.04602277 0.05398467 0.05738894 0.05714711\n",
            " 0.05569611 0.04421832 0.04514845 0.04605997 0.04412531 0.03675869\n",
            " 0.04486941 0.05065481 0.05214302 0.05612397 0.05818885 0.06540665\n",
            " 0.06882953 0.07243843 0.07993526 0.07846566 0.08034452 0.08497656]\n",
            "(1198, 60)\n",
            "0.08627874097775134\n",
            "(1198,)\n"
          ],
          "name": "stdout"
        }
      ]
    },
    {
      "metadata": {
        "id": "M4BDCfT07dkB",
        "colab_type": "code",
        "colab": {
          "base_uri": "https://localhost:8080/",
          "height": 1042
        },
        "outputId": "ea615a75-71de-48e6-eeb5-1b0f3fdeb59a"
      },
      "cell_type": "code",
      "source": [
        "# Reshaping\n",
        "#X_train = np.reshape(X_train, (1198, 60, 1))\n",
        "X_train = np.reshape(X_train, (X_train.shape[0], X_train.shape[1], 1))\n",
        "print(X_train[0])\n",
        "print(X_train.shape)"
      ],
      "execution_count": 6,
      "outputs": [
        {
          "output_type": "stream",
          "text": [
            "[[0.08581368]\n",
            " [0.09701243]\n",
            " [0.09433366]\n",
            " [0.09156187]\n",
            " [0.07984225]\n",
            " [0.0643277 ]\n",
            " [0.0585423 ]\n",
            " [0.06568569]\n",
            " [0.06109085]\n",
            " [0.06639259]\n",
            " [0.0614257 ]\n",
            " [0.07474514]\n",
            " [0.02797827]\n",
            " [0.02379269]\n",
            " [0.02409033]\n",
            " [0.0159238 ]\n",
            " [0.01078949]\n",
            " [0.00967334]\n",
            " [0.01642607]\n",
            " [0.02100231]\n",
            " [0.02280676]\n",
            " [0.02273235]\n",
            " [0.02810849]\n",
            " [0.03212665]\n",
            " [0.0433812 ]\n",
            " [0.04475779]\n",
            " [0.04790163]\n",
            " [0.0440695 ]\n",
            " [0.04648783]\n",
            " [0.04745517]\n",
            " [0.04873875]\n",
            " [0.03936305]\n",
            " [0.04137213]\n",
            " [0.04034898]\n",
            " [0.04784582]\n",
            " [0.04325099]\n",
            " [0.04356723]\n",
            " [0.04286033]\n",
            " [0.04602277]\n",
            " [0.05398467]\n",
            " [0.05738894]\n",
            " [0.05714711]\n",
            " [0.05569611]\n",
            " [0.04421832]\n",
            " [0.04514845]\n",
            " [0.04605997]\n",
            " [0.04412531]\n",
            " [0.03675869]\n",
            " [0.04486941]\n",
            " [0.05065481]\n",
            " [0.05214302]\n",
            " [0.05612397]\n",
            " [0.05818885]\n",
            " [0.06540665]\n",
            " [0.06882953]\n",
            " [0.07243843]\n",
            " [0.07993526]\n",
            " [0.07846566]\n",
            " [0.08034452]\n",
            " [0.08497656]]\n",
            "(1198, 60, 1)\n"
          ],
          "name": "stdout"
        }
      ]
    },
    {
      "metadata": {
        "id": "1XfggXQiCxku",
        "colab_type": "code",
        "colab": {
          "base_uri": "https://localhost:8080/",
          "height": 84
        },
        "outputId": "bd3f3b23-1320-4bdf-d0c8-4bf854983ea7"
      },
      "cell_type": "code",
      "source": [
        "# Getting the real stock price of 2017\n",
        "dataset_test = pd.read_csv('Google_Stock_Price_Test.csv')\n",
        "real_stock_price = dataset_test.iloc[:, 1:2].values\n",
        "print(dataset_test.shape)\n",
        "real_stock_price[:3]"
      ],
      "execution_count": 7,
      "outputs": [
        {
          "output_type": "stream",
          "text": [
            "(20, 6)\n"
          ],
          "name": "stdout"
        },
        {
          "output_type": "execute_result",
          "data": {
            "text/plain": [
              "array([[778.81],\n",
              "       [788.36],\n",
              "       [786.08]])"
            ]
          },
          "metadata": {
            "tags": []
          },
          "execution_count": 7
        }
      ]
    },
    {
      "metadata": {
        "id": "rx5WwVXSD6ub",
        "colab_type": "code",
        "colab": {
          "base_uri": "https://localhost:8080/",
          "height": 185
        },
        "outputId": "3012f6bd-3f5f-4365-8cad-9b30cb93443b"
      },
      "cell_type": "code",
      "source": [
        "dataset_total = pd.concat((dataset_train['Open'], dataset_test['Open']), axis = 0)\n",
        "#inputs = dataset_total[1278-20-60:]\n",
        "inputs = dataset_total[len(dataset_total) - len(dataset_test) - 60:].values\n",
        "inputs"
      ],
      "execution_count": 8,
      "outputs": [
        {
          "output_type": "execute_result",
          "data": {
            "text/plain": [
              "array([779.  , 779.66, 777.71, 786.66, 783.76, 781.22, 781.65, 779.8 ,\n",
              "       787.85, 798.24, 803.3 , 795.  , 804.9 , 816.68, 806.34, 801.  ,\n",
              "       808.35, 795.47, 782.89, 778.2 , 767.25, 750.66, 774.5 , 783.4 ,\n",
              "       779.94, 791.17, 756.54, 755.6 , 746.97, 755.2 , 766.92, 771.37,\n",
              "       762.61, 772.63, 767.73, 764.26, 760.  , 771.53, 770.07, 757.44,\n",
              "       744.59, 757.71, 764.73, 761.  , 772.48, 780.  , 785.04, 793.9 ,\n",
              "       797.4 , 797.34, 800.4 , 790.22, 796.76, 795.84, 792.36, 790.9 ,\n",
              "       790.68, 793.7 , 783.33, 782.75, 778.81, 788.36, 786.08, 795.26,\n",
              "       806.4 , 807.86, 805.  , 807.14, 807.48, 807.08, 805.81, 805.12,\n",
              "       806.91, 807.25, 822.3 , 829.62, 837.81, 834.71, 814.66, 796.86])"
            ]
          },
          "metadata": {
            "tags": []
          },
          "execution_count": 8
        }
      ]
    },
    {
      "metadata": {
        "id": "AKLaqi_dD63z",
        "colab_type": "code",
        "colab": {
          "base_uri": "https://localhost:8080/",
          "height": 34
        },
        "outputId": "aa253886-7240-44d7-e1ef-e30836a8955d"
      },
      "cell_type": "code",
      "source": [
        "inputs = inputs.reshape(-1,1)\n",
        "inputs = sc.transform(inputs)\n",
        "inputs[0]\n",
        "inputs.shape"
      ],
      "execution_count": 9,
      "outputs": [
        {
          "output_type": "execute_result",
          "data": {
            "text/plain": [
              "(80, 1)"
            ]
          },
          "metadata": {
            "tags": []
          },
          "execution_count": 9
        }
      ]
    },
    {
      "metadata": {
        "id": "1gmxryVlHWOL",
        "colab_type": "code",
        "colab": {}
      },
      "cell_type": "code",
      "source": [
        "X_test = []\n",
        "y_test = []\n",
        "for i in range(60, 80):\n",
        "    X_test.append(inputs[i-60:i, 0])\n",
        "    y_test.append(inputs[i, 0])\n",
        "X_test, y_test = np.array(X_test), np.array(y_test)\n",
        "X_test = np.reshape(X_test, (X_test.shape[0], X_test.shape[1], 1))"
      ],
      "execution_count": 0,
      "outputs": []
    },
    {
      "metadata": {
        "id": "iULb2YJA6xlc",
        "colab_type": "code",
        "colab": {
          "base_uri": "https://localhost:8080/",
          "height": 6502
        },
        "outputId": "fbb881c0-1ebe-4cc3-93a1-d01d43ffa81d"
      },
      "cell_type": "code",
      "source": [
        "# Part 2 - Building the RNN\n",
        "\n",
        "# Importing the Keras libraries and packages\n",
        "from keras.models import Sequential\n",
        "from keras.layers import Dense\n",
        "#from keras.layers import LSTM\n",
        "from keras.layers import CuDNNLSTM # For GPU only\n",
        "from keras.layers import Dropout\n",
        "\n",
        "\n",
        "# Initialising the RNN\n",
        "regressor = Sequential()\n",
        "\n",
        "# Adding the first LSTM layer and some Dropout regularisation\n",
        "regressor.add(CuDNNLSTM(units = 50, return_sequences = True, input_shape = (60, 1)))\n",
        "regressor.add(Dropout(0.2))\n",
        "\n",
        "# Adding a second LSTM layer and some Dropout regularisation\n",
        "regressor.add(CuDNNLSTM(units = 50, return_sequences = True))\n",
        "regressor.add(Dropout(0.2))\n",
        "\n",
        "# Adding a third LSTM layer and some Dropout regularisation\n",
        "regressor.add(CuDNNLSTM(units = 50, return_sequences = True))\n",
        "regressor.add(Dropout(0.2))\n",
        "\n",
        "# Adding a fourth LSTM layer and some Dropout regularisation\n",
        "regressor.add(CuDNNLSTM(units = 50))\n",
        "regressor.add(Dropout(0.2))\n",
        "\n",
        "# Adding the output layer\n",
        "regressor.add(Dense(units = 1))\n",
        "\n",
        "# Compiling the RNN\n",
        "regressor.compile(optimizer = 'adam', loss = 'mean_squared_error')\n",
        "\n",
        "# Fitting the RNN to the Training set\n",
        "regressor.fit(X_train, y_train, epochs = 800, batch_size = 64, verbose=1,\n",
        "          validation_data=(X_test, y_test))"
      ],
      "execution_count": 11,
      "outputs": [
        {
          "output_type": "stream",
          "text": [
            "1198/1198 [==============================] - 1s 1ms/step - loss: 7.8694e-04 - val_loss: 2.3853e-04\n",
            "Epoch 609/800\n",
            "1198/1198 [==============================] - 1s 1ms/step - loss: 8.5678e-04 - val_loss: 2.7049e-04\n",
            "Epoch 610/800\n",
            "1198/1198 [==============================] - 1s 1ms/step - loss: 9.0954e-04 - val_loss: 5.0951e-04\n",
            "Epoch 611/800\n",
            "1198/1198 [==============================] - 1s 1ms/step - loss: 8.7671e-04 - val_loss: 2.8722e-04\n",
            "Epoch 612/800\n",
            "1198/1198 [==============================] - 1s 1ms/step - loss: 8.6511e-04 - val_loss: 6.2849e-04\n",
            "Epoch 613/800\n",
            "1198/1198 [==============================] - 1s 1ms/step - loss: 8.2190e-04 - val_loss: 0.0019\n",
            "Epoch 614/800\n",
            "1198/1198 [==============================] - 1s 1ms/step - loss: 8.2792e-04 - val_loss: 7.5470e-04\n",
            "Epoch 615/800\n",
            "1198/1198 [==============================] - 1s 1ms/step - loss: 7.8472e-04 - val_loss: 2.3672e-04\n",
            "Epoch 616/800\n",
            "1198/1198 [==============================] - 1s 1ms/step - loss: 8.9116e-04 - val_loss: 0.0012\n",
            "Epoch 617/800\n",
            "1198/1198 [==============================] - 1s 1ms/step - loss: 8.0435e-04 - val_loss: 5.0139e-04\n",
            "Epoch 618/800\n",
            "1198/1198 [==============================] - 1s 1ms/step - loss: 7.8257e-04 - val_loss: 5.5095e-04\n",
            "Epoch 619/800\n",
            "1198/1198 [==============================] - 1s 1ms/step - loss: 7.1934e-04 - val_loss: 9.8080e-04\n",
            "Epoch 620/800\n",
            "1198/1198 [==============================] - 1s 1ms/step - loss: 7.6357e-04 - val_loss: 7.5716e-04\n",
            "Epoch 621/800\n",
            "1198/1198 [==============================] - 1s 1ms/step - loss: 7.5069e-04 - val_loss: 0.0011\n",
            "Epoch 622/800\n",
            "1198/1198 [==============================] - 1s 1ms/step - loss: 8.1221e-04 - val_loss: 8.5780e-04\n",
            "Epoch 623/800\n",
            "1198/1198 [==============================] - 1s 1ms/step - loss: 9.1251e-04 - val_loss: 4.3646e-04\n",
            "Epoch 624/800\n",
            "1198/1198 [==============================] - 1s 1ms/step - loss: 7.6665e-04 - val_loss: 9.5912e-04\n",
            "Epoch 625/800\n",
            "1198/1198 [==============================] - 1s 1ms/step - loss: 7.3288e-04 - val_loss: 3.2485e-04\n",
            "Epoch 626/800\n",
            "1198/1198 [==============================] - 1s 1ms/step - loss: 7.9681e-04 - val_loss: 5.1337e-04\n",
            "Epoch 627/800\n",
            "1198/1198 [==============================] - 1s 1ms/step - loss: 8.5514e-04 - val_loss: 2.9622e-04\n",
            "Epoch 628/800\n",
            "1198/1198 [==============================] - 1s 1ms/step - loss: 7.7468e-04 - val_loss: 0.0012\n",
            "Epoch 629/800\n",
            "1198/1198 [==============================] - 1s 1ms/step - loss: 9.1902e-04 - val_loss: 0.0019\n",
            "Epoch 630/800\n",
            "1198/1198 [==============================] - 1s 1ms/step - loss: 8.1058e-04 - val_loss: 2.2744e-04\n",
            "Epoch 631/800\n",
            "1198/1198 [==============================] - 1s 1ms/step - loss: 8.6057e-04 - val_loss: 5.4656e-04\n",
            "Epoch 632/800\n",
            "1198/1198 [==============================] - 1s 1ms/step - loss: 7.7161e-04 - val_loss: 0.0013\n",
            "Epoch 633/800\n",
            "1198/1198 [==============================] - 1s 1ms/step - loss: 7.9710e-04 - val_loss: 8.4242e-04\n",
            "Epoch 634/800\n",
            "1198/1198 [==============================] - 1s 1ms/step - loss: 8.3324e-04 - val_loss: 4.7784e-04\n",
            "Epoch 635/800\n",
            "1198/1198 [==============================] - 1s 1ms/step - loss: 7.3516e-04 - val_loss: 3.5920e-04\n",
            "Epoch 636/800\n",
            "1198/1198 [==============================] - 1s 1ms/step - loss: 7.7825e-04 - val_loss: 4.8649e-04\n",
            "Epoch 637/800\n",
            "1198/1198 [==============================] - 1s 1ms/step - loss: 7.3003e-04 - val_loss: 6.1131e-04\n",
            "Epoch 638/800\n",
            "1198/1198 [==============================] - 1s 1ms/step - loss: 8.5595e-04 - val_loss: 0.0013\n",
            "Epoch 639/800\n",
            "1198/1198 [==============================] - 1s 1ms/step - loss: 8.7520e-04 - val_loss: 9.5266e-04\n",
            "Epoch 640/800\n",
            "1198/1198 [==============================] - 1s 1ms/step - loss: 7.7218e-04 - val_loss: 2.8754e-04\n",
            "Epoch 641/800\n",
            "1198/1198 [==============================] - 1s 1ms/step - loss: 8.0906e-04 - val_loss: 2.9805e-04\n",
            "Epoch 642/800\n",
            "1198/1198 [==============================] - 1s 1ms/step - loss: 8.4081e-04 - val_loss: 4.6745e-04\n",
            "Epoch 643/800\n",
            "1198/1198 [==============================] - 1s 1ms/step - loss: 7.9711e-04 - val_loss: 8.7597e-04\n",
            "Epoch 644/800\n",
            "1198/1198 [==============================] - 1s 1ms/step - loss: 7.0433e-04 - val_loss: 4.8472e-04\n",
            "Epoch 645/800\n",
            "1198/1198 [==============================] - 1s 1ms/step - loss: 7.7030e-04 - val_loss: 3.7317e-04\n",
            "Epoch 646/800\n",
            "1198/1198 [==============================] - 1s 1ms/step - loss: 8.0625e-04 - val_loss: 0.0017\n",
            "Epoch 647/800\n",
            "1198/1198 [==============================] - 1s 1ms/step - loss: 7.9379e-04 - val_loss: 0.0012\n",
            "Epoch 648/800\n",
            "1198/1198 [==============================] - 1s 1ms/step - loss: 8.6113e-04 - val_loss: 7.6424e-04\n",
            "Epoch 649/800\n",
            "1198/1198 [==============================] - 1s 1ms/step - loss: 8.0319e-04 - val_loss: 6.6170e-04\n",
            "Epoch 650/800\n",
            "1198/1198 [==============================] - 1s 1ms/step - loss: 7.7203e-04 - val_loss: 7.6713e-04\n",
            "Epoch 651/800\n",
            "1198/1198 [==============================] - 1s 1ms/step - loss: 7.4727e-04 - val_loss: 2.3078e-04\n",
            "Epoch 652/800\n",
            "1198/1198 [==============================] - 1s 1ms/step - loss: 9.4581e-04 - val_loss: 2.4648e-04\n",
            "Epoch 653/800\n",
            "1198/1198 [==============================] - 1s 1ms/step - loss: 7.7989e-04 - val_loss: 0.0014\n",
            "Epoch 654/800\n",
            "1198/1198 [==============================] - 1s 1ms/step - loss: 7.9380e-04 - val_loss: 9.5485e-04\n",
            "Epoch 655/800\n",
            "1198/1198 [==============================] - 1s 1ms/step - loss: 7.9046e-04 - val_loss: 2.5717e-04\n",
            "Epoch 656/800\n",
            "1198/1198 [==============================] - 1s 1ms/step - loss: 8.1923e-04 - val_loss: 3.7561e-04\n",
            "Epoch 657/800\n",
            "1198/1198 [==============================] - 1s 1ms/step - loss: 8.7877e-04 - val_loss: 2.6609e-04\n",
            "Epoch 658/800\n",
            "1198/1198 [==============================] - 1s 1ms/step - loss: 8.5355e-04 - val_loss: 2.5188e-04\n",
            "Epoch 659/800\n",
            "1198/1198 [==============================] - 1s 1ms/step - loss: 8.0552e-04 - val_loss: 7.0106e-04\n",
            "Epoch 660/800\n",
            "1198/1198 [==============================] - 1s 1ms/step - loss: 7.4386e-04 - val_loss: 2.7698e-04\n",
            "Epoch 661/800\n",
            "1198/1198 [==============================] - 1s 1ms/step - loss: 8.6896e-04 - val_loss: 5.0832e-04\n",
            "Epoch 662/800\n",
            "1198/1198 [==============================] - 1s 1ms/step - loss: 8.0108e-04 - val_loss: 6.8364e-04\n",
            "Epoch 663/800\n",
            "1198/1198 [==============================] - 1s 1ms/step - loss: 7.9639e-04 - val_loss: 5.0376e-04\n",
            "Epoch 664/800\n",
            "1198/1198 [==============================] - 1s 1ms/step - loss: 7.7659e-04 - val_loss: 6.1779e-04\n",
            "Epoch 665/800\n",
            "1198/1198 [==============================] - 1s 1ms/step - loss: 7.5278e-04 - val_loss: 9.7424e-04\n",
            "Epoch 666/800\n",
            "1198/1198 [==============================] - 1s 1ms/step - loss: 7.6361e-04 - val_loss: 8.7383e-04\n",
            "Epoch 667/800\n",
            "1198/1198 [==============================] - 1s 1ms/step - loss: 7.9404e-04 - val_loss: 5.2734e-04\n",
            "Epoch 668/800\n",
            "1198/1198 [==============================] - 1s 1ms/step - loss: 7.8708e-04 - val_loss: 5.1990e-04\n",
            "Epoch 669/800\n",
            "1198/1198 [==============================] - 1s 1ms/step - loss: 7.9361e-04 - val_loss: 5.6135e-04\n",
            "Epoch 670/800\n",
            "1198/1198 [==============================] - 1s 1ms/step - loss: 7.4437e-04 - val_loss: 4.3313e-04\n",
            "Epoch 671/800\n",
            "1198/1198 [==============================] - 1s 1ms/step - loss: 8.0139e-04 - val_loss: 0.0011\n",
            "Epoch 672/800\n",
            "1198/1198 [==============================] - 1s 1ms/step - loss: 6.8707e-04 - val_loss: 6.2297e-04\n",
            "Epoch 673/800\n",
            "1198/1198 [==============================] - 1s 1ms/step - loss: 7.2615e-04 - val_loss: 0.0018\n",
            "Epoch 674/800\n",
            "1198/1198 [==============================] - 1s 1ms/step - loss: 8.2673e-04 - val_loss: 8.2946e-04\n",
            "Epoch 675/800\n",
            "1198/1198 [==============================] - 1s 1ms/step - loss: 8.5477e-04 - val_loss: 3.0677e-04\n",
            "Epoch 676/800\n",
            "1198/1198 [==============================] - 1s 1ms/step - loss: 9.1766e-04 - val_loss: 3.1247e-04\n",
            "Epoch 677/800\n",
            "1198/1198 [==============================] - 1s 1ms/step - loss: 7.8297e-04 - val_loss: 8.0530e-04\n",
            "Epoch 678/800\n",
            "1198/1198 [==============================] - 1s 1ms/step - loss: 8.2323e-04 - val_loss: 0.0013\n",
            "Epoch 679/800\n",
            "1198/1198 [==============================] - 1s 1ms/step - loss: 7.9246e-04 - val_loss: 8.7837e-04\n",
            "Epoch 680/800\n",
            "1198/1198 [==============================] - 1s 1ms/step - loss: 8.4205e-04 - val_loss: 3.1609e-04\n",
            "Epoch 681/800\n",
            "1198/1198 [==============================] - 1s 1ms/step - loss: 7.7586e-04 - val_loss: 3.1480e-04\n",
            "Epoch 682/800\n",
            "1198/1198 [==============================] - 1s 1ms/step - loss: 7.7421e-04 - val_loss: 3.1582e-04\n",
            "Epoch 683/800\n",
            "1198/1198 [==============================] - 1s 1ms/step - loss: 9.0915e-04 - val_loss: 6.0543e-04\n",
            "Epoch 684/800\n",
            "1198/1198 [==============================] - 1s 1ms/step - loss: 7.7941e-04 - val_loss: 0.0014\n",
            "Epoch 685/800\n",
            "1198/1198 [==============================] - 1s 1ms/step - loss: 7.9247e-04 - val_loss: 0.0014\n",
            "Epoch 686/800\n",
            "1198/1198 [==============================] - 1s 1ms/step - loss: 7.9896e-04 - val_loss: 2.6571e-04\n",
            "Epoch 687/800\n",
            "1198/1198 [==============================] - 1s 1ms/step - loss: 7.8902e-04 - val_loss: 2.9011e-04\n",
            "Epoch 688/800\n",
            "1198/1198 [==============================] - 1s 1ms/step - loss: 8.0206e-04 - val_loss: 2.6994e-04\n",
            "Epoch 689/800\n",
            "1198/1198 [==============================] - 1s 1ms/step - loss: 7.7510e-04 - val_loss: 5.9958e-04\n",
            "Epoch 690/800\n",
            "1198/1198 [==============================] - 1s 1ms/step - loss: 8.2344e-04 - val_loss: 7.3650e-04\n",
            "Epoch 691/800\n",
            "1198/1198 [==============================] - 1s 1ms/step - loss: 7.9896e-04 - val_loss: 5.9433e-04\n",
            "Epoch 692/800\n",
            "1198/1198 [==============================] - 1s 1ms/step - loss: 7.6422e-04 - val_loss: 3.6765e-04\n",
            "Epoch 693/800\n",
            "1198/1198 [==============================] - 1s 1ms/step - loss: 7.5867e-04 - val_loss: 3.6058e-04\n",
            "Epoch 694/800\n",
            "1198/1198 [==============================] - 1s 1ms/step - loss: 8.0257e-04 - val_loss: 0.0011\n",
            "Epoch 695/800\n",
            "1198/1198 [==============================] - 1s 1ms/step - loss: 7.6965e-04 - val_loss: 5.7734e-04\n",
            "Epoch 696/800\n",
            "1198/1198 [==============================] - 1s 1ms/step - loss: 7.6371e-04 - val_loss: 2.5109e-04\n",
            "Epoch 697/800\n",
            "1198/1198 [==============================] - 1s 1ms/step - loss: 8.2810e-04 - val_loss: 2.4531e-04\n",
            "Epoch 698/800\n",
            "1198/1198 [==============================] - 1s 1ms/step - loss: 7.9723e-04 - val_loss: 2.7221e-04\n",
            "Epoch 699/800\n",
            "1198/1198 [==============================] - 1s 1ms/step - loss: 8.2300e-04 - val_loss: 2.9591e-04\n",
            "Epoch 700/800\n",
            "1198/1198 [==============================] - 1s 1ms/step - loss: 8.7402e-04 - val_loss: 2.5119e-04\n",
            "Epoch 701/800\n",
            "1198/1198 [==============================] - 1s 1ms/step - loss: 7.8316e-04 - val_loss: 5.6863e-04\n",
            "Epoch 702/800\n",
            "1198/1198 [==============================] - 1s 1ms/step - loss: 7.6785e-04 - val_loss: 0.0010\n",
            "Epoch 703/800\n",
            "1198/1198 [==============================] - 1s 1ms/step - loss: 9.8761e-04 - val_loss: 0.0010\n",
            "Epoch 704/800\n",
            "1198/1198 [==============================] - 1s 1ms/step - loss: 8.3674e-04 - val_loss: 3.4234e-04\n",
            "Epoch 705/800\n",
            "1198/1198 [==============================] - 1s 1ms/step - loss: 8.2779e-04 - val_loss: 2.2531e-04\n",
            "Epoch 706/800\n",
            "1198/1198 [==============================] - 1s 1ms/step - loss: 7.6502e-04 - val_loss: 2.5595e-04\n",
            "Epoch 707/800\n",
            "1198/1198 [==============================] - 1s 1ms/step - loss: 8.1665e-04 - val_loss: 2.4630e-04\n",
            "Epoch 708/800\n",
            "1198/1198 [==============================] - 1s 1ms/step - loss: 7.4233e-04 - val_loss: 3.6559e-04\n",
            "Epoch 709/800\n",
            "1198/1198 [==============================] - 1s 1ms/step - loss: 7.0907e-04 - val_loss: 5.4142e-04\n",
            "Epoch 710/800\n",
            "1198/1198 [==============================] - 1s 1ms/step - loss: 7.8667e-04 - val_loss: 3.5050e-04\n",
            "Epoch 711/800\n",
            "1198/1198 [==============================] - 1s 1ms/step - loss: 8.3447e-04 - val_loss: 5.0745e-04\n",
            "Epoch 712/800\n",
            "1198/1198 [==============================] - 1s 1ms/step - loss: 7.9008e-04 - val_loss: 2.6527e-04\n",
            "Epoch 713/800\n",
            "1198/1198 [==============================] - 1s 1ms/step - loss: 7.3843e-04 - val_loss: 4.8660e-04\n",
            "Epoch 714/800\n",
            "1198/1198 [==============================] - 1s 1ms/step - loss: 7.8146e-04 - val_loss: 2.7517e-04\n",
            "Epoch 715/800\n",
            "1198/1198 [==============================] - 1s 1ms/step - loss: 8.0085e-04 - val_loss: 7.4070e-04\n",
            "Epoch 716/800\n",
            "1198/1198 [==============================] - 1s 1ms/step - loss: 7.1731e-04 - val_loss: 8.9429e-04\n",
            "Epoch 717/800\n",
            "1198/1198 [==============================] - 1s 1ms/step - loss: 7.8512e-04 - val_loss: 2.7332e-04\n",
            "Epoch 718/800\n",
            "1198/1198 [==============================] - 1s 1ms/step - loss: 7.5237e-04 - val_loss: 0.0018\n",
            "Epoch 719/800\n",
            "1198/1198 [==============================] - 1s 1ms/step - loss: 8.0530e-04 - val_loss: 6.5626e-04\n",
            "Epoch 720/800\n",
            "1198/1198 [==============================] - 1s 1ms/step - loss: 7.4854e-04 - val_loss: 7.0303e-04\n",
            "Epoch 721/800\n",
            "1198/1198 [==============================] - 1s 1ms/step - loss: 7.9223e-04 - val_loss: 8.2037e-04\n",
            "Epoch 722/800\n",
            "1198/1198 [==============================] - 1s 1ms/step - loss: 7.6767e-04 - val_loss: 6.4950e-04\n",
            "Epoch 723/800\n",
            "1198/1198 [==============================] - 1s 1ms/step - loss: 7.6458e-04 - val_loss: 0.0011\n",
            "Epoch 724/800\n",
            "1198/1198 [==============================] - 1s 1ms/step - loss: 7.4966e-04 - val_loss: 2.8747e-04\n",
            "Epoch 725/800\n",
            "1198/1198 [==============================] - 1s 1ms/step - loss: 7.8997e-04 - val_loss: 0.0012\n",
            "Epoch 726/800\n",
            "1198/1198 [==============================] - 1s 1ms/step - loss: 6.6287e-04 - val_loss: 4.2181e-04\n",
            "Epoch 727/800\n",
            "1198/1198 [==============================] - 1s 1ms/step - loss: 8.4486e-04 - val_loss: 0.0016\n",
            "Epoch 728/800\n",
            "1198/1198 [==============================] - 1s 1ms/step - loss: 8.0538e-04 - val_loss: 6.6474e-04\n",
            "Epoch 729/800\n",
            "1198/1198 [==============================] - 1s 1ms/step - loss: 7.4152e-04 - val_loss: 3.9532e-04\n",
            "Epoch 730/800\n",
            "1198/1198 [==============================] - 1s 1ms/step - loss: 9.4475e-04 - val_loss: 3.5717e-04\n",
            "Epoch 731/800\n",
            "1198/1198 [==============================] - 1s 1ms/step - loss: 8.6168e-04 - val_loss: 3.0462e-04\n",
            "Epoch 732/800\n",
            "1198/1198 [==============================] - 1s 1ms/step - loss: 7.9130e-04 - val_loss: 3.2995e-04\n",
            "Epoch 733/800\n",
            "1198/1198 [==============================] - 1s 1ms/step - loss: 8.2066e-04 - val_loss: 0.0014\n",
            "Epoch 734/800\n",
            "1198/1198 [==============================] - 1s 1ms/step - loss: 7.2716e-04 - val_loss: 2.8285e-04\n",
            "Epoch 735/800\n",
            "1198/1198 [==============================] - 1s 1ms/step - loss: 7.5844e-04 - val_loss: 2.3991e-04\n",
            "Epoch 736/800\n",
            "1198/1198 [==============================] - 1s 1ms/step - loss: 7.6468e-04 - val_loss: 3.9592e-04\n",
            "Epoch 737/800\n",
            "1198/1198 [==============================] - 1s 1ms/step - loss: 7.7082e-04 - val_loss: 4.4536e-04\n",
            "Epoch 738/800\n",
            "1198/1198 [==============================] - 1s 1ms/step - loss: 7.7151e-04 - val_loss: 5.1942e-04\n",
            "Epoch 739/800\n",
            "1198/1198 [==============================] - 1s 1ms/step - loss: 8.4672e-04 - val_loss: 0.0017\n",
            "Epoch 740/800\n",
            "1198/1198 [==============================] - 1s 1ms/step - loss: 8.6086e-04 - val_loss: 6.1135e-04\n",
            "Epoch 741/800\n",
            "1198/1198 [==============================] - 1s 1ms/step - loss: 8.0410e-04 - val_loss: 2.4117e-04\n",
            "Epoch 742/800\n",
            "1198/1198 [==============================] - 1s 1ms/step - loss: 7.2424e-04 - val_loss: 2.6885e-04\n",
            "Epoch 743/800\n",
            "1198/1198 [==============================] - 1s 1ms/step - loss: 7.8726e-04 - val_loss: 2.6424e-04\n",
            "Epoch 744/800\n",
            "1198/1198 [==============================] - 1s 1ms/step - loss: 8.1501e-04 - val_loss: 8.4395e-04\n",
            "Epoch 745/800\n",
            "1198/1198 [==============================] - 1s 1ms/step - loss: 7.5165e-04 - val_loss: 0.0017\n",
            "Epoch 746/800\n",
            "1198/1198 [==============================] - 1s 1ms/step - loss: 7.6599e-04 - val_loss: 0.0014\n",
            "Epoch 747/800\n",
            "1198/1198 [==============================] - 1s 1ms/step - loss: 7.5184e-04 - val_loss: 5.8934e-04\n",
            "Epoch 748/800\n",
            "1198/1198 [==============================] - 1s 1ms/step - loss: 7.7342e-04 - val_loss: 6.8677e-04\n",
            "Epoch 749/800\n",
            "1198/1198 [==============================] - 1s 1ms/step - loss: 7.8215e-04 - val_loss: 3.9162e-04\n",
            "Epoch 750/800\n",
            "1198/1198 [==============================] - 1s 1ms/step - loss: 7.0306e-04 - val_loss: 0.0011\n",
            "Epoch 751/800\n",
            "1198/1198 [==============================] - 1s 1ms/step - loss: 7.0043e-04 - val_loss: 0.0013\n",
            "Epoch 752/800\n",
            "1198/1198 [==============================] - 1s 1ms/step - loss: 7.9662e-04 - val_loss: 3.2781e-04\n",
            "Epoch 753/800\n",
            "1198/1198 [==============================] - 1s 1ms/step - loss: 7.5898e-04 - val_loss: 3.5690e-04\n",
            "Epoch 754/800\n",
            "1198/1198 [==============================] - 1s 1ms/step - loss: 9.6019e-04 - val_loss: 2.4846e-04\n",
            "Epoch 755/800\n",
            "1198/1198 [==============================] - 1s 1ms/step - loss: 8.6374e-04 - val_loss: 4.2086e-04\n",
            "Epoch 756/800\n",
            "1198/1198 [==============================] - 1s 1ms/step - loss: 9.7436e-04 - val_loss: 0.0015\n",
            "Epoch 757/800\n",
            "1198/1198 [==============================] - 1s 1ms/step - loss: 7.3990e-04 - val_loss: 3.6902e-04\n",
            "Epoch 758/800\n",
            "1198/1198 [==============================] - 1s 1ms/step - loss: 7.6793e-04 - val_loss: 9.5816e-04\n",
            "Epoch 759/800\n",
            "1198/1198 [==============================] - 1s 1ms/step - loss: 7.9132e-04 - val_loss: 6.6014e-04\n",
            "Epoch 760/800\n",
            "1198/1198 [==============================] - 1s 1ms/step - loss: 8.3483e-04 - val_loss: 2.3522e-04\n",
            "Epoch 761/800\n",
            "1198/1198 [==============================] - 1s 1ms/step - loss: 7.7099e-04 - val_loss: 2.5825e-04\n",
            "Epoch 762/800\n",
            "1198/1198 [==============================] - 1s 1ms/step - loss: 8.7531e-04 - val_loss: 7.2986e-04\n",
            "Epoch 763/800\n",
            "1198/1198 [==============================] - 1s 1ms/step - loss: 8.2764e-04 - val_loss: 0.0015\n",
            "Epoch 764/800\n",
            "1198/1198 [==============================] - 1s 1ms/step - loss: 7.8704e-04 - val_loss: 8.3121e-04\n",
            "Epoch 765/800\n",
            "1198/1198 [==============================] - 1s 1ms/step - loss: 7.8416e-04 - val_loss: 0.0012\n",
            "Epoch 766/800\n",
            "1198/1198 [==============================] - 1s 1ms/step - loss: 7.7640e-04 - val_loss: 0.0018\n",
            "Epoch 767/800\n",
            "1198/1198 [==============================] - 1s 1ms/step - loss: 7.8997e-04 - val_loss: 3.0916e-04\n",
            "Epoch 768/800\n",
            "1198/1198 [==============================] - 1s 1ms/step - loss: 7.8222e-04 - val_loss: 5.9196e-04\n",
            "Epoch 769/800\n",
            "1198/1198 [==============================] - 1s 1ms/step - loss: 7.8064e-04 - val_loss: 4.7347e-04\n",
            "Epoch 770/800\n",
            "1198/1198 [==============================] - 1s 1ms/step - loss: 7.6434e-04 - val_loss: 6.7989e-04\n",
            "Epoch 771/800\n",
            "1198/1198 [==============================] - 1s 1ms/step - loss: 7.3096e-04 - val_loss: 4.1531e-04\n",
            "Epoch 772/800\n",
            "1198/1198 [==============================] - 1s 1ms/step - loss: 7.7935e-04 - val_loss: 6.6890e-04\n",
            "Epoch 773/800\n",
            "1198/1198 [==============================] - 1s 1ms/step - loss: 7.4551e-04 - val_loss: 0.0029\n",
            "Epoch 774/800\n",
            "1198/1198 [==============================] - 1s 1ms/step - loss: 7.7359e-04 - val_loss: 5.3124e-04\n",
            "Epoch 775/800\n",
            "1198/1198 [==============================] - 1s 1ms/step - loss: 7.8949e-04 - val_loss: 2.6512e-04\n",
            "Epoch 776/800\n",
            "1198/1198 [==============================] - 1s 1ms/step - loss: 7.3204e-04 - val_loss: 2.6307e-04\n",
            "Epoch 777/800\n",
            "1198/1198 [==============================] - 1s 1ms/step - loss: 7.7281e-04 - val_loss: 3.2465e-04\n",
            "Epoch 778/800\n",
            "1198/1198 [==============================] - 1s 1ms/step - loss: 8.7640e-04 - val_loss: 2.1801e-04\n",
            "Epoch 779/800\n",
            "1198/1198 [==============================] - 1s 1ms/step - loss: 7.8536e-04 - val_loss: 2.9268e-04\n",
            "Epoch 780/800\n",
            "1198/1198 [==============================] - 1s 1ms/step - loss: 7.8418e-04 - val_loss: 0.0010\n",
            "Epoch 781/800\n",
            "1198/1198 [==============================] - 1s 1ms/step - loss: 7.0381e-04 - val_loss: 0.0018\n",
            "Epoch 782/800\n",
            "1198/1198 [==============================] - 1s 1ms/step - loss: 8.1044e-04 - val_loss: 0.0020\n",
            "Epoch 783/800\n",
            "1198/1198 [==============================] - 1s 1ms/step - loss: 7.8392e-04 - val_loss: 4.8526e-04\n",
            "Epoch 784/800\n",
            "1198/1198 [==============================] - 1s 1ms/step - loss: 9.1891e-04 - val_loss: 0.0012\n",
            "Epoch 785/800\n",
            "1198/1198 [==============================] - 1s 1ms/step - loss: 7.5951e-04 - val_loss: 9.3539e-04\n",
            "Epoch 786/800\n",
            "1198/1198 [==============================] - 1s 1ms/step - loss: 7.1497e-04 - val_loss: 5.2409e-04\n",
            "Epoch 787/800\n",
            "1198/1198 [==============================] - 1s 1ms/step - loss: 8.2283e-04 - val_loss: 7.0756e-04\n",
            "Epoch 788/800\n",
            "1198/1198 [==============================] - 1s 1ms/step - loss: 8.0408e-04 - val_loss: 5.3976e-04\n",
            "Epoch 789/800\n",
            "1198/1198 [==============================] - 1s 1ms/step - loss: 7.5034e-04 - val_loss: 3.0814e-04\n",
            "Epoch 790/800\n",
            "1198/1198 [==============================] - 1s 1ms/step - loss: 7.4701e-04 - val_loss: 0.0013\n",
            "Epoch 791/800\n",
            "1198/1198 [==============================] - 1s 1ms/step - loss: 7.2843e-04 - val_loss: 6.5472e-04\n",
            "Epoch 792/800\n",
            "1198/1198 [==============================] - 1s 1ms/step - loss: 7.2044e-04 - val_loss: 4.5907e-04\n",
            "Epoch 793/800\n",
            "1198/1198 [==============================] - 1s 1ms/step - loss: 7.2596e-04 - val_loss: 9.8189e-04\n",
            "Epoch 794/800\n",
            "1198/1198 [==============================] - 1s 1ms/step - loss: 8.1128e-04 - val_loss: 2.7289e-04\n",
            "Epoch 795/800\n",
            "1198/1198 [==============================] - 1s 1ms/step - loss: 8.5605e-04 - val_loss: 0.0014\n",
            "Epoch 796/800\n",
            "1198/1198 [==============================] - 1s 1ms/step - loss: 7.8639e-04 - val_loss: 0.0010\n",
            "Epoch 797/800\n",
            "1198/1198 [==============================] - 1s 1ms/step - loss: 8.2516e-04 - val_loss: 2.3539e-04\n",
            "Epoch 798/800\n",
            "1198/1198 [==============================] - 1s 1ms/step - loss: 7.9978e-04 - val_loss: 2.7784e-04\n",
            "Epoch 799/800\n",
            "1198/1198 [==============================] - 1s 1ms/step - loss: 8.0918e-04 - val_loss: 2.8791e-04\n",
            "Epoch 800/800\n",
            "1198/1198 [==============================] - 1s 1ms/step - loss: 7.3566e-04 - val_loss: 4.8149e-04\n"
          ],
          "name": "stdout"
        },
        {
          "output_type": "execute_result",
          "data": {
            "text/plain": [
              "<keras.callbacks.History at 0x7fd9c1b0a128>"
            ]
          },
          "metadata": {
            "tags": []
          },
          "execution_count": 11
        }
      ]
    },
    {
      "metadata": {
        "id": "bYU7FToF5v-E",
        "colab_type": "code",
        "colab": {
          "base_uri": "https://localhost:8080/",
          "height": 353
        },
        "outputId": "fe3d8289-945e-4443-c72f-8a2587e9cc94"
      },
      "cell_type": "code",
      "source": [
        "# Getting the predicted stock price of 2017\n",
        "predicted_stock_price = regressor.predict(X_test)\n",
        "predicted_stock_price = sc.inverse_transform(predicted_stock_price)\n",
        "print(predicted_stock_price)"
      ],
      "execution_count": 12,
      "outputs": [
        {
          "output_type": "stream",
          "text": [
            "[[782.1394 ]\n",
            " [778.6568 ]\n",
            " [785.6202 ]\n",
            " [784.2743 ]\n",
            " [790.88025]\n",
            " [797.3044 ]\n",
            " [799.404  ]\n",
            " [798.35895]\n",
            " [799.875  ]\n",
            " [800.33545]\n",
            " [800.80725]\n",
            " [800.006  ]\n",
            " [799.3988 ]\n",
            " [800.39465]\n",
            " [800.66614]\n",
            " [809.0589 ]\n",
            " [812.8635 ]\n",
            " [818.2793 ]\n",
            " [817.04706]\n",
            " [803.8758 ]]\n"
          ],
          "name": "stdout"
        }
      ]
    },
    {
      "metadata": {
        "id": "k3xqwh9r5wAJ",
        "colab_type": "code",
        "colab": {
          "base_uri": "https://localhost:8080/",
          "height": 376
        },
        "outputId": "2b28dd58-dd18-4b0f-8107-872492f8d21d"
      },
      "cell_type": "code",
      "source": [
        "# Visualising the results\n",
        "plt.plot(real_stock_price, color = 'red', label = 'Real Google Stock Price')\n",
        "plt.plot(predicted_stock_price, color = 'blue', label = 'Predicted Google Stock Price')\n",
        "plt.title('Google Stock Price Prediction')\n",
        "plt.xlabel('Time')\n",
        "plt.ylabel('Google Stock Price')\n",
        "plt.legend()\n",
        "plt.show()"
      ],
      "execution_count": 13,
      "outputs": [
        {
          "output_type": "display_data",
          "data": {
            "image/png": "[encoded data removed]",
            "text/plain": [
              "<matplotlib.figure.Figure at 0x7fda0b711828>"
            ]
          },
          "metadata": {
            "tags": []
          }
        }
      ]
    }
  ]
}