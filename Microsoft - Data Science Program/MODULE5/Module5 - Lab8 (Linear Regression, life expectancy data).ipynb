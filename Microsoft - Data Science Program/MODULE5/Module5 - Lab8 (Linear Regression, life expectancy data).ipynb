{
 "cells": [
  {
   "cell_type": "markdown",
   "metadata": {},
   "source": [
    "# DAT210x - Programming with Python for DS"
   ]
  },
  {
   "cell_type": "markdown",
   "metadata": {},
   "source": [
    "## Module5- Lab8"
   ]
  },
  {
   "cell_type": "code",
   "execution_count": 1,
   "metadata": {
    "collapsed": true
   },
   "outputs": [],
   "source": [
    "import pandas as pd\n",
    "import numpy as np\n",
    "import matplotlib\n",
    "import matplotlib.pyplot as plt\n",
    "\n",
    "matplotlib.style.use('ggplot') # Look Pretty\n",
    "#from sklearn import linear_model\n",
    "#from sklearn.linear_model import LinearRegression"
   ]
  },
  {
   "cell_type": "markdown",
   "metadata": {},
   "source": [
    "### A Convenience Function"
   ]
  },
  {
   "cell_type": "markdown",
   "metadata": {},
   "source": [
    "This convenience method will take care of plotting your test observations, comparing them to the regression line, and displaying the R2 coefficient"
   ]
  },
  {
   "cell_type": "code",
   "execution_count": 2,
   "metadata": {
    "collapsed": true
   },
   "outputs": [],
   "source": [
    "def drawLine(model, X_test, y_test, title):\n",
    "  # This convenience method will take care of plotting your test observations, comparing them to\n",
    "  # the regression line, and displaying the R2 coefficient\n",
    "    fig = plt.figure()\n",
    "    ax = fig.add_subplot(111)\n",
    "    ax.scatter(X_test, y_test, c='g', marker='o')\n",
    "    ax.plot(X_test, model.predict(X_test), color='orange', linewidth=1, alpha=0.7)\n",
    "\n",
    "    print (\"Est 2014 \" + title + \" Life Expectancy: \", model.predict([[2014]])[0])\n",
    "    print (\"Est 2030 \" + title + \" Life Expectancy: \", model.predict([[2030]])[0])\n",
    "    print (\"Est 2045 \" + title + \" Life Expectancy: \", model.predict([[2045]])[0])\n",
    "    \n",
    "    score = model.score(X_test, y_test)\n",
    "    title += \" R2: \" + str(score)\n",
    "    ax.set_title(title)\n",
    "\n",
    "    plt.show()\n",
    "\n"
   ]
  },
  {
   "cell_type": "markdown",
   "metadata": {
    "collapsed": true
   },
   "source": [
    "### The Assignment"
   ]
  },
  {
   "cell_type": "markdown",
   "metadata": {
    "collapsed": true
   },
   "source": [
    "Load up the data here into a variable called `X`. As usual, do a .describe and a print of your dataset and compare it to the dataset loaded in a text file or in a spread sheet application:"
   ]
  },
  {
   "cell_type": "code",
   "execution_count": 3,
   "metadata": {},
   "outputs": [
    {
     "name": "stdout",
     "output_type": "stream",
     "text": [
      "    Year  WhiteMale  WhiteFemale  BlackMale  BlackFemale\n",
      "0   1900       46.6         48.7       32.5         33.5\n",
      "1   1950       66.5         72.2       59.1         62.9\n",
      "2   1960       67.4         74.1       61.1         66.3\n",
      "3   1970       68.0         75.6       60.0         68.3\n",
      "4   1975       69.5         77.3       62.4         71.3\n",
      "5   1980       70.7         78.1       63.8         72.5\n",
      "6   1981       71.1         78.4       64.5         73.2\n",
      "7   1982       71.5         78.7       65.1         73.6\n",
      "8   1983       71.6         78.7       65.2         73.5\n",
      "9   1984       71.8         78.7       65.3         73.6\n",
      "10  1985       71.8         78.7       65.0         73.4\n",
      "11  1986       71.9         78.8       64.8         73.4\n",
      "12  1987       72.1         78.9       64.7         73.4\n",
      "13  1988       72.2         78.9       64.4         73.2\n",
      "14  1989       72.5         79.2       64.3         73.3\n",
      "15  1990       72.7         79.4       64.5         73.6\n",
      "16  1991       72.9         79.6       64.6         73.8\n",
      "17  1992       73.2         79.8       65.0         73.9\n",
      "18  1993       73.1         79.5       64.6         73.7\n",
      "19  1994       73.3         79.6       64.9         73.9\n",
      "20  1995       73.4         79.6       65.2         73.9\n",
      "21  1996       73.9         79.7       66.1         74.2\n",
      "22  1997       74.3         79.9       67.2         74.7\n",
      "23  1998       74.5         80.0       67.6         74.8\n",
      "24  1999       74.6         79.9       67.8         74.7\n",
      "25  2000       74.7         79.9       68.2         75.1\n",
      "26  2001       74.9         80.0       68.5         75.3\n",
      "27  2002       74.9         80.1       68.7         75.4\n",
      "28  2003       75.1         80.2       68.9         75.7\n",
      "29  2004       75.5         80.5       69.4         76.1\n",
      "30  2005       75.5         80.5       69.5         76.2\n",
      "31  2006       75.8         80.7       69.9         76.7\n",
      "32  2007       76.0         80.9       70.3         77.0\n",
      "33  2008       76.1         80.9       70.9         77.3\n",
      "34  2009       76.4         81.2       71.4         77.7\n",
      "35  2010       76.5         81.3       71.8         78.0\n",
      "36  2011       76.6         81.3       72.2         78.2\n",
      "37  2012       76.7         81.4       72.3         78.4\n",
      "38  2013       76.7         81.4       72.3         78.4\n",
      "39  2014       76.7         81.4       72.5         78.4\n",
      "              Year  WhiteMale  WhiteFemale  BlackMale  BlackFemale\n",
      "count    40.000000  40.000000    40.000000  40.000000    40.000000\n",
      "mean   1991.250000  72.730000    78.592500  65.912500    73.262500\n",
      "std      20.536085   4.968681     5.200561   6.422284     7.157592\n",
      "min    1900.000000  46.600000    48.700000  32.500000    33.500000\n",
      "25%    1984.750000  71.800000    78.700000  64.575000    73.400000\n",
      "50%    1994.500000  73.350000    79.650000  65.250000    73.900000\n",
      "75%    2004.250000  75.500000    80.500000  69.425000    76.125000\n",
      "max    2014.000000  76.700000    81.400000  72.500000    78.400000\n"
     ]
    }
   ],
   "source": [
    "X = pd.read_csv('Datasets/life_expectancy.csv', delim_whitespace = True)\n",
    "print (X)\n",
    "print (X.describe())"
   ]
  },
  {
   "cell_type": "markdown",
   "metadata": {},
   "source": [
    "Create your linear regression model here and store it in a variable called `model`. Don't actually train or do anything else with it yet:"
   ]
  },
  {
   "cell_type": "code",
   "execution_count": 4,
   "metadata": {
    "collapsed": true
   },
   "outputs": [],
   "source": [
    "from sklearn import linear_model\n",
    "model = linear_model.LinearRegression()\n"
   ]
  },
  {
   "cell_type": "markdown",
   "metadata": {},
   "source": [
    "Slice out your data manually (e.g. don't use `train_test_split`, but actually do the indexing yourself. Set `X_train` to be year values LESS than 1986, and `y_train` to be corresponding 'WhiteMale' age values. You might also want to read the note about slicing on the bottom of this document before proceeding:"
   ]
  },
  {
   "cell_type": "code",
   "execution_count": 5,
   "metadata": {},
   "outputs": [
    {
     "name": "stdout",
     "output_type": "stream",
     "text": [
      "<class 'pandas.core.series.Series'> <class 'pandas.core.series.Series'>\n",
      "11 11\n"
     ]
    }
   ],
   "source": [
    "X_train = X.Year[X.Year < 1986]\n",
    "y_train = X.WhiteMale[X.Year < 1986]\n",
    "print (type(y_train), type(X_train)) # y_train and X_train are Series, as described below; need to convert X_train to DataFrame\n",
    "print (len(X_train), len(y_train)) # X_train and y_train are the same length\n",
    "X_train = X_train.to_frame()\n"
   ]
  },
  {
   "cell_type": "markdown",
   "metadata": {},
   "source": [
    "Train your model then pass it into `drawLine` with your training set and labels. You can title it 'WhiteMale'. `drawLine` will output to the console a 2014 extrapolation / approximation for what it believes the WhiteMale's life expectancy in the U.S. will be... given the pre-1986 data you trained it with. It'll also produce a 2030 and 2045 extrapolation:"
   ]
  },
  {
   "cell_type": "code",
   "execution_count": 6,
   "metadata": {},
   "outputs": [
    {
     "name": "stdout",
     "output_type": "stream",
     "text": [
      "Est 2014 WhiteMale Life Expectancy:  80.8563542562\n",
      "Est 2030 WhiteMale Life Expectancy:  85.3934938378\n",
      "Est 2045 WhiteMale Life Expectancy:  89.6470621955\n"
     ]
    },
    {
     "data": {
      "image/png": "[encoded data removed]",
      "text/plain": [
       "<matplotlib.figure.Figure at 0x98a1e80>"
      ]
     },
     "metadata": {},
     "output_type": "display_data"
    }
   ],
   "source": [
    "model.fit(X_train, y_train)\n",
    "drawLine(model, X_train, y_train, \"WhiteMale\")"
   ]
  },
  {
   "cell_type": "markdown",
   "metadata": {},
   "source": [
    "Print the actual 2014 'WhiteMale' life expectancy from your loaded dataset"
   ]
  },
  {
   "cell_type": "code",
   "execution_count": 7,
   "metadata": {},
   "outputs": [
    {
     "name": "stdout",
     "output_type": "stream",
     "text": [
      "Actual 2014 WhiteMale life expectancy from loaded dataset: 76.7\n"
     ]
    }
   ],
   "source": [
    "print (\"Actual 2014 WhiteMale life expectancy from loaded dataset:\", X.WhiteMale[(X.Year == 2014)].values[0])"
   ]
  },
  {
   "cell_type": "markdown",
   "metadata": {},
   "source": [
    "Repeat the process, but instead of for WhiteMale, this time select BlackFemale. Create a slice for BlackFemales, fit your model, and then call `drawLine`. Lastly, print out the actual 2014 BlackFemale life expectancy:"
   ]
  },
  {
   "cell_type": "code",
   "execution_count": 8,
   "metadata": {},
   "outputs": [
    {
     "name": "stdout",
     "output_type": "stream",
     "text": [
      "Est 2014 BlackFemale Life Expectancy:  88.6988993981\n",
      "Est 2030 BlackFemale Life Expectancy:  96.1143880768\n",
      "Est 2045 BlackFemale Life Expectancy:  103.066408713\n"
     ]
    },
    {
     "data": {
      "image/png": "[encoded data removed]",
      "text/plain": [
       "<matplotlib.figure.Figure at 0xc2fb860>"
      ]
     },
     "metadata": {},
     "output_type": "display_data"
    },
    {
     "name": "stdout",
     "output_type": "stream",
     "text": [
      "Actual 2014 BlackFemale life expectancy from loaded dataset 78.4\n"
     ]
    }
   ],
   "source": [
    "y_train2 = X.BlackFemale[X.Year < 1986]\n",
    "model2 = model.fit(X_train, y_train2)\n",
    "drawLine(model2, X_train, y_train2, \"BlackFemale\")\n",
    "print (\"Actual 2014 BlackFemale life expectancy from loaded dataset\", X.BlackFemale[(X.Year == 2014)].values[0])"
   ]
  },
  {
   "cell_type": "markdown",
   "metadata": {},
   "source": [
    "Lastly, print out a correlation matrix for your entire dataset, and display a visualization of the correlation matrix, just as we described in the visualization section of the course:"
   ]
  },
  {
   "cell_type": "code",
   "execution_count": 9,
   "metadata": {},
   "outputs": [
    {
     "name": "stdout",
     "output_type": "stream",
     "text": [
      "                 Year  WhiteMale  WhiteFemale  BlackMale  BlackFemale\n",
      "Year         1.000000   0.974154     0.913907   0.960635     0.940429\n",
      "WhiteMale    0.974154   1.000000     0.975164   0.987974     0.985009\n",
      "WhiteFemale  0.913907   0.975164     1.000000   0.956689     0.994656\n",
      "BlackMale    0.960635   0.987974     0.956689   1.000000     0.975922\n",
      "BlackFemale  0.940429   0.985009     0.994656   0.975922     1.000000\n"
     ]
    },
    {
     "data": {
      "image/png": "[encoded data removed]",
      "text/plain": [
       "<matplotlib.figure.Figure at 0x9b9b2b0>"
      ]
     },
     "metadata": {},
     "output_type": "display_data"
    }
   ],
   "source": [
    "print (X.corr())\n",
    "plt.imshow(X.corr(), cmap=plt.cm.Blues, interpolation='nearest')\n",
    "plt.colorbar()\n",
    "tick_marks = [i for i in range(len(X.columns))]\n",
    "plt.xticks(tick_marks, X.columns, rotation='vertical')\n",
    "plt.yticks(tick_marks, X.columns)\n",
    "plt.show()"
   ]
  },
  {
   "cell_type": "code",
   "execution_count": 15,
   "metadata": {},
   "outputs": [
    {
     "data": {
      "text/plain": [
       "BlackFemale  BlackFemale    1.000000\n",
       "BlackMale    BlackMale      1.000000\n",
       "WhiteMale    WhiteMale      1.000000\n",
       "WhiteFemale  WhiteFemale    1.000000\n",
       "Year         Year           1.000000\n",
       "BlackFemale  WhiteFemale    0.994656\n",
       "WhiteFemale  BlackFemale    0.994656\n",
       "BlackMale    WhiteMale      0.987974\n",
       "WhiteMale    BlackMale      0.987974\n",
       "BlackFemale  WhiteMale      0.985009\n",
       "WhiteMale    BlackFemale    0.985009\n",
       "BlackMale    BlackFemale    0.975922\n",
       "BlackFemale  BlackMale      0.975922\n",
       "WhiteFemale  WhiteMale      0.975164\n",
       "WhiteMale    WhiteFemale    0.975164\n",
       "             Year           0.974154\n",
       "Year         WhiteMale      0.974154\n",
       "             BlackMale      0.960635\n",
       "BlackMale    Year           0.960635\n",
       "WhiteFemale  BlackMale      0.956689\n",
       "BlackMale    WhiteFemale    0.956689\n",
       "BlackFemale  Year           0.940429\n",
       "Year         BlackFemale    0.940429\n",
       "             WhiteFemale    0.913907\n",
       "WhiteFemale  Year           0.913907\n",
       "dtype: float64"
      ]
     },
     "execution_count": 15,
     "metadata": {},
     "output_type": "execute_result"
    }
   ],
   "source": [
    "cormat=X.corr()\n",
    "cormat.unstack(level=-1).sort_values (ascending=False)"
   ]
  },
  {
   "cell_type": "markdown",
   "metadata": {},
   "source": [
    "### Notes On Fitting, Scoring, and Predicting:"
   ]
  },
  {
   "cell_type": "markdown",
   "metadata": {
    "collapsed": true
   },
   "source": [
    "Here's a hint to help you complete the assignment without pulling your hair out! When you use `.fit()`, `.score()`, and `.predict()` on your model, SciKit-Learn expects your training data to be in spreadsheet (2D Array-Like) form. This means you can't simply pass in a 1D Array (slice) and get away with it.\n",
    "\n",
    "To properly prep your data, you have to pass in a 2D Numpy Array, or a dataframe. But what happens if you really only want to pass in a single feature?\n",
    "\n",
    "If you slice your dataframe using `df[['ColumnName']]` syntax, the result that comes back is actually a _dataframe_. Go ahead and do a `type()` on it to check it out. Since it's already a dataframe, you're good -- no further changes needed.\n",
    "\n",
    "But if you slice your dataframe using the `df.ColumnName` syntax, OR if you call `df['ColumnName']`, the result that comes back is actually a series (1D Array)! This will cause SKLearn to bug out. So if you are slicing using either of those two techniques, before sending your training or testing data to `.fit` / `.score`, do `any_column = my_column.reshape(-1,1)`. \n",
    "\n",
    "This will convert your 1D array of `[n_samples]`, to a 2D array shaped like `[n_samples, 1]`. A single feature, with many samples.\n",
    "\n",
    "If you did something like `my_column = [my_column]`, that would produce an array in the shape of `[1, n_samples]`, which is incorrect because SKLearn expects your data to be arranged as `[n_samples, n_features]`. Keep in mind, all of the above only relates to your `X` or input data, and does not apply to your `y` or labels."
   ]
  }
 ],
 "metadata": {
  "anaconda-cloud": {},
  "kernelspec": {
   "display_name": "Python 3",
   "language": "python",
   "name": "python3"
  },
  "language_info": {
   "codemirror_mode": {
    "name": "ipython",
    "version": 3
   },
   "file_extension": ".py",
   "mimetype": "text/x-python",
   "name": "python",
   "nbconvert_exporter": "python",
   "pygments_lexer": "ipython3",
   "version": "3.6.2"
  },
  "toc": {
   "colors": {
    "hover_highlight": "#DAA520",
    "running_highlight": "#FF0000",
    "selected_highlight": "#FFD700"
   },
   "moveMenuLeft": true,
   "nav_menu": {
    "height": "58px",
    "width": "252px"
   },
   "navigate_menu": true,
   "number_sections": true,
   "sideBar": true,
   "threshold": 4,
   "toc_cell": false,
   "toc_section_display": "block",
   "toc_window_display": false,
   "widenNotebook": false
  }
 },
 "nbformat": 4,
 "nbformat_minor": 2
}
