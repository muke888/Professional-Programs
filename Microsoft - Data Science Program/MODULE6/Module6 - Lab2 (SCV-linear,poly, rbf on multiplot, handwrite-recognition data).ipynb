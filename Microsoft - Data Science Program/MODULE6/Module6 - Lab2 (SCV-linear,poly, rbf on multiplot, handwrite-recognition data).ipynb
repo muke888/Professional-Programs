{
 "cells": [
  {
   "cell_type": "markdown",
   "metadata": {},
   "source": [
    "# DAT210x - Programming with Python for DS"
   ]
  },
  {
   "cell_type": "markdown",
   "metadata": {},
   "source": [
    "## Module6- Lab2"
   ]
  },
  {
   "cell_type": "code",
   "execution_count": 1,
   "metadata": {},
   "outputs": [],
   "source": [
    "import pandas as pd\n",
    "import matplotlib\n",
    "import matplotlib.pyplot as plt\n",
    "from sklearn import svm\n",
    "import math"
   ]
  },
  {
   "cell_type": "markdown",
   "metadata": {
    "collapsed": true
   },
   "source": [
    "The dataset used in this lab comes from https://archive.ics.uci.edu/ml/datasets/Optical+Recognition+of+Handwritten+Digits\n",
    "\n",
    "At face value, this looks like an easy lab, but it has many parts to it, so prepare yourself by rading through it fully before starting."
   ]
  },
  {
   "cell_type": "markdown",
   "metadata": {},
   "source": [
    "### Convenience Functions"
   ]
  },
  {
   "cell_type": "code",
   "execution_count": 2,
   "metadata": {},
   "outputs": [],
   "source": [
    "def load(path_train, path_test):\n",
    "    # Load up the data:\n",
    "    testing = pd.read_csv(path_test, header=None)\n",
    "    training = pd.read_csv(path_train, header=None)\n",
    "    x_train = training.iloc[:, :-1]\n",
    "    x_test = testing.iloc[:, :-1]\n",
    "    y_train = training.iloc[:, -1]\n",
    "    y_test = testing.iloc[:, -1]\n",
    "    # Keep just the first 4% of the samples?\n",
    "    four_p = True\n",
    "    if four_p:\n",
    "        x_train = x_train[:math.ceil(x_train.shape[0] * 0.04)]\n",
    "        y_train = y_train[:math.ceil(y_train.shape[0] * 0.04)]\n",
    "    return x_train, x_test, y_train, y_test"
   ]
  },
  {
   "cell_type": "code",
   "execution_count": 3,
   "metadata": {},
   "outputs": [],
   "source": [
    "def peekData(X_train):\n",
    "    # The 'targets' or labels are stored in y. The 'samples' or data is stored in X\n",
    "    print(\"Peeking your data...\")\n",
    "    fig = plt.figure()\n",
    "    fig.set_tight_layout(True)\n",
    "\n",
    "    cnt = 0\n",
    "    for col in range(5):\n",
    "        for row in range(10):\n",
    "            plt.subplot(5, 10, cnt + 1)\n",
    "            plt.imshow(X_train.iloc[cnt,:].values.reshape(8,8), cmap=plt.cm.gray_r, interpolation='nearest')\n",
    "            plt.axis('off')\n",
    "            cnt += 1\n",
    "            \n",
    "    plt.show()"
   ]
  },
  {
   "cell_type": "code",
   "execution_count": 4,
   "metadata": {},
   "outputs": [],
   "source": [
    "def drawPredictions(X_train, X_test, y_train, y_test):\n",
    "    fig = plt.figure()\n",
    "    fig.set_tight_layout(True)\n",
    "    \n",
    "    # Make some guesses\n",
    "    y_guess = model.predict(X_test)\n",
    "\n",
    "    # INFO: This is the second lab we're demonstrating how to\n",
    "    # do multi-plots using matplot lab. In the next assignment(s),\n",
    "    # it'll be your responsibility to use this and assignment #1\n",
    "    # as tutorials to add in the plotting code yourself!\n",
    "    num_rows = 10\n",
    "    num_cols = 5\n",
    "\n",
    "    index = 0\n",
    "    for col in range(num_cols):\n",
    "        for row in range(num_rows):\n",
    "            plt.subplot(num_cols, num_rows, index + 1)\n",
    "\n",
    "            # 8x8 is the size of the image, 64 pixels\n",
    "            plt.imshow(X_test.iloc[index,:].values.reshape(8,8), cmap=plt.cm.gray_r, interpolation='nearest')\n",
    "\n",
    "            # Green = Guessed right\n",
    "            # Red = Fail!\n",
    "            fontcolor = 'g' if y_test[index] == y_guess[index] else 'r'\n",
    "            plt.title('Label: %i' % y_guess[index], fontsize=6, color=fontcolor)\n",
    "            plt.axis('off')\n",
    "            index += 1\n",
    "    plt.show()"
   ]
  },
  {
   "cell_type": "markdown",
   "metadata": {},
   "source": [
    "### The Assignment"
   ]
  },
  {
   "cell_type": "code",
   "execution_count": 5,
   "metadata": {},
   "outputs": [],
   "source": [
    "# TODO: Pass in the file paths to the .tra and the .tes files:\n",
    "X_train, X_test, y_train, y_test = load('Datasets/optdigits.tra', 'Datasets/optdigits.tes')"
   ]
  },
  {
   "cell_type": "markdown",
   "metadata": {},
   "source": [
    "Get to know your data. It seems its already well organized in `[n_samples, n_features]` form. Your dataset looks like (4389, 784). Also your labels are already shaped as `[n_samples]`."
   ]
  },
  {
   "cell_type": "code",
   "execution_count": 6,
   "metadata": {},
   "outputs": [
    {
     "name": "stdout",
     "output_type": "stream",
     "text": [
      "Peeking your data...\n"
     ]
    },
    {
     "name": "stderr",
     "output_type": "stream",
     "text": [
      "C:\\ProgramData\\Anaconda3\\lib\\site-packages\\matplotlib\\figure.py:2022: UserWarning: This figure includes Axes that are not compatible with tight_layout, so results might be incorrect.\n",
      "  warnings.warn(\"This figure includes Axes that are not compatible \"\n"
     ]
    },
    {
     "data": {
      "image/png": "[encoded data removed]",
      "text/plain": [
       "<matplotlib.figure.Figure at 0x2c7506a36d8>"
      ]
     },
     "metadata": {},
     "output_type": "display_data"
    }
   ],
   "source": [
    "peekData(X_train)"
   ]
  },
  {
   "cell_type": "markdown",
   "metadata": {},
   "source": [
    "Create an SVC classifier. Leave `C=1`, but set `gamma` to `0.001` and set the `kernel` to `linear`. Then train the model on the training data and labels:"
   ]
  },
  {
   "cell_type": "code",
   "execution_count": 7,
   "metadata": {},
   "outputs": [
    {
     "name": "stdout",
     "output_type": "stream",
     "text": [
      "Training SVC Classifier...\n"
     ]
    },
    {
     "data": {
      "text/plain": [
       "SVC(C=1, cache_size=200, class_weight=None, coef0=0.0,\n",
       "  decision_function_shape='ovr', degree=3, gamma=0.001, kernel='linear',\n",
       "  max_iter=-1, probability=False, random_state=None, shrinking=True,\n",
       "  tol=0.001, verbose=False)"
      ]
     },
     "execution_count": 7,
     "metadata": {},
     "output_type": "execute_result"
    }
   ],
   "source": [
    "print(\"Training SVC Classifier...\")\n",
    "\n",
    "from sklearn.svm import SVC\n",
    "model = SVC(C = 1, gamma = 0.001, kernel = 'linear')\n",
    "model.fit(X_train, y_train)"
   ]
  },
  {
   "cell_type": "markdown",
   "metadata": {},
   "source": [
    "Calculate the score of your SVC against the testing data:"
   ]
  },
  {
   "cell_type": "code",
   "execution_count": 8,
   "metadata": {},
   "outputs": [
    {
     "name": "stdout",
     "output_type": "stream",
     "text": [
      "Scoring SVC Classifier...\n",
      "Score:\n",
      " 0.8542014468558708\n"
     ]
    }
   ],
   "source": [
    "print(\"Scoring SVC Classifier...\")\n",
    "\n",
    "score = model.score\n",
    "print( \"Score:\\n\", score(X_test, y_test))"
   ]
  },
  {
   "cell_type": "code",
   "execution_count": 9,
   "metadata": {},
   "outputs": [
    {
     "name": "stderr",
     "output_type": "stream",
     "text": [
      "C:\\ProgramData\\Anaconda3\\lib\\site-packages\\matplotlib\\figure.py:2022: UserWarning: This figure includes Axes that are not compatible with tight_layout, so results might be incorrect.\n",
      "  warnings.warn(\"This figure includes Axes that are not compatible \"\n"
     ]
    },
    {
     "data": {
      "image/png": "[encoded data removed]",
      "text/plain": [
       "<matplotlib.figure.Figure at 0x2c7506a32e8>"
      ]
     },
     "metadata": {},
     "output_type": "display_data"
    }
   ],
   "source": [
    "# Let's get some visual confirmation of accuracy:\n",
    "drawPredictions(X_train, X_test, y_train, y_test)"
   ]
  },
  {
   "cell_type": "markdown",
   "metadata": {},
   "source": [
    "Print out the TRUE value of the 1000th digit in the test set. By TRUE value, we mean, the actual provided, ground-truth label for that sample:"
   ]
  },
  {
   "cell_type": "code",
   "execution_count": 10,
   "metadata": {},
   "outputs": [
    {
     "name": "stdout",
     "output_type": "stream",
     "text": [
      "1000th test label:  1\n"
     ]
    }
   ],
   "source": [
    "true_1000th_test_value = y_test[1000]\n",
    "\n",
    "print(\"1000th test label: \", true_1000th_test_value)"
   ]
  },
  {
   "cell_type": "markdown",
   "metadata": {},
   "source": [
    "Predict the value of the 1000th digit in the test set. Was your model's prediction correct? If you get a warning on your predict line, look at the notes from the previous module's labs."
   ]
  },
  {
   "cell_type": "code",
   "execution_count": 11,
   "metadata": {},
   "outputs": [
    {
     "name": "stdout",
     "output_type": "stream",
     "text": [
      "1000th test prediction:  1\n"
     ]
    }
   ],
   "source": [
    "y_pred = model.predict(X_test)\n",
    "guess_1000th_test_value = y_pred[1000]\n",
    "\n",
    "print(\"1000th test prediction: \", guess_1000th_test_value)"
   ]
  },
  {
   "cell_type": "markdown",
   "metadata": {},
   "source": [
    "Use `imshow()` to display the 1000th test image, so you can visually check if it was a hard image, or an easy image:"
   ]
  },
  {
   "cell_type": "code",
   "execution_count": 12,
   "metadata": {},
   "outputs": [
    {
     "data": {
      "text/plain": [
       "<matplotlib.image.AxesImage at 0x2c752058c18>"
      ]
     },
     "execution_count": 12,
     "metadata": {},
     "output_type": "execute_result"
    },
    {
     "data": {
      "image/png": "[encoded data removed]",
      "text/plain": [
       "<matplotlib.figure.Figure at 0x2c751b20c50>"
      ]
     },
     "metadata": {},
     "output_type": "display_data"
    }
   ],
   "source": [
    "plt.imshow(X_test.iloc[1000, :].values.reshape(8, 8), cmap = plt.cm.gray_r, interpolation = 'nearest')"
   ]
  },
  {
   "cell_type": "markdown",
   "metadata": {},
   "source": [
    "### To the Goal"
   ]
  },
  {
   "cell_type": "markdown",
   "metadata": {},
   "source": [
    "- Were you able to beat the USPS advertised accuracy score of 98%? If so, STOP and answer the lab questions. But if you weren't able to get that high of an accuracy score, go back and change your SVC's kernel to 'poly' and re-run your lab again.\n",
    "\n",
    "\n",
    "- Were you able to beat the USPS advertised accuracy score of 98%? If so, STOP and answer the lab questions. But if you weren't able to get that high of an accuracy score, go back and change your SVC's kernel to 'rbf' and re-run your lab again.\n",
    "\n",
    "\n",
    "- Were you able to beat the USPS advertised accuracy score of 98%? If so, STOP and answer the lab questions. But if you weren't able to get that high of an accuracy score, go back and tinker with your gamma value and C value until you're able to beat the USPS. Don't stop tinkering until you do. =)."
   ]
  },
  {
   "cell_type": "markdown",
   "metadata": {},
   "source": [
    "### More Tasks"
   ]
  },
  {
   "cell_type": "markdown",
   "metadata": {},
   "source": [
    "Only after you're able to beat the +98% accuracy score of the USPS, go back into the `load()` method and look for the line that reads `# Special:`\n",
    "\n",
    "Immediately under that line, ONLY alter `X_train` and `y_train`. Keep just the ___FIRST___ 4% of the samples. In other words, for every 100 samples found, throw away 96 of them. To make this easy, keep the samples and labels from th beginning of your `X_train` and `y_train` vectors.\n",
    "\n",
    "If the first 4% of your train vector's size yields is a decimal number, then use `ceil` to round up to the nearest whole integer.\n",
    "\n",
    "This operation might require some Pandas indexing skills, or rather some _numpy_ indexing skills, if you'd like to go that route. Feel free to ask on the class forum if you'd like a tip on how to do this; but try to exercise your own muscles first! \n",
    "\n",
    "Re-Run your application after throwing away 96% your training data. What accuracy score do you get now?"
   ]
  },
  {
   "cell_type": "markdown",
   "metadata": {},
   "source": [
    "### Even More Tasks..."
   ]
  },
  {
   "cell_type": "markdown",
   "metadata": {},
   "source": [
    "Change your kernel back to linear and run your assignment one last time. What's the accuracy score this time?\n",
    "\n",
    "Surprised?"
   ]
  },
  {
   "cell_type": "code",
   "execution_count": null,
   "metadata": {},
   "outputs": [],
   "source": []
  }
 ],
 "metadata": {
  "anaconda-cloud": {},
  "kernelspec": {
   "display_name": "Python 3",
   "language": "python",
   "name": "python3"
  },
  "language_info": {
   "codemirror_mode": {
    "name": "ipython",
    "version": 3
   },
   "file_extension": ".py",
   "mimetype": "text/x-python",
   "name": "python",
   "nbconvert_exporter": "python",
   "pygments_lexer": "ipython3",
   "version": "3.6.4"
  },
  "toc": {
   "colors": {
    "hover_highlight": "#DAA520",
    "running_highlight": "#FF0000",
    "selected_highlight": "#FFD700"
   },
   "moveMenuLeft": true,
   "nav_menu": {
    "height": "58px",
    "width": "252px"
   },
   "navigate_menu": true,
   "number_sections": true,
   "sideBar": true,
   "threshold": 4,
   "toc_cell": false,
   "toc_section_display": "block",
   "toc_window_display": false,
   "widenNotebook": false
  }
 },
 "nbformat": 4,
 "nbformat_minor": 2
}
