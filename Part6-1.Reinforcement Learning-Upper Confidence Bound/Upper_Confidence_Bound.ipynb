{
  "nbformat": 4,
  "nbformat_minor": 0,
  "metadata": {
    "colab": {
      "name": "Upper Confidence Bound.ipynb",
      "version": "0.3.2",
      "provenance": [],
      "collapsed_sections": []
    },
    "kernelspec": {
      "name": "python3",
      "display_name": "Python 3"
    }
  },
  "cells": [
    {
      "metadata": {
        "id": "J40KDiCWFTKe",
        "colab_type": "code",
        "outputId": "53445eb3-3b2d-4130-e9b2-80076b1e02e7",
        "colab": {
          "base_uri": "https://localhost:8080/",
          "height": 67
        }
      },
      "cell_type": "code",
      "source": [
        "#Upper Confidence Bound method\n",
        "\n",
        "# Importing the libraries\n",
        "import numpy as np\n",
        "import matplotlib.pyplot as plt\n",
        "import pandas as pd\n",
        "\n",
        "\n",
        "# Importing the dataset\n",
        "!curl https://raw.githubusercontent.com/muke888/UdemyMachineLearning/master/Part6-1.Reinforcement%20Learning-Upper%20Confidence%20Bound/Ads_CTR_Optimisation.csv -o Ads_CTR_Optimisation.csv"
      ],
      "execution_count": 1,
      "outputs": [
        {
          "output_type": "stream",
          "text": [
            "  % Total    % Received % Xferd  Average Speed   Time    Time     Time  Current\n",
            "                                 Dload  Upload   Total   Spent    Left  Speed\n",
            "\r  0     0    0     0    0     0      0      0 --:--:-- --:--:-- --:--:--     0\r100  205k  100  205k    0     0  1250k      0 --:--:-- --:--:-- --:--:-- 1250k\n"
          ],
          "name": "stdout"
        }
      ]
    },
    {
      "metadata": {
        "id": "DnC88IWgFdCd",
        "colab_type": "code",
        "outputId": "24e9fe46-7121-4779-e997-1c36c19f6c17",
        "colab": {
          "base_uri": "https://localhost:8080/",
          "height": 447
        }
      },
      "cell_type": "code",
      "source": [
        "# Importing the dataset\n",
        "dataset = pd.read_csv('Ads_CTR_Optimisation.csv')\n",
        "dataset.info()\n",
        "dataset.head()"
      ],
      "execution_count": 2,
      "outputs": [
        {
          "output_type": "stream",
          "text": [
            "<class 'pandas.core.frame.DataFrame'>\n",
            "RangeIndex: 10000 entries, 0 to 9999\n",
            "Data columns (total 10 columns):\n",
            "Ad 1     10000 non-null int64\n",
            "Ad 2     10000 non-null int64\n",
            "Ad 3     10000 non-null int64\n",
            "Ad 4     10000 non-null int64\n",
            "Ad 5     10000 non-null int64\n",
            "Ad 6     10000 non-null int64\n",
            "Ad 7     10000 non-null int64\n",
            "Ad 8     10000 non-null int64\n",
            "Ad 9     10000 non-null int64\n",
            "Ad 10    10000 non-null int64\n",
            "dtypes: int64(10)\n",
            "memory usage: 781.3 KB\n"
          ],
          "name": "stdout"
        },
        {
          "output_type": "execute_result",
          "data": {
            "text/html": [
              "<div>\n",
              "<style scoped>\n",
              "    .dataframe tbody tr th:only-of-type {\n",
              "        vertical-align: middle;\n",
              "    }\n",
              "\n",
              "    .dataframe tbody tr th {\n",
              "        vertical-align: top;\n",
              "    }\n",
              "\n",
              "    .dataframe thead th {\n",
              "        text-align: right;\n",
              "    }\n",
              "</style>\n",
              "<table border=\"1\" class=\"dataframe\">\n",
              "  <thead>\n",
              "    <tr style=\"text-align: right;\">\n",
              "      <th></th>\n",
              "      <th>Ad 1</th>\n",
              "      <th>Ad 2</th>\n",
              "      <th>Ad 3</th>\n",
              "      <th>Ad 4</th>\n",
              "      <th>Ad 5</th>\n",
              "      <th>Ad 6</th>\n",
              "      <th>Ad 7</th>\n",
              "      <th>Ad 8</th>\n",
              "      <th>Ad 9</th>\n",
              "      <th>Ad 10</th>\n",
              "    </tr>\n",
              "  </thead>\n",
              "  <tbody>\n",
              "    <tr>\n",
              "      <th>0</th>\n",
              "      <td>1</td>\n",
              "      <td>0</td>\n",
              "      <td>0</td>\n",
              "      <td>0</td>\n",
              "      <td>1</td>\n",
              "      <td>0</td>\n",
              "      <td>0</td>\n",
              "      <td>0</td>\n",
              "      <td>1</td>\n",
              "      <td>0</td>\n",
              "    </tr>\n",
              "    <tr>\n",
              "      <th>1</th>\n",
              "      <td>0</td>\n",
              "      <td>0</td>\n",
              "      <td>0</td>\n",
              "      <td>0</td>\n",
              "      <td>0</td>\n",
              "      <td>0</td>\n",
              "      <td>0</td>\n",
              "      <td>0</td>\n",
              "      <td>1</td>\n",
              "      <td>0</td>\n",
              "    </tr>\n",
              "    <tr>\n",
              "      <th>2</th>\n",
              "      <td>0</td>\n",
              "      <td>0</td>\n",
              "      <td>0</td>\n",
              "      <td>0</td>\n",
              "      <td>0</td>\n",
              "      <td>0</td>\n",
              "      <td>0</td>\n",
              "      <td>0</td>\n",
              "      <td>0</td>\n",
              "      <td>0</td>\n",
              "    </tr>\n",
              "    <tr>\n",
              "      <th>3</th>\n",
              "      <td>0</td>\n",
              "      <td>1</td>\n",
              "      <td>0</td>\n",
              "      <td>0</td>\n",
              "      <td>0</td>\n",
              "      <td>0</td>\n",
              "      <td>0</td>\n",
              "      <td>1</td>\n",
              "      <td>0</td>\n",
              "      <td>0</td>\n",
              "    </tr>\n",
              "    <tr>\n",
              "      <th>4</th>\n",
              "      <td>0</td>\n",
              "      <td>0</td>\n",
              "      <td>0</td>\n",
              "      <td>0</td>\n",
              "      <td>0</td>\n",
              "      <td>0</td>\n",
              "      <td>0</td>\n",
              "      <td>0</td>\n",
              "      <td>0</td>\n",
              "      <td>0</td>\n",
              "    </tr>\n",
              "  </tbody>\n",
              "</table>\n",
              "</div>"
            ],
            "text/plain": [
              "   Ad 1  Ad 2  Ad 3  Ad 4  Ad 5  Ad 6  Ad 7  Ad 8  Ad 9  Ad 10\n",
              "0     1     0     0     0     1     0     0     0     1      0\n",
              "1     0     0     0     0     0     0     0     0     1      0\n",
              "2     0     0     0     0     0     0     0     0     0      0\n",
              "3     0     1     0     0     0     0     0     1     0      0\n",
              "4     0     0     0     0     0     0     0     0     0      0"
            ]
          },
          "metadata": {
            "tags": []
          },
          "execution_count": 2
        }
      ]
    },
    {
      "metadata": {
        "id": "P7erikJsFdE0",
        "colab_type": "code",
        "outputId": "64593932-a9e1-496a-90a2-65084549e3c4",
        "colab": {
          "base_uri": "https://localhost:8080/",
          "height": 343
        }
      },
      "cell_type": "code",
      "source": [
        "#Probabilities of ads from Ad1 to Ad10\n",
        "prob1=[]\n",
        "for i in range(len(dataset.columns)):\n",
        "  prob1.append(dataset.values[:,i].sum()/10000)\n",
        "prob1=np.array(prob1)\n",
        "prob=pd.DataFrame(data=prob1, index=dataset.columns, columns=['Prob'])\n",
        "prob=prob.reset_index()\n",
        "prob"
      ],
      "execution_count": 3,
      "outputs": [
        {
          "output_type": "execute_result",
          "data": {
            "text/html": [
              "<div>\n",
              "<style scoped>\n",
              "    .dataframe tbody tr th:only-of-type {\n",
              "        vertical-align: middle;\n",
              "    }\n",
              "\n",
              "    .dataframe tbody tr th {\n",
              "        vertical-align: top;\n",
              "    }\n",
              "\n",
              "    .dataframe thead th {\n",
              "        text-align: right;\n",
              "    }\n",
              "</style>\n",
              "<table border=\"1\" class=\"dataframe\">\n",
              "  <thead>\n",
              "    <tr style=\"text-align: right;\">\n",
              "      <th></th>\n",
              "      <th>index</th>\n",
              "      <th>Prob</th>\n",
              "    </tr>\n",
              "  </thead>\n",
              "  <tbody>\n",
              "    <tr>\n",
              "      <th>0</th>\n",
              "      <td>Ad 1</td>\n",
              "      <td>0.1703</td>\n",
              "    </tr>\n",
              "    <tr>\n",
              "      <th>1</th>\n",
              "      <td>Ad 2</td>\n",
              "      <td>0.1295</td>\n",
              "    </tr>\n",
              "    <tr>\n",
              "      <th>2</th>\n",
              "      <td>Ad 3</td>\n",
              "      <td>0.0728</td>\n",
              "    </tr>\n",
              "    <tr>\n",
              "      <th>3</th>\n",
              "      <td>Ad 4</td>\n",
              "      <td>0.1196</td>\n",
              "    </tr>\n",
              "    <tr>\n",
              "      <th>4</th>\n",
              "      <td>Ad 5</td>\n",
              "      <td>0.2695</td>\n",
              "    </tr>\n",
              "    <tr>\n",
              "      <th>5</th>\n",
              "      <td>Ad 6</td>\n",
              "      <td>0.0126</td>\n",
              "    </tr>\n",
              "    <tr>\n",
              "      <th>6</th>\n",
              "      <td>Ad 7</td>\n",
              "      <td>0.1112</td>\n",
              "    </tr>\n",
              "    <tr>\n",
              "      <th>7</th>\n",
              "      <td>Ad 8</td>\n",
              "      <td>0.2091</td>\n",
              "    </tr>\n",
              "    <tr>\n",
              "      <th>8</th>\n",
              "      <td>Ad 9</td>\n",
              "      <td>0.0952</td>\n",
              "    </tr>\n",
              "    <tr>\n",
              "      <th>9</th>\n",
              "      <td>Ad 10</td>\n",
              "      <td>0.0489</td>\n",
              "    </tr>\n",
              "  </tbody>\n",
              "</table>\n",
              "</div>"
            ],
            "text/plain": [
              "   index    Prob\n",
              "0   Ad 1  0.1703\n",
              "1   Ad 2  0.1295\n",
              "2   Ad 3  0.0728\n",
              "3   Ad 4  0.1196\n",
              "4   Ad 5  0.2695\n",
              "5   Ad 6  0.0126\n",
              "6   Ad 7  0.1112\n",
              "7   Ad 8  0.2091\n",
              "8   Ad 9  0.0952\n",
              "9  Ad 10  0.0489"
            ]
          },
          "metadata": {
            "tags": []
          },
          "execution_count": 3
        }
      ]
    },
    {
      "metadata": {
        "id": "2h0CbCtQFdHE",
        "colab_type": "code",
        "outputId": "e995d71a-a882-4346-dc8a-8d2f2bff9c92",
        "colab": {
          "base_uri": "https://localhost:8080/",
          "height": 393
        }
      },
      "cell_type": "code",
      "source": [
        "prob.plot(kind='line', x='index', y='Prob', c='DarkBlue' , xticks=range(10),title='Probabilities of Ads')"
      ],
      "execution_count": 4,
      "outputs": [
        {
          "output_type": "execute_result",
          "data": {
            "text/plain": [
              "<matplotlib.axes._subplots.AxesSubplot at 0x7fc2a4dca0b8>"
            ]
          },
          "metadata": {
            "tags": []
          },
          "execution_count": 4
        },
        {
          "output_type": "display_data",
          "data": {
            "image/png": "[encoded data removed]",
            "text/plain": [
              "<matplotlib.figure.Figure at 0x7fc2a4e06b70>"
            ]
          },
          "metadata": {
            "tags": []
          }
        }
      ]
    },
    {
      "metadata": {
        "id": "ASy-QanKFdJU",
        "colab_type": "code",
        "colab": {
          "base_uri": "https://localhost:8080/",
          "height": 34
        },
        "outputId": "caddb175-2f89-4253-8d78-680711bc82d5"
      },
      "cell_type": "code",
      "source": [
        "# Implementing UCB\n",
        "import math\n",
        "N = 10000\n",
        "d = 10\n",
        "ads_selected = []\n",
        "numbers_of_selections = [0] * d\n",
        "sums_of_rewards = [0] * d\n",
        "total_reward = 0\n",
        "for n in range(0, N):\n",
        "    ad = 0\n",
        "    max_upper_bound = 0\n",
        "    for i in range(0, d):\n",
        "        if (numbers_of_selections[i] > 0):\n",
        "            average_reward = sums_of_rewards[i] / numbers_of_selections[i]\n",
        "            delta_i = math.sqrt(3/2 * math.log(n + 1) / numbers_of_selections[i])\n",
        "            upper_bound = average_reward + delta_i\n",
        "        else:\n",
        "            upper_bound = 1e400\n",
        "        if upper_bound > max_upper_bound:\n",
        "            max_upper_bound = upper_bound\n",
        "            ad = i\n",
        "    ads_selected.append(ad)\n",
        "    numbers_of_selections[ad] = numbers_of_selections[ad] + 1\n",
        "    reward = dataset.values[n, ad]\n",
        "    sums_of_rewards[ad] = sums_of_rewards[ad] + reward\n",
        "    total_reward = total_reward + reward\n",
        "    \n",
        "total_reward"
      ],
      "execution_count": 5,
      "outputs": [
        {
          "output_type": "execute_result",
          "data": {
            "text/plain": [
              "2178"
            ]
          },
          "metadata": {
            "tags": []
          },
          "execution_count": 5
        }
      ]
    },
    {
      "metadata": {
        "id": "_ILz7RcQFdLs",
        "colab_type": "code",
        "outputId": "8a1dec9a-2493-46b3-9237-4bc6c540245a",
        "colab": {
          "base_uri": "https://localhost:8080/",
          "height": 376
        }
      },
      "cell_type": "code",
      "source": [
        "# Visualising the results\n",
        "plt.hist(ads_selected,edgecolor='black', linewidth=0.5, bins=(np.arange(11) - 0.5))\n",
        "plt.xticks(range(10))\n",
        "plt.title('Histogram of ads selections')\n",
        "plt.xlabel('Ads')\n",
        "plt.ylabel('Number of times each ad was selected')\n",
        "plt.show()"
      ],
      "execution_count": 6,
      "outputs": [
        {
          "output_type": "display_data",
          "data": {
            "image/png": "[encoded data removed]",
            "text/plain": [
              "<matplotlib.figure.Figure at 0x7fc2a4d67208>"
            ]
          },
          "metadata": {
            "tags": []
          }
        }
      ]
    },
    {
      "metadata": {
        "id": "eGEUUQLpFdN-",
        "colab_type": "code",
        "colab": {
          "base_uri": "https://localhost:8080/",
          "height": 34
        },
        "outputId": "44ab34de-e2a9-4469-c2d7-9c9ff71e6279"
      },
      "cell_type": "code",
      "source": [
        "# My own implementation of reinforement learning with improvised reward function\n",
        "# Let's compare to the above method\n",
        "import random\n",
        "N = 10000\n",
        "d = 10\n",
        "ad_pool = [0,1,2,3,4,5,6,7,8,9]\n",
        "ads_selected = []\n",
        "total_reward = 0\n",
        "for n in range(0, N):\n",
        "    ad = random.choice(ad_pool)\n",
        "    ads_selected.append(ad)\n",
        "    reward = dataset.values[n, ad]\n",
        "    total_reward = total_reward + reward\n",
        "    if reward ==1:\n",
        "      ad_pool.append(ad)\n",
        "    else:\n",
        "      pass\n",
        "\n",
        "total_reward"
      ],
      "execution_count": 7,
      "outputs": [
        {
          "output_type": "execute_result",
          "data": {
            "text/plain": [
              "2374"
            ]
          },
          "metadata": {
            "tags": []
          },
          "execution_count": 7
        }
      ]
    },
    {
      "metadata": {
        "id": "ACntH7HN8q5d",
        "colab_type": "code",
        "colab": {
          "base_uri": "https://localhost:8080/",
          "height": 376
        },
        "outputId": "35b70f8a-7710-4afe-c6ad-3fbfe5cc5956"
      },
      "cell_type": "code",
      "source": [
        "# Visualising the results\n",
        "# We see that my model actually performs better\n",
        "plt.hist(ads_selected,edgecolor='black', linewidth=0.5, bins=(np.arange(11) - 0.5))\n",
        "plt.xticks(range(10))\n",
        "plt.title('Histogram of ads selections')\n",
        "plt.xlabel('Ads')\n",
        "plt.ylabel('Number of times each ad was selected')\n",
        "plt.show()"
      ],
      "execution_count": 8,
      "outputs": [
        {
          "output_type": "display_data",
          "data": {
            "image/png": "[encoded data removed]",
            "text/plain": [
              "<matplotlib.figure.Figure at 0x7fc2a2483400>"
            ]
          },
          "metadata": {
            "tags": []
          }
        }
      ]
    }
  ]
}