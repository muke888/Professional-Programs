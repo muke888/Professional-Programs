{
  "nbformat": 4,
  "nbformat_minor": 0,
  "metadata": {
    "colab": {
      "name": "ANN.ipynb",
      "version": "0.3.2",
      "provenance": [],
      "collapsed_sections": []
    },
    "kernelspec": {
      "name": "python3",
      "display_name": "Python 3"
    }
  },
  "cells": [
    {
      "metadata": {
        "id": "hW4AZe8yyuFA",
        "colab_type": "code",
        "outputId": "bcd04de3-ba6a-43b6-e855-bebd2efed5f6",
        "colab": {
          "base_uri": "https://localhost:8080/",
          "height": 67
        }
      },
      "cell_type": "code",
      "source": [
        "# Artificial Neural Network\n",
        "\n",
        "# Installing Theano\n",
        "# pip install --upgrade --no-deps git+git://github.com/Theano/Theano.git\n",
        "\n",
        "# Installing Tensorflow\n",
        "# Install Tensorflow from the website: https://www.tensorflow.org/\n",
        "# Installing Keras\n",
        "# pip install --upgrade keras\n",
        "\n",
        "# Part 1 - Data Preprocessing\n",
        "\n",
        "# Importing the libraries\n",
        "import numpy as np\n",
        "import matplotlib.pyplot as plt\n",
        "import pandas as pd\n",
        "\n",
        "# Importing the dataset\n",
        "!curl https://raw.githubusercontent.com/muke888/UdemyMachineLearning/master/Part8-1.Deep%20Learning/Churn_Modelling.csv -o Churn_Modelling.csv"
      ],
      "execution_count": 1,
      "outputs": [
        {
          "output_type": "stream",
          "text": [
            "  % Total    % Received % Xferd  Average Speed   Time    Time     Time  Current\n",
            "                                 Dload  Upload   Total   Spent    Left  Speed\n",
            "\r  0     0    0     0    0     0      0      0 --:--:-- --:--:-- --:--:--     0\r100  668k  100  668k    0     0  2504k      0 --:--:-- --:--:-- --:--:-- 2504k\n"
          ],
          "name": "stdout"
        }
      ]
    },
    {
      "metadata": {
        "id": "pum2C8aasuUo",
        "colab_type": "code",
        "colab": {
          "base_uri": "https://localhost:8080/",
          "height": 514
        },
        "outputId": "c065d312-e902-4023-b6d3-b801806cb3fa"
      },
      "cell_type": "code",
      "source": [
        "# Importing the dataset, predicting customer churn\n",
        "dataset = pd.read_csv('Churn_Modelling.csv')\n",
        "X = dataset.iloc[:, 3:13].values #exclude first 3 columns as irrelevant\n",
        "y = dataset.iloc[:, 13].values\n",
        "dataset.info()\n",
        "dataset.head()"
      ],
      "execution_count": 2,
      "outputs": [
        {
          "output_type": "stream",
          "text": [
            "<class 'pandas.core.frame.DataFrame'>\n",
            "RangeIndex: 10000 entries, 0 to 9999\n",
            "Data columns (total 14 columns):\n",
            "RowNumber          10000 non-null int64\n",
            "CustomerId         10000 non-null int64\n",
            "Surname            10000 non-null object\n",
            "CreditScore        10000 non-null int64\n",
            "Geography          10000 non-null object\n",
            "Gender             10000 non-null object\n",
            "Age                10000 non-null int64\n",
            "Tenure             10000 non-null int64\n",
            "Balance            10000 non-null float64\n",
            "NumOfProducts      10000 non-null int64\n",
            "HasCrCard          10000 non-null int64\n",
            "IsActiveMember     10000 non-null int64\n",
            "EstimatedSalary    10000 non-null float64\n",
            "Exited             10000 non-null int64\n",
            "dtypes: float64(2), int64(9), object(3)\n",
            "memory usage: 1.1+ MB\n"
          ],
          "name": "stdout"
        },
        {
          "output_type": "execute_result",
          "data": {
            "text/html": [
              "<div>\n",
              "<style scoped>\n",
              "    .dataframe tbody tr th:only-of-type {\n",
              "        vertical-align: middle;\n",
              "    }\n",
              "\n",
              "    .dataframe tbody tr th {\n",
              "        vertical-align: top;\n",
              "    }\n",
              "\n",
              "    .dataframe thead th {\n",
              "        text-align: right;\n",
              "    }\n",
              "</style>\n",
              "<table border=\"1\" class=\"dataframe\">\n",
              "  <thead>\n",
              "    <tr style=\"text-align: right;\">\n",
              "      <th></th>\n",
              "      <th>RowNumber</th>\n",
              "      <th>CustomerId</th>\n",
              "      <th>Surname</th>\n",
              "      <th>CreditScore</th>\n",
              "      <th>Geography</th>\n",
              "      <th>Gender</th>\n",
              "      <th>Age</th>\n",
              "      <th>Tenure</th>\n",
              "      <th>Balance</th>\n",
              "      <th>NumOfProducts</th>\n",
              "      <th>HasCrCard</th>\n",
              "      <th>IsActiveMember</th>\n",
              "      <th>EstimatedSalary</th>\n",
              "      <th>Exited</th>\n",
              "    </tr>\n",
              "  </thead>\n",
              "  <tbody>\n",
              "    <tr>\n",
              "      <th>0</th>\n",
              "      <td>1</td>\n",
              "      <td>15634602</td>\n",
              "      <td>Hargrave</td>\n",
              "      <td>619</td>\n",
              "      <td>France</td>\n",
              "      <td>Female</td>\n",
              "      <td>42</td>\n",
              "      <td>2</td>\n",
              "      <td>0.00</td>\n",
              "      <td>1</td>\n",
              "      <td>1</td>\n",
              "      <td>1</td>\n",
              "      <td>101348.88</td>\n",
              "      <td>1</td>\n",
              "    </tr>\n",
              "    <tr>\n",
              "      <th>1</th>\n",
              "      <td>2</td>\n",
              "      <td>15647311</td>\n",
              "      <td>Hill</td>\n",
              "      <td>608</td>\n",
              "      <td>Spain</td>\n",
              "      <td>Female</td>\n",
              "      <td>41</td>\n",
              "      <td>1</td>\n",
              "      <td>83807.86</td>\n",
              "      <td>1</td>\n",
              "      <td>0</td>\n",
              "      <td>1</td>\n",
              "      <td>112542.58</td>\n",
              "      <td>0</td>\n",
              "    </tr>\n",
              "    <tr>\n",
              "      <th>2</th>\n",
              "      <td>3</td>\n",
              "      <td>15619304</td>\n",
              "      <td>Onio</td>\n",
              "      <td>502</td>\n",
              "      <td>France</td>\n",
              "      <td>Female</td>\n",
              "      <td>42</td>\n",
              "      <td>8</td>\n",
              "      <td>159660.80</td>\n",
              "      <td>3</td>\n",
              "      <td>1</td>\n",
              "      <td>0</td>\n",
              "      <td>113931.57</td>\n",
              "      <td>1</td>\n",
              "    </tr>\n",
              "    <tr>\n",
              "      <th>3</th>\n",
              "      <td>4</td>\n",
              "      <td>15701354</td>\n",
              "      <td>Boni</td>\n",
              "      <td>699</td>\n",
              "      <td>France</td>\n",
              "      <td>Female</td>\n",
              "      <td>39</td>\n",
              "      <td>1</td>\n",
              "      <td>0.00</td>\n",
              "      <td>2</td>\n",
              "      <td>0</td>\n",
              "      <td>0</td>\n",
              "      <td>93826.63</td>\n",
              "      <td>0</td>\n",
              "    </tr>\n",
              "    <tr>\n",
              "      <th>4</th>\n",
              "      <td>5</td>\n",
              "      <td>15737888</td>\n",
              "      <td>Mitchell</td>\n",
              "      <td>850</td>\n",
              "      <td>Spain</td>\n",
              "      <td>Female</td>\n",
              "      <td>43</td>\n",
              "      <td>2</td>\n",
              "      <td>125510.82</td>\n",
              "      <td>1</td>\n",
              "      <td>1</td>\n",
              "      <td>1</td>\n",
              "      <td>79084.10</td>\n",
              "      <td>0</td>\n",
              "    </tr>\n",
              "  </tbody>\n",
              "</table>\n",
              "</div>"
            ],
            "text/plain": [
              "   RowNumber  CustomerId   Surname  CreditScore Geography  Gender  Age  \\\n",
              "0          1    15634602  Hargrave          619    France  Female   42   \n",
              "1          2    15647311      Hill          608     Spain  Female   41   \n",
              "2          3    15619304      Onio          502    France  Female   42   \n",
              "3          4    15701354      Boni          699    France  Female   39   \n",
              "4          5    15737888  Mitchell          850     Spain  Female   43   \n",
              "\n",
              "   Tenure    Balance  NumOfProducts  HasCrCard  IsActiveMember  \\\n",
              "0       2       0.00              1          1               1   \n",
              "1       1   83807.86              1          0               1   \n",
              "2       8  159660.80              3          1               0   \n",
              "3       1       0.00              2          0               0   \n",
              "4       2  125510.82              1          1               1   \n",
              "\n",
              "   EstimatedSalary  Exited  \n",
              "0        101348.88       1  \n",
              "1        112542.58       0  \n",
              "2        113931.57       1  \n",
              "3         93826.63       0  \n",
              "4         79084.10       0  "
            ]
          },
          "metadata": {
            "tags": []
          },
          "execution_count": 2
        }
      ]
    },
    {
      "metadata": {
        "id": "c_vQZqP5suZm",
        "colab_type": "code",
        "colab": {
          "base_uri": "https://localhost:8080/",
          "height": 134
        },
        "outputId": "d1347e3f-539a-4eaf-c031-c02e748193d5"
      },
      "cell_type": "code",
      "source": [
        "# Encoding categorical data - Geography & Gender\n",
        "from sklearn.preprocessing import LabelEncoder\n",
        "labelencoder_X_1 = LabelEncoder()\n",
        "X[:, 1] = labelencoder_X_1.fit_transform(X[:, 1])\n",
        "labelencoder_X_2 = LabelEncoder()\n",
        "X[:, 2] = labelencoder_X_2.fit_transform(X[:, 2])\n",
        "X"
      ],
      "execution_count": 3,
      "outputs": [
        {
          "output_type": "execute_result",
          "data": {
            "text/plain": [
              "array([[619, 0, 0, ..., 1, 1, 101348.88],\n",
              "       [608, 2, 0, ..., 0, 1, 112542.58],\n",
              "       [502, 0, 0, ..., 1, 0, 113931.57],\n",
              "       ...,\n",
              "       [709, 0, 0, ..., 0, 1, 42085.58],\n",
              "       [772, 1, 1, ..., 1, 0, 92888.52],\n",
              "       [792, 0, 0, ..., 1, 0, 38190.78]], dtype=object)"
            ]
          },
          "metadata": {
            "tags": []
          },
          "execution_count": 3
        }
      ]
    },
    {
      "metadata": {
        "id": "Oj5asPwcsubv",
        "colab_type": "code",
        "colab": {
          "base_uri": "https://localhost:8080/",
          "height": 34
        },
        "outputId": "15fc7aaf-d73d-48ca-c3a4-d64d243b2170"
      },
      "cell_type": "code",
      "source": [
        "# Encoding Geography to dummy variables as more than 2 categories\n",
        "\n",
        "from sklearn.preprocessing import OneHotEncoder\n",
        "from sklearn.compose import ColumnTransformer, make_column_transformer\n",
        "\n",
        "\n",
        "columntransformer = make_column_transformer(\n",
        "(OneHotEncoder(categories='auto'), [1]),\n",
        "    remainder='passthrough'\n",
        ")\n",
        "X = columntransformer.fit_transform(X)\n",
        "X = X[:, 1:] #removing dummy trap\n",
        "X[0,:]"
      ],
      "execution_count": 4,
      "outputs": [
        {
          "output_type": "execute_result",
          "data": {
            "text/plain": [
              "array([0.0, 0.0, 619, 0, 42, 2, 0.0, 1, 1, 1, 101348.88], dtype=object)"
            ]
          },
          "metadata": {
            "tags": []
          },
          "execution_count": 4
        }
      ]
    },
    {
      "metadata": {
        "id": "YeNNVjQisueG",
        "colab_type": "code",
        "colab": {
          "base_uri": "https://localhost:8080/",
          "height": 134
        },
        "outputId": "4e21588b-8048-43b6-d16c-29306cef3939"
      },
      "cell_type": "code",
      "source": [
        "# Splitting the dataset into the Training set and Test set\n",
        "from sklearn.model_selection import train_test_split\n",
        "X_train, X_test, y_train, y_test = train_test_split(X, y, test_size = 0.2, random_state = 0)\n",
        "\n",
        "X_train"
      ],
      "execution_count": 5,
      "outputs": [
        {
          "output_type": "execute_result",
          "data": {
            "text/plain": [
              "array([[0.0, 1.0, 667, ..., 1, 0, 163830.64],\n",
              "       [1.0, 0.0, 427, ..., 1, 1, 57098.0],\n",
              "       [0.0, 0.0, 535, ..., 1, 0, 185630.76],\n",
              "       ...,\n",
              "       [0.0, 0.0, 738, ..., 1, 0, 181429.87],\n",
              "       [0.0, 1.0, 590, ..., 1, 1, 148750.16],\n",
              "       [1.0, 0.0, 623, ..., 1, 0, 118855.26]], dtype=object)"
            ]
          },
          "metadata": {
            "tags": []
          },
          "execution_count": 5
        }
      ]
    },
    {
      "metadata": {
        "id": "_LisXuJ6sugb",
        "colab_type": "code",
        "colab": {
          "base_uri": "https://localhost:8080/",
          "height": 336
        },
        "outputId": "57e081ee-1a5a-4426-dd09-a56e3eb52bd5"
      },
      "cell_type": "code",
      "source": [
        "# Feature Scaling\n",
        "from sklearn.preprocessing import StandardScaler\n",
        "sc = StandardScaler()\n",
        "X_train = sc.fit_transform(X_train)\n",
        "X_test = sc.transform(X_test)\n",
        "X_train"
      ],
      "execution_count": 6,
      "outputs": [
        {
          "output_type": "stream",
          "text": [
            "/usr/local/lib/python3.6/dist-packages/sklearn/utils/validation.py:595: DataConversionWarning: Data with input dtype object was converted to float64 by StandardScaler.\n",
            "  warnings.warn(msg, DataConversionWarning)\n",
            "/usr/local/lib/python3.6/dist-packages/sklearn/utils/validation.py:595: DataConversionWarning: Data with input dtype object was converted to float64 by StandardScaler.\n",
            "  warnings.warn(msg, DataConversionWarning)\n",
            "/usr/local/lib/python3.6/dist-packages/sklearn/utils/validation.py:595: DataConversionWarning: Data with input dtype object was converted to float64 by StandardScaler.\n",
            "  warnings.warn(msg, DataConversionWarning)\n"
          ],
          "name": "stderr"
        },
        {
          "output_type": "execute_result",
          "data": {
            "text/plain": [
              "array([[-0.5698444 ,  1.74309049,  0.16958176, ...,  0.64259497,\n",
              "        -1.03227043,  1.10643166],\n",
              "       [ 1.75486502, -0.57369368, -2.30455945, ...,  0.64259497,\n",
              "         0.9687384 , -0.74866447],\n",
              "       [-0.5698444 , -0.57369368, -1.19119591, ...,  0.64259497,\n",
              "        -1.03227043,  1.48533467],\n",
              "       ...,\n",
              "       [-0.5698444 , -0.57369368,  0.9015152 , ...,  0.64259497,\n",
              "        -1.03227043,  1.41231994],\n",
              "       [-0.5698444 ,  1.74309049, -0.62420521, ...,  0.64259497,\n",
              "         0.9687384 ,  0.84432121],\n",
              "       [ 1.75486502, -0.57369368, -0.28401079, ...,  0.64259497,\n",
              "        -1.03227043,  0.32472465]])"
            ]
          },
          "metadata": {
            "tags": []
          },
          "execution_count": 6
        }
      ]
    },
    {
      "metadata": {
        "id": "zMb0CBFFsuip",
        "colab_type": "code",
        "colab": {
          "base_uri": "https://localhost:8080/",
          "height": 34
        },
        "outputId": "d3646736-7031-4ed8-e470-2d731893f45a"
      },
      "cell_type": "code",
      "source": [
        "# Part 2 - Now let's make the ANN!\n",
        "\n",
        "# Importing the Keras libraries and packages\n",
        "import keras\n",
        "from keras.models import Sequential\n",
        "from keras.layers import Dense"
      ],
      "execution_count": 7,
      "outputs": [
        {
          "output_type": "stream",
          "text": [
            "Using TensorFlow backend.\n"
          ],
          "name": "stderr"
        }
      ]
    },
    {
      "metadata": {
        "id": "qG08Y7kAsuk3",
        "colab_type": "code",
        "colab": {}
      },
      "cell_type": "code",
      "source": [
        "# Initialising the ANN\n",
        "classifier = Sequential()"
      ],
      "execution_count": 0,
      "outputs": []
    },
    {
      "metadata": {
        "id": "9s5WGr3mxGLq",
        "colab_type": "code",
        "colab": {
          "base_uri": "https://localhost:8080/",
          "height": 138
        },
        "outputId": "4a29f512-5b38-47b0-8252-fdff76c898db"
      },
      "cell_type": "code",
      "source": [
        "# Adding the input layer and hidden layers\n",
        "# Rule of thumb for nodes is average no. features: (11inputs+1output)/2=6\n",
        "\n",
        "classifier.add(Dense(output_dim = 6, init = 'uniform', activation = 'relu', input_dim = 11))\n",
        "\n",
        "# Adding the second hidden layer\n",
        "classifier.add(Dense(output_dim = 6, init = 'uniform', activation = 'relu'))\n",
        "\n",
        "# Adding the output layer\n",
        "classifier.add(Dense(output_dim = 1, init = 'uniform', activation = 'sigmoid'))\n",
        "\n",
        "# Compiling the ANN use 'binary_crossentropy' or 'categorical_crossentropy'\n",
        "classifier.compile(optimizer = 'adam', loss = 'binary_crossentropy', metrics = ['accuracy'])"
      ],
      "execution_count": 9,
      "outputs": [
        {
          "output_type": "stream",
          "text": [
            "/usr/local/lib/python3.6/dist-packages/ipykernel_launcher.py:2: UserWarning: Update your `Dense` call to the Keras 2 API: `Dense(activation=\"relu\", input_dim=11, units=6, kernel_initializer=\"uniform\")`\n",
            "  \n",
            "/usr/local/lib/python3.6/dist-packages/ipykernel_launcher.py:5: UserWarning: Update your `Dense` call to the Keras 2 API: `Dense(activation=\"relu\", units=6, kernel_initializer=\"uniform\")`\n",
            "  \"\"\"\n",
            "/usr/local/lib/python3.6/dist-packages/ipykernel_launcher.py:8: UserWarning: Update your `Dense` call to the Keras 2 API: `Dense(activation=\"sigmoid\", units=1, kernel_initializer=\"uniform\")`\n",
            "  \n"
          ],
          "name": "stderr"
        }
      ]
    },
    {
      "metadata": {
        "id": "S9ZjI-1__NvM",
        "colab_type": "code",
        "colab": {
          "base_uri": "https://localhost:8080/",
          "height": 218
        },
        "outputId": "91a77071-fa22-46cd-a32c-547822a9fd94"
      },
      "cell_type": "code",
      "source": [
        "import time\n",
        "\n",
        "_start_time = time.time()\n",
        "\n",
        "def tic():\n",
        "    global _start_time \n",
        "    _start_time = time.time()\n",
        "\n",
        "def tac():\n",
        "    t_sec = round(time.time() - _start_time)\n",
        "    (t_min, t_sec) = divmod(t_sec,60)\n",
        "    (t_hour,t_min) = divmod(t_min,60) \n",
        "    print('Time passed: {}hour:{}min:{}sec'.format(t_hour,t_min,t_sec))\n",
        "    \n",
        "    \n",
        "import tensorflow as tf\n",
        "tf.test.gpu_device_name()\n",
        "from tensorflow.python.client import device_lib\n",
        "device_lib.list_local_devices()"
      ],
      "execution_count": 10,
      "outputs": [
        {
          "output_type": "execute_result",
          "data": {
            "text/plain": [
              "[name: \"/device:CPU:0\"\n",
              " device_type: \"CPU\"\n",
              " memory_limit: 268435456\n",
              " locality {\n",
              " }\n",
              " incarnation: 7037865110753257399, name: \"/device:XLA_CPU:0\"\n",
              " device_type: \"XLA_CPU\"\n",
              " memory_limit: 17179869184\n",
              " locality {\n",
              " }\n",
              " incarnation: 12516245280823237448\n",
              " physical_device_desc: \"device: XLA_CPU device\"]"
            ]
          },
          "metadata": {
            "tags": []
          },
          "execution_count": 10
        }
      ]
    },
    {
      "metadata": {
        "id": "6wEWeXXOyRL_",
        "colab_type": "code",
        "colab": {
          "base_uri": "https://localhost:8080/",
          "height": 3410
        },
        "outputId": "742c9914-95cd-4da4-85d0-9e667b3049e0"
      },
      "cell_type": "code",
      "source": [
        "# Fitting the ANN to the Training set, using minibatch stochastic gradient descent\n",
        "tic()\n",
        "\n",
        "classifier.fit(X_train, y_train, batch_size = 10, epochs = 100, verbose=1,\n",
        "          validation_data=(X_test, y_test))\n",
        "\n",
        "tac()"
      ],
      "execution_count": 11,
      "outputs": [
        {
          "output_type": "stream",
          "text": [
            "Train on 8000 samples, validate on 2000 samples\n",
            "Epoch 1/100\n",
            "8000/8000 [==============================] - 1s 133us/step - loss: 0.5030 - acc: 0.7956 - val_loss: 0.4319 - val_acc: 0.7975\n",
            "Epoch 2/100\n",
            "8000/8000 [==============================] - 1s 106us/step - loss: 0.4300 - acc: 0.7960 - val_loss: 0.4261 - val_acc: 0.7975\n",
            "Epoch 3/100\n",
            "8000/8000 [==============================] - 1s 106us/step - loss: 0.4249 - acc: 0.7960 - val_loss: 0.4205 - val_acc: 0.7975\n",
            "Epoch 4/100\n",
            "8000/8000 [==============================] - 1s 105us/step - loss: 0.4212 - acc: 0.7971 - val_loss: 0.4174 - val_acc: 0.8250\n",
            "Epoch 5/100\n",
            "8000/8000 [==============================] - 1s 102us/step - loss: 0.4180 - acc: 0.8169 - val_loss: 0.4150 - val_acc: 0.8305\n",
            "Epoch 6/100\n",
            "8000/8000 [==============================] - 1s 105us/step - loss: 0.4159 - acc: 0.8255 - val_loss: 0.4121 - val_acc: 0.8355\n",
            "Epoch 7/100\n",
            "8000/8000 [==============================] - 1s 104us/step - loss: 0.4139 - acc: 0.8289 - val_loss: 0.4113 - val_acc: 0.8355\n",
            "Epoch 8/100\n",
            "8000/8000 [==============================] - 1s 104us/step - loss: 0.4127 - acc: 0.8300 - val_loss: 0.4084 - val_acc: 0.8365\n",
            "Epoch 9/100\n",
            "8000/8000 [==============================] - 1s 104us/step - loss: 0.4114 - acc: 0.8321 - val_loss: 0.4081 - val_acc: 0.8380\n",
            "Epoch 10/100\n",
            "8000/8000 [==============================] - 1s 103us/step - loss: 0.4103 - acc: 0.8330 - val_loss: 0.4081 - val_acc: 0.8400\n",
            "Epoch 11/100\n",
            "8000/8000 [==============================] - 1s 103us/step - loss: 0.4093 - acc: 0.8326 - val_loss: 0.4062 - val_acc: 0.8425\n",
            "Epoch 12/100\n",
            "8000/8000 [==============================] - 1s 102us/step - loss: 0.4083 - acc: 0.8339 - val_loss: 0.4048 - val_acc: 0.8390\n",
            "Epoch 13/100\n",
            "8000/8000 [==============================] - 1s 105us/step - loss: 0.4076 - acc: 0.8339 - val_loss: 0.4058 - val_acc: 0.8410\n",
            "Epoch 14/100\n",
            "8000/8000 [==============================] - 1s 104us/step - loss: 0.4074 - acc: 0.8337 - val_loss: 0.4035 - val_acc: 0.8415\n",
            "Epoch 15/100\n",
            "8000/8000 [==============================] - 1s 104us/step - loss: 0.4064 - acc: 0.8336 - val_loss: 0.4034 - val_acc: 0.8415\n",
            "Epoch 16/100\n",
            "8000/8000 [==============================] - 1s 106us/step - loss: 0.4059 - acc: 0.8332 - val_loss: 0.4028 - val_acc: 0.8415\n",
            "Epoch 17/100\n",
            "8000/8000 [==============================] - 1s 105us/step - loss: 0.4043 - acc: 0.8347 - val_loss: 0.4000 - val_acc: 0.8375\n",
            "Epoch 18/100\n",
            "8000/8000 [==============================] - 1s 103us/step - loss: 0.4040 - acc: 0.8340 - val_loss: 0.3995 - val_acc: 0.8405\n",
            "Epoch 19/100\n",
            "8000/8000 [==============================] - 1s 103us/step - loss: 0.4025 - acc: 0.8345 - val_loss: 0.3976 - val_acc: 0.8405\n",
            "Epoch 20/100\n",
            "8000/8000 [==============================] - 1s 105us/step - loss: 0.4017 - acc: 0.8357 - val_loss: 0.3961 - val_acc: 0.8410\n",
            "Epoch 21/100\n",
            "8000/8000 [==============================] - 1s 106us/step - loss: 0.4006 - acc: 0.8347 - val_loss: 0.3951 - val_acc: 0.8455\n",
            "Epoch 22/100\n",
            "8000/8000 [==============================] - 1s 103us/step - loss: 0.4002 - acc: 0.8352 - val_loss: 0.3964 - val_acc: 0.8410\n",
            "Epoch 23/100\n",
            "8000/8000 [==============================] - 1s 104us/step - loss: 0.3993 - acc: 0.8362 - val_loss: 0.3944 - val_acc: 0.8435\n",
            "Epoch 24/100\n",
            "8000/8000 [==============================] - 1s 104us/step - loss: 0.3989 - acc: 0.8349 - val_loss: 0.3955 - val_acc: 0.8430\n",
            "Epoch 25/100\n",
            "8000/8000 [==============================] - 1s 102us/step - loss: 0.3980 - acc: 0.8351 - val_loss: 0.3950 - val_acc: 0.8420\n",
            "Epoch 26/100\n",
            "8000/8000 [==============================] - 1s 102us/step - loss: 0.3979 - acc: 0.8356 - val_loss: 0.3937 - val_acc: 0.8435\n",
            "Epoch 27/100\n",
            "8000/8000 [==============================] - 1s 103us/step - loss: 0.3972 - acc: 0.8367 - val_loss: 0.3955 - val_acc: 0.8430\n",
            "Epoch 28/100\n",
            "8000/8000 [==============================] - 1s 103us/step - loss: 0.3966 - acc: 0.8369 - val_loss: 0.3951 - val_acc: 0.8415\n",
            "Epoch 29/100\n",
            "8000/8000 [==============================] - 1s 105us/step - loss: 0.3964 - acc: 0.8352 - val_loss: 0.3921 - val_acc: 0.8430\n",
            "Epoch 30/100\n",
            "8000/8000 [==============================] - 1s 103us/step - loss: 0.3964 - acc: 0.8362 - val_loss: 0.3921 - val_acc: 0.8415\n",
            "Epoch 31/100\n",
            "8000/8000 [==============================] - 1s 104us/step - loss: 0.3965 - acc: 0.8346 - val_loss: 0.3927 - val_acc: 0.8440\n",
            "Epoch 32/100\n",
            "8000/8000 [==============================] - 1s 105us/step - loss: 0.3959 - acc: 0.8342 - val_loss: 0.3930 - val_acc: 0.8450\n",
            "Epoch 33/100\n",
            "8000/8000 [==============================] - 1s 105us/step - loss: 0.3958 - acc: 0.8367 - val_loss: 0.3934 - val_acc: 0.8430\n",
            "Epoch 34/100\n",
            "8000/8000 [==============================] - 1s 105us/step - loss: 0.3955 - acc: 0.8346 - val_loss: 0.3932 - val_acc: 0.8455\n",
            "Epoch 35/100\n",
            "8000/8000 [==============================] - 1s 106us/step - loss: 0.3954 - acc: 0.8366 - val_loss: 0.3933 - val_acc: 0.8465\n",
            "Epoch 36/100\n",
            "8000/8000 [==============================] - 1s 105us/step - loss: 0.3948 - acc: 0.8367 - val_loss: 0.3926 - val_acc: 0.8455\n",
            "Epoch 37/100\n",
            "8000/8000 [==============================] - 1s 104us/step - loss: 0.3946 - acc: 0.8364 - val_loss: 0.3953 - val_acc: 0.8460\n",
            "Epoch 38/100\n",
            "8000/8000 [==============================] - 1s 105us/step - loss: 0.3948 - acc: 0.8351 - val_loss: 0.3925 - val_acc: 0.8445\n",
            "Epoch 39/100\n",
            "8000/8000 [==============================] - 1s 103us/step - loss: 0.3944 - acc: 0.8371 - val_loss: 0.3920 - val_acc: 0.8480\n",
            "Epoch 40/100\n",
            "8000/8000 [==============================] - 1s 105us/step - loss: 0.3944 - acc: 0.8367 - val_loss: 0.3944 - val_acc: 0.8460\n",
            "Epoch 41/100\n",
            "8000/8000 [==============================] - 1s 106us/step - loss: 0.3946 - acc: 0.8367 - val_loss: 0.3930 - val_acc: 0.8490\n",
            "Epoch 42/100\n",
            "8000/8000 [==============================] - 1s 103us/step - loss: 0.3943 - acc: 0.8370 - val_loss: 0.3943 - val_acc: 0.8460\n",
            "Epoch 43/100\n",
            "8000/8000 [==============================] - 1s 104us/step - loss: 0.3941 - acc: 0.8362 - val_loss: 0.3943 - val_acc: 0.8450\n",
            "Epoch 44/100\n",
            "8000/8000 [==============================] - 1s 104us/step - loss: 0.3940 - acc: 0.8364 - val_loss: 0.3953 - val_acc: 0.8450\n",
            "Epoch 45/100\n",
            "8000/8000 [==============================] - 1s 104us/step - loss: 0.3939 - acc: 0.8381 - val_loss: 0.3918 - val_acc: 0.8480\n",
            "Epoch 46/100\n",
            "8000/8000 [==============================] - 1s 106us/step - loss: 0.3928 - acc: 0.8379 - val_loss: 0.3916 - val_acc: 0.8440\n",
            "Epoch 47/100\n",
            "8000/8000 [==============================] - 1s 107us/step - loss: 0.3921 - acc: 0.8372 - val_loss: 0.3926 - val_acc: 0.8450\n",
            "Epoch 48/100\n",
            "8000/8000 [==============================] - 1s 105us/step - loss: 0.3901 - acc: 0.8391 - val_loss: 0.3939 - val_acc: 0.8405\n",
            "Epoch 49/100\n",
            "8000/8000 [==============================] - 1s 102us/step - loss: 0.3889 - acc: 0.8394 - val_loss: 0.3857 - val_acc: 0.8450\n",
            "Epoch 50/100\n",
            "8000/8000 [==============================] - 1s 106us/step - loss: 0.3865 - acc: 0.8400 - val_loss: 0.3832 - val_acc: 0.8455\n",
            "Epoch 51/100\n",
            "8000/8000 [==============================] - 1s 104us/step - loss: 0.3831 - acc: 0.8431 - val_loss: 0.3791 - val_acc: 0.8445\n",
            "Epoch 52/100\n",
            "8000/8000 [==============================] - 1s 105us/step - loss: 0.3792 - acc: 0.8429 - val_loss: 0.3752 - val_acc: 0.8440\n",
            "Epoch 53/100\n",
            "8000/8000 [==============================] - 1s 103us/step - loss: 0.3747 - acc: 0.8434 - val_loss: 0.3714 - val_acc: 0.8445\n",
            "Epoch 54/100\n",
            "8000/8000 [==============================] - 1s 103us/step - loss: 0.3705 - acc: 0.8445 - val_loss: 0.3700 - val_acc: 0.8425\n",
            "Epoch 55/100\n",
            "8000/8000 [==============================] - 1s 103us/step - loss: 0.3672 - acc: 0.8474 - val_loss: 0.3615 - val_acc: 0.8475\n",
            "Epoch 56/100\n",
            "8000/8000 [==============================] - 1s 106us/step - loss: 0.3632 - acc: 0.8492 - val_loss: 0.3582 - val_acc: 0.8515\n",
            "Epoch 57/100\n",
            "8000/8000 [==============================] - 1s 106us/step - loss: 0.3611 - acc: 0.8496 - val_loss: 0.3549 - val_acc: 0.8450\n",
            "Epoch 58/100\n",
            "8000/8000 [==============================] - 1s 102us/step - loss: 0.3578 - acc: 0.8521 - val_loss: 0.3530 - val_acc: 0.8515\n",
            "Epoch 59/100\n",
            "8000/8000 [==============================] - 1s 103us/step - loss: 0.3564 - acc: 0.8537 - val_loss: 0.3491 - val_acc: 0.8515\n",
            "Epoch 60/100\n",
            "8000/8000 [==============================] - 1s 103us/step - loss: 0.3537 - acc: 0.8534 - val_loss: 0.3570 - val_acc: 0.8480\n",
            "Epoch 61/100\n",
            "8000/8000 [==============================] - 1s 106us/step - loss: 0.3529 - acc: 0.8540 - val_loss: 0.3509 - val_acc: 0.8500\n",
            "Epoch 62/100\n",
            "8000/8000 [==============================] - 1s 105us/step - loss: 0.3517 - acc: 0.8539 - val_loss: 0.3490 - val_acc: 0.8495\n",
            "Epoch 63/100\n",
            "8000/8000 [==============================] - 1s 105us/step - loss: 0.3509 - acc: 0.8567 - val_loss: 0.3467 - val_acc: 0.8495\n",
            "Epoch 64/100\n",
            "8000/8000 [==============================] - 1s 103us/step - loss: 0.3503 - acc: 0.8564 - val_loss: 0.3453 - val_acc: 0.8530\n",
            "Epoch 65/100\n",
            "8000/8000 [==============================] - 1s 102us/step - loss: 0.3494 - acc: 0.8549 - val_loss: 0.3440 - val_acc: 0.8560\n",
            "Epoch 66/100\n",
            "8000/8000 [==============================] - 1s 103us/step - loss: 0.3493 - acc: 0.8562 - val_loss: 0.3460 - val_acc: 0.8530\n",
            "Epoch 67/100\n",
            "8000/8000 [==============================] - 1s 102us/step - loss: 0.3481 - acc: 0.8575 - val_loss: 0.3458 - val_acc: 0.8515\n",
            "Epoch 68/100\n",
            "8000/8000 [==============================] - 1s 103us/step - loss: 0.3477 - acc: 0.8559 - val_loss: 0.3439 - val_acc: 0.8550\n",
            "Epoch 69/100\n",
            "8000/8000 [==============================] - 1s 104us/step - loss: 0.3476 - acc: 0.8569 - val_loss: 0.3424 - val_acc: 0.8515\n",
            "Epoch 70/100\n",
            "8000/8000 [==============================] - 1s 104us/step - loss: 0.3472 - acc: 0.8564 - val_loss: 0.3452 - val_acc: 0.8540\n",
            "Epoch 71/100\n",
            "8000/8000 [==============================] - 1s 102us/step - loss: 0.3467 - acc: 0.8561 - val_loss: 0.3490 - val_acc: 0.8465\n",
            "Epoch 72/100\n",
            "8000/8000 [==============================] - 1s 104us/step - loss: 0.3465 - acc: 0.8595 - val_loss: 0.3385 - val_acc: 0.8560\n",
            "Epoch 73/100\n",
            "8000/8000 [==============================] - 1s 106us/step - loss: 0.3454 - acc: 0.8569 - val_loss: 0.3413 - val_acc: 0.8555\n",
            "Epoch 74/100\n",
            "8000/8000 [==============================] - 1s 105us/step - loss: 0.3442 - acc: 0.8569 - val_loss: 0.3485 - val_acc: 0.8455\n",
            "Epoch 75/100\n",
            "8000/8000 [==============================] - 1s 104us/step - loss: 0.3443 - acc: 0.8577 - val_loss: 0.3472 - val_acc: 0.8525\n",
            "Epoch 76/100\n",
            "8000/8000 [==============================] - 1s 105us/step - loss: 0.3438 - acc: 0.8595 - val_loss: 0.3417 - val_acc: 0.8570\n",
            "Epoch 77/100\n",
            "8000/8000 [==============================] - 1s 105us/step - loss: 0.3437 - acc: 0.8580 - val_loss: 0.3397 - val_acc: 0.8530\n",
            "Epoch 78/100\n",
            "8000/8000 [==============================] - 1s 103us/step - loss: 0.3428 - acc: 0.8572 - val_loss: 0.3425 - val_acc: 0.8480\n",
            "Epoch 79/100\n",
            "8000/8000 [==============================] - 1s 105us/step - loss: 0.3425 - acc: 0.8599 - val_loss: 0.3373 - val_acc: 0.8590\n",
            "Epoch 80/100\n",
            "8000/8000 [==============================] - 1s 105us/step - loss: 0.3419 - acc: 0.8592 - val_loss: 0.3369 - val_acc: 0.8530\n",
            "Epoch 81/100\n",
            "8000/8000 [==============================] - 1s 104us/step - loss: 0.3411 - acc: 0.8600 - val_loss: 0.3392 - val_acc: 0.8540\n",
            "Epoch 82/100\n",
            "8000/8000 [==============================] - 1s 107us/step - loss: 0.3414 - acc: 0.8594 - val_loss: 0.3391 - val_acc: 0.8550\n",
            "Epoch 83/100\n",
            "8000/8000 [==============================] - 1s 104us/step - loss: 0.3411 - acc: 0.8596 - val_loss: 0.3353 - val_acc: 0.8560\n",
            "Epoch 84/100\n",
            "8000/8000 [==============================] - 1s 103us/step - loss: 0.3412 - acc: 0.8634 - val_loss: 0.3401 - val_acc: 0.8550\n",
            "Epoch 85/100\n",
            "8000/8000 [==============================] - 1s 103us/step - loss: 0.3404 - acc: 0.8614 - val_loss: 0.3377 - val_acc: 0.8610\n",
            "Epoch 86/100\n",
            "8000/8000 [==============================] - 1s 104us/step - loss: 0.3401 - acc: 0.8591 - val_loss: 0.3439 - val_acc: 0.8530\n",
            "Epoch 87/100\n",
            "8000/8000 [==============================] - 1s 102us/step - loss: 0.3397 - acc: 0.8620 - val_loss: 0.3342 - val_acc: 0.8580\n",
            "Epoch 88/100\n",
            "8000/8000 [==============================] - 1s 104us/step - loss: 0.3401 - acc: 0.8620 - val_loss: 0.3397 - val_acc: 0.8565\n",
            "Epoch 89/100\n",
            "8000/8000 [==============================] - 1s 102us/step - loss: 0.3395 - acc: 0.8622 - val_loss: 0.3366 - val_acc: 0.8640\n",
            "Epoch 90/100\n",
            "8000/8000 [==============================] - 1s 104us/step - loss: 0.3395 - acc: 0.8619 - val_loss: 0.3354 - val_acc: 0.8640\n",
            "Epoch 91/100\n",
            "8000/8000 [==============================] - 1s 103us/step - loss: 0.3392 - acc: 0.8636 - val_loss: 0.3370 - val_acc: 0.8565\n",
            "Epoch 92/100\n",
            "8000/8000 [==============================] - 1s 106us/step - loss: 0.3395 - acc: 0.8615 - val_loss: 0.3351 - val_acc: 0.8595\n",
            "Epoch 93/100\n",
            "8000/8000 [==============================] - 1s 103us/step - loss: 0.3393 - acc: 0.8609 - val_loss: 0.3368 - val_acc: 0.8600\n",
            "Epoch 94/100\n",
            "8000/8000 [==============================] - 1s 104us/step - loss: 0.3386 - acc: 0.8636 - val_loss: 0.3382 - val_acc: 0.8680\n",
            "Epoch 95/100\n",
            "8000/8000 [==============================] - 1s 102us/step - loss: 0.3389 - acc: 0.8632 - val_loss: 0.3385 - val_acc: 0.8550\n",
            "Epoch 96/100\n",
            "8000/8000 [==============================] - 1s 103us/step - loss: 0.3391 - acc: 0.8621 - val_loss: 0.3394 - val_acc: 0.8540\n",
            "Epoch 97/100\n",
            "8000/8000 [==============================] - 1s 103us/step - loss: 0.3386 - acc: 0.8626 - val_loss: 0.3363 - val_acc: 0.8540\n",
            "Epoch 98/100\n",
            "8000/8000 [==============================] - 1s 103us/step - loss: 0.3389 - acc: 0.8624 - val_loss: 0.3356 - val_acc: 0.8580\n",
            "Epoch 99/100\n",
            "8000/8000 [==============================] - 1s 104us/step - loss: 0.3376 - acc: 0.8622 - val_loss: 0.3384 - val_acc: 0.8565\n",
            "Epoch 100/100\n",
            "8000/8000 [==============================] - 1s 103us/step - loss: 0.3384 - acc: 0.8609 - val_loss: 0.3351 - val_acc: 0.8570\n",
            "Time passed: 0hour:1min:24sec\n"
          ],
          "name": "stdout"
        }
      ]
    },
    {
      "metadata": {
        "id": "M6PXjKPWLknJ",
        "colab_type": "code",
        "colab": {
          "base_uri": "https://localhost:8080/",
          "height": 134
        },
        "outputId": "b990e759-d169-44ff-bc16-b7d40ca9a0cc"
      },
      "cell_type": "code",
      "source": [
        "# Predicting the Test set results\n",
        "y_pred = classifier.predict(X_test)\n",
        "y_pred = (y_pred > 0.5)\n",
        "y_pred"
      ],
      "execution_count": 16,
      "outputs": [
        {
          "output_type": "execute_result",
          "data": {
            "text/plain": [
              "array([[False],\n",
              "       [False],\n",
              "       [False],\n",
              "       ...,\n",
              "       [False],\n",
              "       [False],\n",
              "       [False]])"
            ]
          },
          "metadata": {
            "tags": []
          },
          "execution_count": 16
        }
      ]
    },
    {
      "metadata": {
        "id": "zw3jTGEfMKLy",
        "colab_type": "code",
        "colab": {
          "base_uri": "https://localhost:8080/",
          "height": 50
        },
        "outputId": "e9ddf7da-1db1-4020-d7c5-8b9c2fc15174"
      },
      "cell_type": "code",
      "source": [
        "# Making the Confusion Matrix\n",
        "from sklearn.metrics import confusion_matrix\n",
        "cm = confusion_matrix(y_test, y_pred)\n",
        "cm"
      ],
      "execution_count": 13,
      "outputs": [
        {
          "output_type": "execute_result",
          "data": {
            "text/plain": [
              "array([[1506,   89],\n",
              "       [ 197,  208]])"
            ]
          },
          "metadata": {
            "tags": []
          },
          "execution_count": 13
        }
      ]
    },
    {
      "metadata": {
        "id": "O2R59zuQMRUs",
        "colab_type": "code",
        "colab": {
          "base_uri": "https://localhost:8080/",
          "height": 34
        },
        "outputId": "e4bb8da0-f04f-41b6-d7c7-7cdd9ff04264"
      },
      "cell_type": "code",
      "source": [
        "# True Negative, False Positive, False Negative, True Positive\n",
        "tn, fp, fn, tp = cm.ravel()\n",
        "(tn, fp, fn, tp)"
      ],
      "execution_count": 14,
      "outputs": [
        {
          "output_type": "execute_result",
          "data": {
            "text/plain": [
              "(1506, 89, 197, 208)"
            ]
          },
          "metadata": {
            "tags": []
          },
          "execution_count": 14
        }
      ]
    }
  ]
}
